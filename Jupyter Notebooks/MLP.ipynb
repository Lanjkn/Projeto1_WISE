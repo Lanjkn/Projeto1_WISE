{
 "cells": [
  {
   "cell_type": "code",
   "execution_count": 1,
   "outputs": [],
   "source": [
    "import pandas as pd\n",
    "data = pd.read_csv('../dataset_customer_churn.csv', sep='^')\n",
    "data.drop(labels=['A006_REGISTRO_ANS', 'CODIGO_BENEFICIARIO', 'CLIENTE', 'CD_USUARIO', 'CODIGO_FORMA_PGTO_MENSALIDADE', 'A006_NM_PLANO', 'DIAS_ATE_REALIZAR_ALTO_CUSTO', 'CD_ASSOCIADO', 'ESTADO_CIVIL'], axis=1, inplace=True)\n",
    "is_NAN = data[data.isna().any(axis=1)]\n",
    "data.drop(is_NAN.index, axis=0, inplace=True)\n",
    "dict_replace = {\n",
    "    \"SIM\": 1,\n",
    "    \"NAO\": 0,\n",
    "    'F': 0,\n",
    "    'M': 1,\n",
    "    'DESATIVADO': 1,\n",
    "    'ATIVO': 0,\n",
    "\n",
    "}\n",
    "data.replace(dict_replace, inplace=True)\n",
    "data.drop(labels=182212, axis=0, inplace=True)\n",
    "data_dummified = pd.get_dummies(data)"
   ],
   "metadata": {
    "collapsed": false,
    "pycharm": {
     "name": "#%%\n"
    }
   }
  },
  {
   "cell_type": "code",
   "execution_count": 2,
   "outputs": [],
   "source": [
    "import numpy as np\n",
    "from sklearn.model_selection import train_test_split\n",
    "\n",
    "x = data_dummified.drop(labels=['SITUACAO'], axis=1)\n",
    "y = data_dummified['SITUACAO']\n",
    "np.random.seed(1010)\n",
    "train_x, test_x, train_y, test_y = train_test_split(x, y, test_size=0.2, stratify=y)"
   ],
   "metadata": {
    "collapsed": false,
    "pycharm": {
     "name": "#%%\n"
    }
   }
  },
  {
   "cell_type": "code",
   "execution_count": 5,
   "outputs": [],
   "source": [
    "from sklearn.neural_network import MLPClassifier\n",
    "mlp_classifier = MLPClassifier()\n",
    "mlp_classifier.fit(train_x,train_y)\n",
    "predicts_mlp = mlp_classifier.predict(test_x)"
   ],
   "metadata": {
    "collapsed": false,
    "pycharm": {
     "name": "#%%\n"
    }
   }
  },
  {
   "cell_type": "code",
   "execution_count": 6,
   "outputs": [],
   "source": [
    "from sklearn.metrics import f1_score,recall_score,accuracy_score,precision_score\n",
    "def all_scores(predicts, test_y):\n",
    "    print(f\"Accuracy Score: {accuracy_score(test_y,predicts):.3f}\\nRecall Score: {recall_score(test_y,predicts):.3f}\\nPrecision Score: {precision_score(test_y,predicts):.3f}\\nF1 Score: {f1_score(test_y,predicts):.3f}\\n\")\n",
    "def scores(validation_results):\n",
    "    media = validation_results['test_score'].mean()\n",
    "    desvio_padrao = validation_results['test_score'].std()\n",
    "    print(\"Accuracy médio {:.2f}\".format(media))\n",
    "    print(\"Intervalo [{:.2f}, {:.2f}]\".format((media - 2 * desvio_padrao), (media + 2 * desvio_padrao)))"
   ],
   "metadata": {
    "collapsed": false,
    "pycharm": {
     "name": "#%%\n"
    }
   }
  },
  {
   "cell_type": "code",
   "execution_count": 7,
   "outputs": [
    {
     "name": "stdout",
     "output_type": "stream",
     "text": [
      "Accuracy Score: 0.859\n",
      "Recall Score: 0.914\n",
      "Precision Score: 0.841\n",
      "F1 Score: 0.876\n",
      "\n"
     ]
    }
   ],
   "source": [
    "all_scores(predicts_mlp, test_y)"
   ],
   "metadata": {
    "collapsed": false,
    "pycharm": {
     "name": "#%%\n"
    }
   }
  },
  {
   "cell_type": "code",
   "execution_count": 8,
   "outputs": [
    {
     "name": "stdout",
     "output_type": "stream",
     "text": [
      "Accuracy médio 0.85\n",
      "Intervalo [0.83, 0.87]\n"
     ]
    },
    {
     "data": {
      "text/plain": "     fit_time  score_time  test_score\n0  239.757891    0.076793    0.839385\n1  116.304569    0.067819    0.838453\n2  152.074033    0.088844    0.834468\n3  201.136656    0.081781    0.851678\n4  647.134322    0.123186    0.861487\n5  929.901983    0.214939    0.854758\n6  193.558874    0.183028    0.845959\n7  608.231486    0.112686    0.859701\n8  160.082544    0.105720    0.848961\n9  266.745826    0.124668    0.845001",
      "text/html": "<div>\n<style scoped>\n    .dataframe tbody tr th:only-of-type {\n        vertical-align: middle;\n    }\n\n    .dataframe tbody tr th {\n        vertical-align: top;\n    }\n\n    .dataframe thead th {\n        text-align: right;\n    }\n</style>\n<table border=\"1\" class=\"dataframe\">\n  <thead>\n    <tr style=\"text-align: right;\">\n      <th></th>\n      <th>fit_time</th>\n      <th>score_time</th>\n      <th>test_score</th>\n    </tr>\n  </thead>\n  <tbody>\n    <tr>\n      <th>0</th>\n      <td>239.757891</td>\n      <td>0.076793</td>\n      <td>0.839385</td>\n    </tr>\n    <tr>\n      <th>1</th>\n      <td>116.304569</td>\n      <td>0.067819</td>\n      <td>0.838453</td>\n    </tr>\n    <tr>\n      <th>2</th>\n      <td>152.074033</td>\n      <td>0.088844</td>\n      <td>0.834468</td>\n    </tr>\n    <tr>\n      <th>3</th>\n      <td>201.136656</td>\n      <td>0.081781</td>\n      <td>0.851678</td>\n    </tr>\n    <tr>\n      <th>4</th>\n      <td>647.134322</td>\n      <td>0.123186</td>\n      <td>0.861487</td>\n    </tr>\n    <tr>\n      <th>5</th>\n      <td>929.901983</td>\n      <td>0.214939</td>\n      <td>0.854758</td>\n    </tr>\n    <tr>\n      <th>6</th>\n      <td>193.558874</td>\n      <td>0.183028</td>\n      <td>0.845959</td>\n    </tr>\n    <tr>\n      <th>7</th>\n      <td>608.231486</td>\n      <td>0.112686</td>\n      <td>0.859701</td>\n    </tr>\n    <tr>\n      <th>8</th>\n      <td>160.082544</td>\n      <td>0.105720</td>\n      <td>0.848961</td>\n    </tr>\n    <tr>\n      <th>9</th>\n      <td>266.745826</td>\n      <td>0.124668</td>\n      <td>0.845001</td>\n    </tr>\n  </tbody>\n</table>\n</div>"
     },
     "execution_count": 8,
     "metadata": {},
     "output_type": "execute_result"
    }
   ],
   "source": [
    "from sklearn.model_selection import cross_validate, KFold\n",
    "\n",
    "validation_results = cross_validate(mlp_classifier,x,y,cv=KFold(n_splits=5, shuffle=True))\n",
    "scores(validation_results)\n",
    "validation_results_df = pd.DataFrame(validation_results)\n",
    "validation_results_df"
   ],
   "metadata": {
    "collapsed": false,
    "pycharm": {
     "name": "#%%\n"
    }
   }
  },
  {
   "cell_type": "code",
   "execution_count": null,
   "outputs": [],
   "source": [],
   "metadata": {
    "collapsed": false,
    "pycharm": {
     "name": "#%%\n"
    }
   }
  }
 ],
 "metadata": {
  "kernelspec": {
   "display_name": "Python 3",
   "language": "python",
   "name": "python3"
  },
  "language_info": {
   "codemirror_mode": {
    "name": "ipython",
    "version": 2
   },
   "file_extension": ".py",
   "mimetype": "text/x-python",
   "name": "python",
   "nbconvert_exporter": "python",
   "pygments_lexer": "ipython2",
   "version": "2.7.6"
  }
 },
 "nbformat": 4,
 "nbformat_minor": 0
}