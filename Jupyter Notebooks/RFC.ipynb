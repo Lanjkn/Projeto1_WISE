{
 "cells": [
  {
   "cell_type": "code",
   "execution_count": null,
   "outputs": [],
   "source": [],
   "metadata": {
    "collapsed": false,
    "pycharm": {
     "name": "#%%\n"
    }
   }
  },
  {
   "cell_type": "code",
   "execution_count": 4,
   "outputs": [
    {
     "data": {
      "text/plain": "        NUM_BENEFICIARIOS_FAMILIA    SITUACAO  IDADE SEXO  QTDE_DIAS_ATIVO  \\\n17116                         2.0  DESATIVADO   43.0    F           1085.0   \n191695                        1.0  DESATIVADO   40.0    F            461.0   \n123950                        1.0       ATIVO   74.0    F           1790.0   \n213056                        4.0  DESATIVADO   57.0    F            232.0   \n239959                        6.0       ATIVO   34.0    F            564.0   \n359840                        3.0       ATIVO   45.0    F            295.0   \n91464                         3.0  DESATIVADO   41.0    F            932.0   \n316968                        1.0       ATIVO   19.0    F             70.0   \n303455                        5.0       ATIVO   54.0    M            173.0   \n264354                        1.0       ATIVO   36.0    M            161.0   \n\n        QTDE_ATENDIMENTOS  QTDE_ATO_COBERTO_EXECUTADO  \\\n17116                 0.0                         0.0   \n191695                4.0                        18.0   \n123950                0.0                         0.0   \n213056                1.0                         5.0   \n239959               10.0                        14.0   \n359840                3.0                         7.0   \n91464                 0.0                         0.0   \n316968                0.0                         0.0   \n303455                0.0                         0.0   \n264354                1.0                         5.0   \n\n        QTDE_ATO_N_COBERTO_EXECUTADO REALIZOU_ENDODONTIA_COBERTA  \\\n17116                            0.0                         NAO   \n191695                           0.0                         NAO   \n123950                           0.0                         NAO   \n213056                           0.0                         NAO   \n239959                           0.0                         NAO   \n359840                           0.0                         NAO   \n91464                            0.0                         NAO   \n316968                           0.0                         NAO   \n303455                           0.0                         NAO   \n264354                           0.0                         NAO   \n\n       REALIZOU_EXODONTIA_COBERTA REALIZOU_PROCEDIMEN_ALTO_CUSTO  \\\n17116                         NAO                            NAO   \n191695                        SIM                            NAO   \n123950                        NAO                            NAO   \n213056                        NAO                            NAO   \n239959                        SIM                            NAO   \n359840                        SIM                            NAO   \n91464                         NAO                            NAO   \n316968                        NAO                            NAO   \n303455                        NAO                            NAO   \n264354                        NAO                            NAO   \n\n       FORMA_PGTO_MENSALIDADE      PLANO  \n17116       debito automatico  703454997  \n191695                 boleto  476697161  \n123950                 boleto  475840164  \n213056                 boleto     OUTROS  \n239959         boleto digital  475441167  \n359840      cartao de credito  481484183  \n91464                  boleto  475840164  \n316968      cartao de credito  475441167  \n303455      cartao de credito  475441167  \n264354         boleto digital  475441167  ",
      "text/html": "<div>\n<style scoped>\n    .dataframe tbody tr th:only-of-type {\n        vertical-align: middle;\n    }\n\n    .dataframe tbody tr th {\n        vertical-align: top;\n    }\n\n    .dataframe thead th {\n        text-align: right;\n    }\n</style>\n<table border=\"1\" class=\"dataframe\">\n  <thead>\n    <tr style=\"text-align: right;\">\n      <th></th>\n      <th>NUM_BENEFICIARIOS_FAMILIA</th>\n      <th>SITUACAO</th>\n      <th>IDADE</th>\n      <th>SEXO</th>\n      <th>QTDE_DIAS_ATIVO</th>\n      <th>QTDE_ATENDIMENTOS</th>\n      <th>QTDE_ATO_COBERTO_EXECUTADO</th>\n      <th>QTDE_ATO_N_COBERTO_EXECUTADO</th>\n      <th>REALIZOU_ENDODONTIA_COBERTA</th>\n      <th>REALIZOU_EXODONTIA_COBERTA</th>\n      <th>REALIZOU_PROCEDIMEN_ALTO_CUSTO</th>\n      <th>FORMA_PGTO_MENSALIDADE</th>\n      <th>PLANO</th>\n    </tr>\n  </thead>\n  <tbody>\n    <tr>\n      <th>17116</th>\n      <td>2.0</td>\n      <td>DESATIVADO</td>\n      <td>43.0</td>\n      <td>F</td>\n      <td>1085.0</td>\n      <td>0.0</td>\n      <td>0.0</td>\n      <td>0.0</td>\n      <td>NAO</td>\n      <td>NAO</td>\n      <td>NAO</td>\n      <td>debito automatico</td>\n      <td>703454997</td>\n    </tr>\n    <tr>\n      <th>191695</th>\n      <td>1.0</td>\n      <td>DESATIVADO</td>\n      <td>40.0</td>\n      <td>F</td>\n      <td>461.0</td>\n      <td>4.0</td>\n      <td>18.0</td>\n      <td>0.0</td>\n      <td>NAO</td>\n      <td>SIM</td>\n      <td>NAO</td>\n      <td>boleto</td>\n      <td>476697161</td>\n    </tr>\n    <tr>\n      <th>123950</th>\n      <td>1.0</td>\n      <td>ATIVO</td>\n      <td>74.0</td>\n      <td>F</td>\n      <td>1790.0</td>\n      <td>0.0</td>\n      <td>0.0</td>\n      <td>0.0</td>\n      <td>NAO</td>\n      <td>NAO</td>\n      <td>NAO</td>\n      <td>boleto</td>\n      <td>475840164</td>\n    </tr>\n    <tr>\n      <th>213056</th>\n      <td>4.0</td>\n      <td>DESATIVADO</td>\n      <td>57.0</td>\n      <td>F</td>\n      <td>232.0</td>\n      <td>1.0</td>\n      <td>5.0</td>\n      <td>0.0</td>\n      <td>NAO</td>\n      <td>NAO</td>\n      <td>NAO</td>\n      <td>boleto</td>\n      <td>OUTROS</td>\n    </tr>\n    <tr>\n      <th>239959</th>\n      <td>6.0</td>\n      <td>ATIVO</td>\n      <td>34.0</td>\n      <td>F</td>\n      <td>564.0</td>\n      <td>10.0</td>\n      <td>14.0</td>\n      <td>0.0</td>\n      <td>NAO</td>\n      <td>SIM</td>\n      <td>NAO</td>\n      <td>boleto digital</td>\n      <td>475441167</td>\n    </tr>\n    <tr>\n      <th>359840</th>\n      <td>3.0</td>\n      <td>ATIVO</td>\n      <td>45.0</td>\n      <td>F</td>\n      <td>295.0</td>\n      <td>3.0</td>\n      <td>7.0</td>\n      <td>0.0</td>\n      <td>NAO</td>\n      <td>SIM</td>\n      <td>NAO</td>\n      <td>cartao de credito</td>\n      <td>481484183</td>\n    </tr>\n    <tr>\n      <th>91464</th>\n      <td>3.0</td>\n      <td>DESATIVADO</td>\n      <td>41.0</td>\n      <td>F</td>\n      <td>932.0</td>\n      <td>0.0</td>\n      <td>0.0</td>\n      <td>0.0</td>\n      <td>NAO</td>\n      <td>NAO</td>\n      <td>NAO</td>\n      <td>boleto</td>\n      <td>475840164</td>\n    </tr>\n    <tr>\n      <th>316968</th>\n      <td>1.0</td>\n      <td>ATIVO</td>\n      <td>19.0</td>\n      <td>F</td>\n      <td>70.0</td>\n      <td>0.0</td>\n      <td>0.0</td>\n      <td>0.0</td>\n      <td>NAO</td>\n      <td>NAO</td>\n      <td>NAO</td>\n      <td>cartao de credito</td>\n      <td>475441167</td>\n    </tr>\n    <tr>\n      <th>303455</th>\n      <td>5.0</td>\n      <td>ATIVO</td>\n      <td>54.0</td>\n      <td>M</td>\n      <td>173.0</td>\n      <td>0.0</td>\n      <td>0.0</td>\n      <td>0.0</td>\n      <td>NAO</td>\n      <td>NAO</td>\n      <td>NAO</td>\n      <td>cartao de credito</td>\n      <td>475441167</td>\n    </tr>\n    <tr>\n      <th>264354</th>\n      <td>1.0</td>\n      <td>ATIVO</td>\n      <td>36.0</td>\n      <td>M</td>\n      <td>161.0</td>\n      <td>1.0</td>\n      <td>5.0</td>\n      <td>0.0</td>\n      <td>NAO</td>\n      <td>NAO</td>\n      <td>NAO</td>\n      <td>boleto digital</td>\n      <td>475441167</td>\n    </tr>\n  </tbody>\n</table>\n</div>"
     },
     "execution_count": 4,
     "metadata": {},
     "output_type": "execute_result"
    }
   ],
   "source": [
    "import pandas as pd\n",
    "data = pd.read_csv('dataset_customer_churn.csv', sep='^')\n",
    "data.drop(labels=['A006_REGISTRO_ANS', 'CODIGO_BENEFICIARIO', 'CLIENTE', 'CD_USUARIO', 'CODIGO_FORMA_PGTO_MENSALIDADE', 'A006_NM_PLANO', 'DIAS_ATE_REALIZAR_ALTO_CUSTO', 'CD_ASSOCIADO', 'ESTADO_CIVIL'], axis=1, inplace=True)\n",
    "is_NAN = data[data.isna().any(axis=1)]\n",
    "data.drop(is_NAN.index, axis=0, inplace=True)\n",
    "data.sample(10)"
   ],
   "metadata": {
    "collapsed": false,
    "pycharm": {
     "name": "#%%\n"
    }
   }
  },
  {
   "cell_type": "code",
   "execution_count": 5,
   "outputs": [],
   "source": [
    "dict_replace = {\n",
    "    \"SIM\": 1,\n",
    "    \"NAO\": 0,\n",
    "    'F': 0,\n",
    "    'M': 1,\n",
    "    'DESATIVADO': 1,\n",
    "    'ATIVO': 0,\n",
    "\n",
    "}\n",
    "data.replace(dict_replace, inplace=True)\n",
    "data.drop(labels=182212, axis=0, inplace=True)"
   ],
   "metadata": {
    "collapsed": false,
    "pycharm": {
     "name": "#%%\n"
    }
   }
  },
  {
   "cell_type": "markdown",
   "source": [],
   "metadata": {
    "collapsed": false,
    "pycharm": {
     "name": "#%% md\n"
    }
   }
  },
  {
   "cell_type": "code",
   "execution_count": 7,
   "outputs": [],
   "source": [
    "data_dummified = pd.get_dummies(data)"
   ],
   "metadata": {
    "collapsed": false,
    "pycharm": {
     "name": "#%%\n"
    }
   }
  },
  {
   "cell_type": "code",
   "execution_count": 8,
   "outputs": [],
   "source": [
    "import numpy as np\n",
    "from sklearn.model_selection import train_test_split\n",
    "\n",
    "x = data_dummified.drop(labels=['SITUACAO'], axis=1)\n",
    "y = data_dummified['SITUACAO']\n",
    "np.random.seed(1010)\n",
    "train_x, test_x, train_y, test_y = train_test_split(x, y, test_size=0.2, stratify=y)"
   ],
   "metadata": {
    "collapsed": false,
    "pycharm": {
     "name": "#%%\n"
    }
   }
  },
  {
   "cell_type": "code",
   "execution_count": 10,
   "outputs": [],
   "source": [
    "from sklearn.ensemble import RandomForestClassifier\n",
    "random_forest_classifier = RandomForestClassifier(10)\n",
    "random_forest_classifier.fit(train_x,train_y)\n",
    "predicts_rfc = random_forest_classifier.predict(test_x)"
   ],
   "metadata": {
    "collapsed": false,
    "pycharm": {
     "name": "#%%\n"
    }
   }
  },
  {
   "cell_type": "code",
   "execution_count": 13,
   "outputs": [],
   "source": [
    "from sklearn.metrics import f1_score,recall_score,accuracy_score,precision_score\n",
    "def all_scores(predicts, test_y):\n",
    "    print(f\"Accuracy Score: {accuracy_score(test_y,predicts):.3f}\\nRecall Score: {recall_score(test_y,predicts):.3f}\\nPrecision Score: {precision_score(test_y,predicts):.3f}\\nF1 Score: {f1_score(test_y,predicts):.3f}\\n\")\n",
    "def scores(validation_results):\n",
    "    media = validation_results['test_score'].mean()\n",
    "    desvio_padrao = validation_results['test_score'].std()\n",
    "    print(\"Accuracy médio {:.2f}\".format(media))\n",
    "    print(\"Intervalo [{:.2f}, {:.2f}]\".format((media - 2 * desvio_padrao), (media + 2 * desvio_padrao)))\n"
   ],
   "metadata": {
    "collapsed": false,
    "pycharm": {
     "name": "#%%\n"
    }
   }
  },
  {
   "cell_type": "code",
   "execution_count": 7,
   "outputs": [
    {
     "name": "stdout",
     "output_type": "stream",
     "text": [
      "Accuracy Score: 0.905\n",
      "Recall Score: 0.897\n",
      "Precision Score: 0.927\n",
      "F1 Score: 0.912\n",
      "\n"
     ]
    }
   ],
   "source": [
    "all_scores(predicts_rfc, test_y)"
   ],
   "metadata": {
    "collapsed": false,
    "pycharm": {
     "name": "#%%\n"
    }
   }
  },
  {
   "cell_type": "code",
   "execution_count": null,
   "outputs": [],
   "source": [
    "from sklearn.model_selection import cross_validate, KFold\n",
    "\n",
    "validation_results = cross_validate(random_forest_classifier,x,y,cv=KFold(n_splits=10, shuffle=True))\n",
    "scores(validation_results)\n",
    "validation_results_df = pd.DataFrame(validation_results)\n",
    "validation_results_df"
   ],
   "metadata": {
    "collapsed": false,
    "pycharm": {
     "name": "#%%\n"
    }
   }
  },
  {
   "cell_type": "code",
   "execution_count": 11,
   "outputs": [],
   "source": [
    "from scipy.stats import randint\n",
    "from sklearn.model_selection import RandomizedSearchCV, KFold\n",
    "tt_x, val_x, tt_y, val_y = train_test_split(x, y, test_size=0.2, stratify=y)\n",
    "### hiper-parametrização (?)\n",
    "parametros_para_RSCV = {\n",
    "    \"max_depth\" : randint(3, 100),\n",
    "    \"min_samples_split\": randint(2, 16),\n",
    "    \"min_samples_leaf\": randint(1, 16),\n",
    "    \"bootstrap\" : [True, False],\n",
    "    \"criterion\": [\"gini\", \"entropy\"]\n",
    "}\n",
    "\n",
    "RSCross_validation = RandomizedSearchCV(RandomForestClassifier(n_estimators=10), parametros_para_RSCV, n_iter= 16, cv = KFold(n_splits = 5, shuffle=True))\n",
    "RSCross_validation.fit(tt_x,tt_y)\n",
    "resultados = pd.DataFrame(RSCross_validation.cv_results_)"
   ],
   "metadata": {
    "collapsed": false,
    "pycharm": {
     "name": "#%%\n"
    }
   }
  },
  {
   "cell_type": "code",
   "execution_count": 14,
   "outputs": [
    {
     "name": "stdout",
     "output_type": "stream",
     "text": [
      "Accuracy Score: 0.905\n",
      "Recall Score: 0.907\n",
      "Precision Score: 0.918\n",
      "F1 Score: 0.913\n",
      "\n"
     ]
    }
   ],
   "source": [
    "best_random_forest = RSCross_validation.best_estimator_\n",
    "predicts_rfc = best_random_forest.predict(val_x)\n",
    "all_scores(predicts_rfc, val_y)"
   ],
   "metadata": {
    "collapsed": false,
    "pycharm": {
     "name": "#%%\n"
    }
   }
  },
  {
   "cell_type": "code",
   "execution_count": 17,
   "outputs": [
    {
     "name": "stdout",
     "output_type": "stream",
     "text": [
      "RandomForestClassifier(bootstrap=False, max_depth=86, min_samples_leaf=2,\n",
      "                       min_samples_split=10, n_estimators=10)\n"
     ]
    }
   ],
   "source": [
    "print(best_random_forest)"
   ],
   "metadata": {
    "collapsed": false,
    "pycharm": {
     "name": "#%%\n"
    }
   }
  },
  {
   "cell_type": "code",
   "execution_count": null,
   "outputs": [],
   "source": [
    "feature_importances = random_forest_classifier.feature_importances_\n",
    "feature_importances"
   ],
   "metadata": {
    "collapsed": false,
    "pycharm": {
     "name": "#%%\n"
    }
   }
  },
  {
   "cell_type": "code",
   "execution_count": null,
   "outputs": [],
   "source": [
    "from matplotlib import pyplot as plt\n",
    "\n",
    "plt.pie(feature_importances)"
   ],
   "metadata": {
    "collapsed": false,
    "pycharm": {
     "name": "#%%\n"
    }
   }
  },
  {
   "cell_type": "code",
   "execution_count": null,
   "outputs": [],
   "source": [
    "from sklearn.inspection import permutation_importance\n",
    "permutation_importance = permutation_importance(best_random_forest, x, y)"
   ],
   "metadata": {
    "collapsed": false,
    "pycharm": {
     "name": "#%%\n"
    }
   }
  },
  {
   "cell_type": "code",
   "execution_count": null,
   "outputs": [],
   "source": [
    "permutation_importance_df = pd.Series(permutation_importance.importances_mean, index=pd.Series([col for col in x.columns]))\n",
    "permutation_importance_df*100"
   ],
   "metadata": {
    "collapsed": false,
    "pycharm": {
     "name": "#%%\n"
    }
   }
  },
  {
   "cell_type": "code",
   "execution_count": null,
   "outputs": [],
   "source": [
    "import matplotlib.pyplot as plt\n",
    "plt.rcParams['figure.figsize'] = (10, 8)\n",
    "plt.pie(permutation_importance_df)\n",
    "plt.xlabel(\"Permutation Importance\")"
   ],
   "metadata": {
    "collapsed": false,
    "pycharm": {
     "name": "#%%\n"
    }
   }
  },
  {
   "cell_type": "code",
   "execution_count": 18,
   "outputs": [],
   "source": [
    "def scores(model):\n",
    "    model_predicts = model.predict(test_x)\n",
    "    return accuracy_score(test_y, model_predicts), recall_score(test_y, model_predicts),precision_score(test_y, model_predicts), f1_score(test_y, model_predicts)"
   ],
   "metadata": {
    "collapsed": false,
    "pycharm": {
     "name": "#%%\n"
    }
   }
  },
  {
   "cell_type": "code",
   "execution_count": 23,
   "outputs": [
    {
     "data": {
      "text/plain": "     Acurracy Score  Recall Score  Precision Score  F1 Score\nBRF        0.947605      0.947002         0.956427  0.951691\nRFC        0.902340      0.893625         0.924647  0.908871",
      "text/html": "<div>\n<style scoped>\n    .dataframe tbody tr th:only-of-type {\n        vertical-align: middle;\n    }\n\n    .dataframe tbody tr th {\n        vertical-align: top;\n    }\n\n    .dataframe thead th {\n        text-align: right;\n    }\n</style>\n<table border=\"1\" class=\"dataframe\">\n  <thead>\n    <tr style=\"text-align: right;\">\n      <th></th>\n      <th>Acurracy Score</th>\n      <th>Recall Score</th>\n      <th>Precision Score</th>\n      <th>F1 Score</th>\n    </tr>\n  </thead>\n  <tbody>\n    <tr>\n      <th>BRF</th>\n      <td>0.947605</td>\n      <td>0.947002</td>\n      <td>0.956427</td>\n      <td>0.951691</td>\n    </tr>\n    <tr>\n      <th>RFC</th>\n      <td>0.902340</td>\n      <td>0.893625</td>\n      <td>0.924647</td>\n      <td>0.908871</td>\n    </tr>\n  </tbody>\n</table>\n</div>"
     },
     "execution_count": 23,
     "metadata": {},
     "output_type": "execute_result"
    }
   ],
   "source": [
    "\n",
    "model_scores = {scores(best_random_forest), scores(random_forest_classifier)}\n",
    "df_model_scores = pd.DataFrame(model_scores, columns=['Acurracy Score', 'Recall Score', 'Precision Score', 'F1 Score'], index=['BRF', 'RFC'])\n",
    "df_model_scores"
   ],
   "metadata": {
    "collapsed": false,
    "pycharm": {
     "name": "#%%\n"
    }
   }
  },
  {
   "cell_type": "code",
   "execution_count": null,
   "outputs": [],
   "source": [],
   "metadata": {
    "collapsed": false,
    "pycharm": {
     "name": "#%%\n"
    }
   }
  }
 ],
 "metadata": {
  "kernelspec": {
   "display_name": "Python 3",
   "language": "python",
   "name": "python3"
  },
  "language_info": {
   "codemirror_mode": {
    "name": "ipython",
    "version": 2
   },
   "file_extension": ".py",
   "mimetype": "text/x-python",
   "name": "python",
   "nbconvert_exporter": "python",
   "pygments_lexer": "ipython2",
   "version": "2.7.6"
  }
 },
 "nbformat": 4,
 "nbformat_minor": 0
}