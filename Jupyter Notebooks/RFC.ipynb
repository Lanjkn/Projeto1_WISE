{
 "cells": [
  {
   "cell_type": "code",
   "execution_count": 285,
   "outputs": [],
   "source": [
    "from sklearn.metrics import f1_score,recall_score,accuracy_score,precision_score\n",
    "def all_scores(predicts, test_y):\n",
    "    print(f\"Accuracy Score: {accuracy_score(test_y,predicts):.3f}\\nRecall Score: {recall_score(test_y,predicts):.3f}\\nPrecision Score: {precision_score(test_y,predicts):.3f}\\nF1 Score: {f1_score(test_y,predicts):.3f}\\n\")\n",
    "def scores(validation_results):\n",
    "    media = validation_results['test_score'].mean()\n",
    "    desvio_padrao = validation_results['test_score'].std()\n",
    "    print(\"Accuracy médio {:.2f}\".format(media))\n",
    "    print(\"Intervalo [{:.2f}, {:.2f}]\".format((media - 2 * desvio_padrao), (media + 2 * desvio_padrao)))\n"
   ],
   "metadata": {
    "collapsed": false,
    "pycharm": {
     "name": "#%%\n"
    }
   }
  },
  {
   "cell_type": "code",
   "execution_count": 285,
   "outputs": [],
   "source": [],
   "metadata": {
    "collapsed": false,
    "pycharm": {
     "name": "#%%\n"
    }
   }
  },
  {
   "cell_type": "code",
   "execution_count": 313,
   "outputs": [
    {
     "data": {
      "text/plain": "        NUM_BENEFICIARIOS_FAMILIA    SITUACAO  IDADE SEXO  QTDE_DIAS_ATIVO  \\\n349882                        1.0       ATIVO   18.0    F            136.0   \n39949                         4.0  DESATIVADO   41.0    F           1349.0   \n86627                         7.0       ATIVO   45.0    M           1790.0   \n59031                         3.0  DESATIVADO   80.0    F             27.0   \n280026                        2.0       ATIVO   26.0    F            134.0   \n207229                        4.0  DESATIVADO   43.0    F            298.0   \n212253                        1.0  DESATIVADO   29.0    F            148.0   \n12122                         2.0  DESATIVADO   54.0    F            341.0   \n208541                        2.0  DESATIVADO   87.0    M            585.0   \n167535                        1.0  DESATIVADO   13.0    M             95.0   \n167050                        1.0  DESATIVADO   25.0    M            242.0   \n325504                        1.0       ATIVO   39.0    M             64.0   \n209423                        2.0  DESATIVADO   54.0    M            241.0   \n302857                        4.0       ATIVO   50.0    M            214.0   \n254096                        1.0       ATIVO   49.0    M            494.0   \n98451                         2.0  DESATIVADO   39.0    F            548.0   \n56618                         1.0  DESATIVADO   35.0    M            156.0   \n175565                        1.0  DESATIVADO    6.0    M            842.0   \n9345                          2.0  DESATIVADO   44.0    M            588.0   \n335927                        2.0       ATIVO   30.0    F            367.0   \n\n        QTDE_ATENDIMENTOS  QTDE_ATO_COBERTO_EXECUTADO  \\\n349882                5.0                         9.0   \n39949                12.0                        43.0   \n86627                 2.0                         5.0   \n59031                 0.0                         0.0   \n280026                1.0                         5.0   \n207229                0.0                         0.0   \n212253                4.0                        15.0   \n12122                 4.0                        16.0   \n208541                0.0                         0.0   \n167535                0.0                         0.0   \n167050                1.0                         7.0   \n325504                0.0                         0.0   \n209423                0.0                         0.0   \n302857                0.0                         0.0   \n254096                0.0                         0.0   \n98451                 0.0                         0.0   \n56618                 0.0                         0.0   \n175565                0.0                         0.0   \n9345                  2.0                         6.0   \n335927                3.0                         3.0   \n\n        QTDE_ATO_N_COBERTO_EXECUTADO REALIZOU_ENDODONTIA_COBERTA  \\\n349882                           0.0                         NAO   \n39949                           14.0                         SIM   \n86627                            0.0                         NAO   \n59031                            0.0                         NAO   \n280026                           0.0                         NAO   \n207229                           0.0                         NAO   \n212253                           0.0                         NAO   \n12122                            9.0                         NAO   \n208541                           0.0                         NAO   \n167535                           0.0                         NAO   \n167050                           0.0                         NAO   \n325504                           0.0                         NAO   \n209423                           0.0                         NAO   \n302857                           0.0                         NAO   \n254096                           0.0                         NAO   \n98451                            0.0                         NAO   \n56618                            0.0                         NAO   \n175565                           0.0                         NAO   \n9345                             0.0                         NAO   \n335927                           0.0                         NAO   \n\n       REALIZOU_EXODONTIA_COBERTA REALIZOU_PROCEDIMEN_ALTO_CUSTO  \\\n349882                        NAO                            NAO   \n39949                         SIM                            SIM   \n86627                         NAO                            NAO   \n59031                         NAO                            NAO   \n280026                        NAO                            NAO   \n207229                        NAO                            NAO   \n212253                        SIM                            SIM   \n12122                         NAO                            SIM   \n208541                        NAO                            NAO   \n167535                        NAO                            NAO   \n167050                        NAO                            SIM   \n325504                        NAO                            NAO   \n209423                        NAO                            NAO   \n302857                        NAO                            NAO   \n254096                        NAO                            NAO   \n98451                         NAO                            NAO   \n56618                         NAO                            NAO   \n175565                        NAO                            NAO   \n9345                          NAO                            NAO   \n335927                        NAO                            NAO   \n\n       DIAS_ATE_REALIZAR_ALTO_CUSTO FORMA_PGTO_MENSALIDADE      PLANO  \n349882                  NaoRealizou                 boleto  481485181  \n39949                          200+      debito automatico  703454997  \n86627                   NaoRealizou                 boleto  475840164  \n59031                   NaoRealizou                 boleto  475840164  \n280026                  NaoRealizou      cartao de credito  475441167  \n207229                  NaoRealizou      cartao de credito  475441167  \n212253                        15-30                 boleto  475441167  \n12122                        91-200                 boleto  408875991  \n208541                  NaoRealizou                 boleto  475840164  \n167535                  NaoRealizou                 boleto  475840164  \n167050                       91-200                 boleto  408875991  \n325504                  NaoRealizou      cartao de credito  475441167  \n209423                  NaoRealizou                 boleto  475441167  \n302857                  NaoRealizou                 boleto  475840164  \n254096                  NaoRealizou         boleto digital  481485181  \n98451                   NaoRealizou                 boleto  475840164  \n56618                   NaoRealizou                 boleto  703454997  \n175565                  NaoRealizou                 boleto  475840164  \n9345                    NaoRealizou                 boleto  408875991  \n335927                  NaoRealizou         boleto digital  475441167  ",
      "text/html": "<div>\n<style scoped>\n    .dataframe tbody tr th:only-of-type {\n        vertical-align: middle;\n    }\n\n    .dataframe tbody tr th {\n        vertical-align: top;\n    }\n\n    .dataframe thead th {\n        text-align: right;\n    }\n</style>\n<table border=\"1\" class=\"dataframe\">\n  <thead>\n    <tr style=\"text-align: right;\">\n      <th></th>\n      <th>NUM_BENEFICIARIOS_FAMILIA</th>\n      <th>SITUACAO</th>\n      <th>IDADE</th>\n      <th>SEXO</th>\n      <th>QTDE_DIAS_ATIVO</th>\n      <th>QTDE_ATENDIMENTOS</th>\n      <th>QTDE_ATO_COBERTO_EXECUTADO</th>\n      <th>QTDE_ATO_N_COBERTO_EXECUTADO</th>\n      <th>REALIZOU_ENDODONTIA_COBERTA</th>\n      <th>REALIZOU_EXODONTIA_COBERTA</th>\n      <th>REALIZOU_PROCEDIMEN_ALTO_CUSTO</th>\n      <th>DIAS_ATE_REALIZAR_ALTO_CUSTO</th>\n      <th>FORMA_PGTO_MENSALIDADE</th>\n      <th>PLANO</th>\n    </tr>\n  </thead>\n  <tbody>\n    <tr>\n      <th>349882</th>\n      <td>1.0</td>\n      <td>ATIVO</td>\n      <td>18.0</td>\n      <td>F</td>\n      <td>136.0</td>\n      <td>5.0</td>\n      <td>9.0</td>\n      <td>0.0</td>\n      <td>NAO</td>\n      <td>NAO</td>\n      <td>NAO</td>\n      <td>NaoRealizou</td>\n      <td>boleto</td>\n      <td>481485181</td>\n    </tr>\n    <tr>\n      <th>39949</th>\n      <td>4.0</td>\n      <td>DESATIVADO</td>\n      <td>41.0</td>\n      <td>F</td>\n      <td>1349.0</td>\n      <td>12.0</td>\n      <td>43.0</td>\n      <td>14.0</td>\n      <td>SIM</td>\n      <td>SIM</td>\n      <td>SIM</td>\n      <td>200+</td>\n      <td>debito automatico</td>\n      <td>703454997</td>\n    </tr>\n    <tr>\n      <th>86627</th>\n      <td>7.0</td>\n      <td>ATIVO</td>\n      <td>45.0</td>\n      <td>M</td>\n      <td>1790.0</td>\n      <td>2.0</td>\n      <td>5.0</td>\n      <td>0.0</td>\n      <td>NAO</td>\n      <td>NAO</td>\n      <td>NAO</td>\n      <td>NaoRealizou</td>\n      <td>boleto</td>\n      <td>475840164</td>\n    </tr>\n    <tr>\n      <th>59031</th>\n      <td>3.0</td>\n      <td>DESATIVADO</td>\n      <td>80.0</td>\n      <td>F</td>\n      <td>27.0</td>\n      <td>0.0</td>\n      <td>0.0</td>\n      <td>0.0</td>\n      <td>NAO</td>\n      <td>NAO</td>\n      <td>NAO</td>\n      <td>NaoRealizou</td>\n      <td>boleto</td>\n      <td>475840164</td>\n    </tr>\n    <tr>\n      <th>280026</th>\n      <td>2.0</td>\n      <td>ATIVO</td>\n      <td>26.0</td>\n      <td>F</td>\n      <td>134.0</td>\n      <td>1.0</td>\n      <td>5.0</td>\n      <td>0.0</td>\n      <td>NAO</td>\n      <td>NAO</td>\n      <td>NAO</td>\n      <td>NaoRealizou</td>\n      <td>cartao de credito</td>\n      <td>475441167</td>\n    </tr>\n    <tr>\n      <th>207229</th>\n      <td>4.0</td>\n      <td>DESATIVADO</td>\n      <td>43.0</td>\n      <td>F</td>\n      <td>298.0</td>\n      <td>0.0</td>\n      <td>0.0</td>\n      <td>0.0</td>\n      <td>NAO</td>\n      <td>NAO</td>\n      <td>NAO</td>\n      <td>NaoRealizou</td>\n      <td>cartao de credito</td>\n      <td>475441167</td>\n    </tr>\n    <tr>\n      <th>212253</th>\n      <td>1.0</td>\n      <td>DESATIVADO</td>\n      <td>29.0</td>\n      <td>F</td>\n      <td>148.0</td>\n      <td>4.0</td>\n      <td>15.0</td>\n      <td>0.0</td>\n      <td>NAO</td>\n      <td>SIM</td>\n      <td>SIM</td>\n      <td>15-30</td>\n      <td>boleto</td>\n      <td>475441167</td>\n    </tr>\n    <tr>\n      <th>12122</th>\n      <td>2.0</td>\n      <td>DESATIVADO</td>\n      <td>54.0</td>\n      <td>F</td>\n      <td>341.0</td>\n      <td>4.0</td>\n      <td>16.0</td>\n      <td>9.0</td>\n      <td>NAO</td>\n      <td>NAO</td>\n      <td>SIM</td>\n      <td>91-200</td>\n      <td>boleto</td>\n      <td>408875991</td>\n    </tr>\n    <tr>\n      <th>208541</th>\n      <td>2.0</td>\n      <td>DESATIVADO</td>\n      <td>87.0</td>\n      <td>M</td>\n      <td>585.0</td>\n      <td>0.0</td>\n      <td>0.0</td>\n      <td>0.0</td>\n      <td>NAO</td>\n      <td>NAO</td>\n      <td>NAO</td>\n      <td>NaoRealizou</td>\n      <td>boleto</td>\n      <td>475840164</td>\n    </tr>\n    <tr>\n      <th>167535</th>\n      <td>1.0</td>\n      <td>DESATIVADO</td>\n      <td>13.0</td>\n      <td>M</td>\n      <td>95.0</td>\n      <td>0.0</td>\n      <td>0.0</td>\n      <td>0.0</td>\n      <td>NAO</td>\n      <td>NAO</td>\n      <td>NAO</td>\n      <td>NaoRealizou</td>\n      <td>boleto</td>\n      <td>475840164</td>\n    </tr>\n    <tr>\n      <th>167050</th>\n      <td>1.0</td>\n      <td>DESATIVADO</td>\n      <td>25.0</td>\n      <td>M</td>\n      <td>242.0</td>\n      <td>1.0</td>\n      <td>7.0</td>\n      <td>0.0</td>\n      <td>NAO</td>\n      <td>NAO</td>\n      <td>SIM</td>\n      <td>91-200</td>\n      <td>boleto</td>\n      <td>408875991</td>\n    </tr>\n    <tr>\n      <th>325504</th>\n      <td>1.0</td>\n      <td>ATIVO</td>\n      <td>39.0</td>\n      <td>M</td>\n      <td>64.0</td>\n      <td>0.0</td>\n      <td>0.0</td>\n      <td>0.0</td>\n      <td>NAO</td>\n      <td>NAO</td>\n      <td>NAO</td>\n      <td>NaoRealizou</td>\n      <td>cartao de credito</td>\n      <td>475441167</td>\n    </tr>\n    <tr>\n      <th>209423</th>\n      <td>2.0</td>\n      <td>DESATIVADO</td>\n      <td>54.0</td>\n      <td>M</td>\n      <td>241.0</td>\n      <td>0.0</td>\n      <td>0.0</td>\n      <td>0.0</td>\n      <td>NAO</td>\n      <td>NAO</td>\n      <td>NAO</td>\n      <td>NaoRealizou</td>\n      <td>boleto</td>\n      <td>475441167</td>\n    </tr>\n    <tr>\n      <th>302857</th>\n      <td>4.0</td>\n      <td>ATIVO</td>\n      <td>50.0</td>\n      <td>M</td>\n      <td>214.0</td>\n      <td>0.0</td>\n      <td>0.0</td>\n      <td>0.0</td>\n      <td>NAO</td>\n      <td>NAO</td>\n      <td>NAO</td>\n      <td>NaoRealizou</td>\n      <td>boleto</td>\n      <td>475840164</td>\n    </tr>\n    <tr>\n      <th>254096</th>\n      <td>1.0</td>\n      <td>ATIVO</td>\n      <td>49.0</td>\n      <td>M</td>\n      <td>494.0</td>\n      <td>0.0</td>\n      <td>0.0</td>\n      <td>0.0</td>\n      <td>NAO</td>\n      <td>NAO</td>\n      <td>NAO</td>\n      <td>NaoRealizou</td>\n      <td>boleto digital</td>\n      <td>481485181</td>\n    </tr>\n    <tr>\n      <th>98451</th>\n      <td>2.0</td>\n      <td>DESATIVADO</td>\n      <td>39.0</td>\n      <td>F</td>\n      <td>548.0</td>\n      <td>0.0</td>\n      <td>0.0</td>\n      <td>0.0</td>\n      <td>NAO</td>\n      <td>NAO</td>\n      <td>NAO</td>\n      <td>NaoRealizou</td>\n      <td>boleto</td>\n      <td>475840164</td>\n    </tr>\n    <tr>\n      <th>56618</th>\n      <td>1.0</td>\n      <td>DESATIVADO</td>\n      <td>35.0</td>\n      <td>M</td>\n      <td>156.0</td>\n      <td>0.0</td>\n      <td>0.0</td>\n      <td>0.0</td>\n      <td>NAO</td>\n      <td>NAO</td>\n      <td>NAO</td>\n      <td>NaoRealizou</td>\n      <td>boleto</td>\n      <td>703454997</td>\n    </tr>\n    <tr>\n      <th>175565</th>\n      <td>1.0</td>\n      <td>DESATIVADO</td>\n      <td>6.0</td>\n      <td>M</td>\n      <td>842.0</td>\n      <td>0.0</td>\n      <td>0.0</td>\n      <td>0.0</td>\n      <td>NAO</td>\n      <td>NAO</td>\n      <td>NAO</td>\n      <td>NaoRealizou</td>\n      <td>boleto</td>\n      <td>475840164</td>\n    </tr>\n    <tr>\n      <th>9345</th>\n      <td>2.0</td>\n      <td>DESATIVADO</td>\n      <td>44.0</td>\n      <td>M</td>\n      <td>588.0</td>\n      <td>2.0</td>\n      <td>6.0</td>\n      <td>0.0</td>\n      <td>NAO</td>\n      <td>NAO</td>\n      <td>NAO</td>\n      <td>NaoRealizou</td>\n      <td>boleto</td>\n      <td>408875991</td>\n    </tr>\n    <tr>\n      <th>335927</th>\n      <td>2.0</td>\n      <td>ATIVO</td>\n      <td>30.0</td>\n      <td>F</td>\n      <td>367.0</td>\n      <td>3.0</td>\n      <td>3.0</td>\n      <td>0.0</td>\n      <td>NAO</td>\n      <td>NAO</td>\n      <td>NAO</td>\n      <td>NaoRealizou</td>\n      <td>boleto digital</td>\n      <td>475441167</td>\n    </tr>\n  </tbody>\n</table>\n</div>"
     },
     "execution_count": 313,
     "metadata": {},
     "output_type": "execute_result"
    }
   ],
   "source": [
    "import pandas as pd\n",
    "import numpy as np\n",
    "import pandas_profiling\n",
    "np.random.seed(1010)\n",
    "data = pd.read_csv('../dataset_customer_churn.csv', sep='^')\n",
    "data.drop(labels=['A006_REGISTRO_ANS','CODIGO_BENEFICIARIO', 'CLIENTE', 'CD_USUARIO', 'CODIGO_FORMA_PGTO_MENSALIDADE', 'CD_ASSOCIADO', 'A006_NM_PLANO', 'ESTADO_CIVIL'], axis=1, inplace=True)\n",
    "is_NAN = data[data.isna().any(axis=1)]\n",
    "data.drop(is_NAN.index, axis=0, inplace=True)\n",
    "data.sample(20)"
   ],
   "metadata": {
    "collapsed": false,
    "pycharm": {
     "name": "#%%\n"
    }
   }
  },
  {
   "cell_type": "code",
   "execution_count": 314,
   "outputs": [
    {
     "ename": "KeyError",
     "evalue": "'DIAS_ATE_REALIZAR_ALTO_CUSTO'",
     "output_type": "error",
     "traceback": [
      "\u001B[1;31m---------------------------------------------------------------------------\u001B[0m",
      "\u001B[1;31mKeyError\u001B[0m                                  Traceback (most recent call last)",
      "File \u001B[1;32m~\\anaconda3\\envs\\projeto1_WISE\\lib\\site-packages\\pandas\\core\\indexes\\base.py:3621\u001B[0m, in \u001B[0;36mIndex.get_loc\u001B[1;34m(self, key, method, tolerance)\u001B[0m\n\u001B[0;32m   3620\u001B[0m \u001B[38;5;28;01mtry\u001B[39;00m:\n\u001B[1;32m-> 3621\u001B[0m     \u001B[38;5;28;01mreturn\u001B[39;00m \u001B[38;5;28;43mself\u001B[39;49m\u001B[38;5;241;43m.\u001B[39;49m\u001B[43m_engine\u001B[49m\u001B[38;5;241;43m.\u001B[39;49m\u001B[43mget_loc\u001B[49m\u001B[43m(\u001B[49m\u001B[43mcasted_key\u001B[49m\u001B[43m)\u001B[49m\n\u001B[0;32m   3622\u001B[0m \u001B[38;5;28;01mexcept\u001B[39;00m \u001B[38;5;167;01mKeyError\u001B[39;00m \u001B[38;5;28;01mas\u001B[39;00m err:\n",
      "File \u001B[1;32m~\\anaconda3\\envs\\projeto1_WISE\\lib\\site-packages\\pandas\\_libs\\index.pyx:136\u001B[0m, in \u001B[0;36mpandas._libs.index.IndexEngine.get_loc\u001B[1;34m()\u001B[0m\n",
      "File \u001B[1;32m~\\anaconda3\\envs\\projeto1_WISE\\lib\\site-packages\\pandas\\_libs\\index.pyx:144\u001B[0m, in \u001B[0;36mpandas._libs.index.IndexEngine.get_loc\u001B[1;34m()\u001B[0m\n",
      "File \u001B[1;32mpandas\\_libs\\index_class_helper.pxi:41\u001B[0m, in \u001B[0;36mpandas._libs.index.Int64Engine._check_type\u001B[1;34m()\u001B[0m\n",
      "\u001B[1;31mKeyError\u001B[0m: 'DIAS_ATE_REALIZAR_ALTO_CUSTO'",
      "\nThe above exception was the direct cause of the following exception:\n",
      "\u001B[1;31mKeyError\u001B[0m                                  Traceback (most recent call last)",
      "Input \u001B[1;32mIn [314]\u001B[0m, in \u001B[0;36m<cell line: 1>\u001B[1;34m()\u001B[0m\n\u001B[1;32m----> 1\u001B[0m \u001B[43mdata\u001B[49m\u001B[38;5;241;43m.\u001B[39;49m\u001B[43mloc\u001B[49m\u001B[43m[\u001B[49m\u001B[38;5;124;43m'\u001B[39;49m\u001B[38;5;124;43mDIAS_ATE_REALIZAR_ALTO_CUSTO\u001B[39;49m\u001B[38;5;124;43m'\u001B[39;49m\u001B[43m]\u001B[49m  \u001B[38;5;241m==\u001B[39m \u001B[38;5;124m'\u001B[39m\u001B[38;5;124m31-60\u001B[39m\u001B[38;5;124m'\u001B[39m\n",
      "File \u001B[1;32m~\\anaconda3\\envs\\projeto1_WISE\\lib\\site-packages\\pandas\\core\\indexing.py:967\u001B[0m, in \u001B[0;36m_LocationIndexer.__getitem__\u001B[1;34m(self, key)\u001B[0m\n\u001B[0;32m    964\u001B[0m axis \u001B[38;5;241m=\u001B[39m \u001B[38;5;28mself\u001B[39m\u001B[38;5;241m.\u001B[39maxis \u001B[38;5;129;01mor\u001B[39;00m \u001B[38;5;241m0\u001B[39m\n\u001B[0;32m    966\u001B[0m maybe_callable \u001B[38;5;241m=\u001B[39m com\u001B[38;5;241m.\u001B[39mapply_if_callable(key, \u001B[38;5;28mself\u001B[39m\u001B[38;5;241m.\u001B[39mobj)\n\u001B[1;32m--> 967\u001B[0m \u001B[38;5;28;01mreturn\u001B[39;00m \u001B[38;5;28;43mself\u001B[39;49m\u001B[38;5;241;43m.\u001B[39;49m\u001B[43m_getitem_axis\u001B[49m\u001B[43m(\u001B[49m\u001B[43mmaybe_callable\u001B[49m\u001B[43m,\u001B[49m\u001B[43m \u001B[49m\u001B[43maxis\u001B[49m\u001B[38;5;241;43m=\u001B[39;49m\u001B[43maxis\u001B[49m\u001B[43m)\u001B[49m\n",
      "File \u001B[1;32m~\\anaconda3\\envs\\projeto1_WISE\\lib\\site-packages\\pandas\\core\\indexing.py:1202\u001B[0m, in \u001B[0;36m_LocIndexer._getitem_axis\u001B[1;34m(self, key, axis)\u001B[0m\n\u001B[0;32m   1200\u001B[0m \u001B[38;5;66;03m# fall thru to straight lookup\u001B[39;00m\n\u001B[0;32m   1201\u001B[0m \u001B[38;5;28mself\u001B[39m\u001B[38;5;241m.\u001B[39m_validate_key(key, axis)\n\u001B[1;32m-> 1202\u001B[0m \u001B[38;5;28;01mreturn\u001B[39;00m \u001B[38;5;28;43mself\u001B[39;49m\u001B[38;5;241;43m.\u001B[39;49m\u001B[43m_get_label\u001B[49m\u001B[43m(\u001B[49m\u001B[43mkey\u001B[49m\u001B[43m,\u001B[49m\u001B[43m \u001B[49m\u001B[43maxis\u001B[49m\u001B[38;5;241;43m=\u001B[39;49m\u001B[43maxis\u001B[49m\u001B[43m)\u001B[49m\n",
      "File \u001B[1;32m~\\anaconda3\\envs\\projeto1_WISE\\lib\\site-packages\\pandas\\core\\indexing.py:1153\u001B[0m, in \u001B[0;36m_LocIndexer._get_label\u001B[1;34m(self, label, axis)\u001B[0m\n\u001B[0;32m   1151\u001B[0m \u001B[38;5;28;01mdef\u001B[39;00m \u001B[38;5;21m_get_label\u001B[39m(\u001B[38;5;28mself\u001B[39m, label, axis: \u001B[38;5;28mint\u001B[39m):\n\u001B[0;32m   1152\u001B[0m     \u001B[38;5;66;03m# GH#5667 this will fail if the label is not present in the axis.\u001B[39;00m\n\u001B[1;32m-> 1153\u001B[0m     \u001B[38;5;28;01mreturn\u001B[39;00m \u001B[38;5;28;43mself\u001B[39;49m\u001B[38;5;241;43m.\u001B[39;49m\u001B[43mobj\u001B[49m\u001B[38;5;241;43m.\u001B[39;49m\u001B[43mxs\u001B[49m\u001B[43m(\u001B[49m\u001B[43mlabel\u001B[49m\u001B[43m,\u001B[49m\u001B[43m \u001B[49m\u001B[43maxis\u001B[49m\u001B[38;5;241;43m=\u001B[39;49m\u001B[43maxis\u001B[49m\u001B[43m)\u001B[49m\n",
      "File \u001B[1;32m~\\anaconda3\\envs\\projeto1_WISE\\lib\\site-packages\\pandas\\core\\generic.py:3864\u001B[0m, in \u001B[0;36mNDFrame.xs\u001B[1;34m(self, key, axis, level, drop_level)\u001B[0m\n\u001B[0;32m   3862\u001B[0m             new_index \u001B[38;5;241m=\u001B[39m index[loc]\n\u001B[0;32m   3863\u001B[0m \u001B[38;5;28;01melse\u001B[39;00m:\n\u001B[1;32m-> 3864\u001B[0m     loc \u001B[38;5;241m=\u001B[39m \u001B[43mindex\u001B[49m\u001B[38;5;241;43m.\u001B[39;49m\u001B[43mget_loc\u001B[49m\u001B[43m(\u001B[49m\u001B[43mkey\u001B[49m\u001B[43m)\u001B[49m\n\u001B[0;32m   3866\u001B[0m     \u001B[38;5;28;01mif\u001B[39;00m \u001B[38;5;28misinstance\u001B[39m(loc, np\u001B[38;5;241m.\u001B[39mndarray):\n\u001B[0;32m   3867\u001B[0m         \u001B[38;5;28;01mif\u001B[39;00m loc\u001B[38;5;241m.\u001B[39mdtype \u001B[38;5;241m==\u001B[39m np\u001B[38;5;241m.\u001B[39mbool_:\n",
      "File \u001B[1;32m~\\anaconda3\\envs\\projeto1_WISE\\lib\\site-packages\\pandas\\core\\indexes\\base.py:3623\u001B[0m, in \u001B[0;36mIndex.get_loc\u001B[1;34m(self, key, method, tolerance)\u001B[0m\n\u001B[0;32m   3621\u001B[0m     \u001B[38;5;28;01mreturn\u001B[39;00m \u001B[38;5;28mself\u001B[39m\u001B[38;5;241m.\u001B[39m_engine\u001B[38;5;241m.\u001B[39mget_loc(casted_key)\n\u001B[0;32m   3622\u001B[0m \u001B[38;5;28;01mexcept\u001B[39;00m \u001B[38;5;167;01mKeyError\u001B[39;00m \u001B[38;5;28;01mas\u001B[39;00m err:\n\u001B[1;32m-> 3623\u001B[0m     \u001B[38;5;28;01mraise\u001B[39;00m \u001B[38;5;167;01mKeyError\u001B[39;00m(key) \u001B[38;5;28;01mfrom\u001B[39;00m \u001B[38;5;21;01merr\u001B[39;00m\n\u001B[0;32m   3624\u001B[0m \u001B[38;5;28;01mexcept\u001B[39;00m \u001B[38;5;167;01mTypeError\u001B[39;00m:\n\u001B[0;32m   3625\u001B[0m     \u001B[38;5;66;03m# If we have a listlike key, _check_indexing_error will raise\u001B[39;00m\n\u001B[0;32m   3626\u001B[0m     \u001B[38;5;66;03m#  InvalidIndexError. Otherwise we fall through and re-raise\u001B[39;00m\n\u001B[0;32m   3627\u001B[0m     \u001B[38;5;66;03m#  the TypeError.\u001B[39;00m\n\u001B[0;32m   3628\u001B[0m     \u001B[38;5;28mself\u001B[39m\u001B[38;5;241m.\u001B[39m_check_indexing_error(key)\n",
      "\u001B[1;31mKeyError\u001B[0m: 'DIAS_ATE_REALIZAR_ALTO_CUSTO'"
     ]
    }
   ],
   "source": [],
   "metadata": {
    "collapsed": false,
    "pycharm": {
     "name": "#%%\n"
    }
   }
  },
  {
   "cell_type": "code",
   "execution_count": 303,
   "outputs": [
    {
     "data": {
      "text/plain": "1    5720\nName: DIAS_ATE_REALIZAR_ALTO_CUSTO_31-60, dtype: int64"
     },
     "execution_count": 303,
     "metadata": {},
     "output_type": "execute_result"
    }
   ],
   "source": [
    "dict_replace = {\n",
    "    \"SIM\": 1,\n",
    "    \"NAO\": 0,\n",
    "    'F': 0,\n",
    "    'M': 1,\n",
    "    'DESATIVADO': 1,\n",
    "    'ATIVO': 0,\n",
    "\n",
    "}\n",
    "data.replace(dict_replace, inplace=True)\n"
   ],
   "metadata": {
    "collapsed": false,
    "pycharm": {
     "name": "#%%\n"
    }
   }
  },
  {
   "cell_type": "code",
   "execution_count": 297,
   "outputs": [],
   "source": [
    "dict_replace = {\n",
    "    \"SIM\": 1,\n",
    "    \"NAO\": 0,\n",
    "    'F': 0,\n",
    "    'M': 1,\n",
    "    'DESATIVADO': 1,\n",
    "    'ATIVO': 0,\n",
    "\n",
    "}\n",
    "data.replace(dict_replace, inplace=True)\n",
    "data.drop(182212, axis=0, inplace=True)\n"
   ],
   "metadata": {
    "collapsed": false,
    "pycharm": {
     "name": "#%%\n"
    }
   }
  },
  {
   "cell_type": "code",
   "execution_count": 277,
   "outputs": [],
   "source": [],
   "metadata": {
    "collapsed": false,
    "pycharm": {
     "name": "#%%\n"
    }
   }
  },
  {
   "cell_type": "code",
   "execution_count": 278,
   "outputs": [],
   "source": [
    "QTDE_DIAS_ATIVO_MENOR_QUE_365 = np.array(data['QTDE_DIAS_ATIVO'] < 365)\n",
    "data['QTDE_DIAS_ATIVO_MENOR_QUE_365'] = 0\n",
    "data.loc[QTDE_DIAS_ATIVO_MENOR_QUE_365,'QTDE_DIAS_ATIVO_MENOR_QUE_365'] = 1\n",
    "QTDE_DIAS_ATIVO_MENOR_QUE_1000 = np.array((data['QTDE_DIAS_ATIVO'] >= 365) & (data['QTDE_DIAS_ATIVO'] < 1000))\n",
    "data['QTDE_DIAS_ATIVO_MENOR_QUE_1000'] = 0\n",
    "data.loc[QTDE_DIAS_ATIVO_MENOR_QUE_1000, 'QTDE_DIAS_ATIVO_MENOR_QUE_1000'] = 1\n",
    "QTDE_DIAS_ATIVO_MAIOR_QUE_1000 = np.array(data['QTDE_DIAS_ATIVO'] >= 1000)\n",
    "data['QTDE_DIAS_ATIVO_MAIOR_QUE_1000'] = 0\n",
    "data.loc[QTDE_DIAS_ATIVO_MAIOR_QUE_1000, 'QTDE_DIAS_ATIVO_MAIOR_QUE_1000'] = 1\n",
    "data.drop(labels='QTDE_DIAS_ATIVO', axis=1, inplace=True)"
   ],
   "metadata": {
    "collapsed": false,
    "pycharm": {
     "name": "#%%\n"
    }
   }
  },
  {
   "cell_type": "markdown",
   "source": [],
   "metadata": {
    "collapsed": false,
    "pycharm": {
     "name": "#%% md\n"
    }
   }
  },
  {
   "cell_type": "code",
   "execution_count": 278,
   "outputs": [],
   "source": [],
   "metadata": {
    "collapsed": false,
    "pycharm": {
     "name": "#%%\n"
    }
   }
  },
  {
   "cell_type": "code",
   "execution_count": 279,
   "outputs": [
    {
     "data": {
      "text/plain": "        NUM_BENEFICIARIOS_FAMILIA  SITUACAO  IDADE  SEXO  QTDE_ATENDIMENTOS  \\\n0                             1.0         1   40.0     0                1.0   \n1                             2.0         1   56.0     0                2.0   \n2                             2.0         1   66.0     0               18.0   \n3                             3.0         1   62.0     1                1.0   \n4                             1.0         1   47.0     1                0.0   \n...                           ...       ...    ...   ...                ...   \n386387                        2.0         0   26.0     0                2.0   \n386388                        1.0         0   42.0     1                1.0   \n386389                        2.0         0   32.0     1                3.0   \n386390                        1.0         1   37.0     0                1.0   \n386391                        4.0         1   70.0     1                0.0   \n\n        QTDE_ATO_COBERTO_EXECUTADO  QTDE_ATO_N_COBERTO_EXECUTADO  \\\n0                              8.0                           0.0   \n1                             10.0                           0.0   \n2                             73.0                           8.0   \n3                              1.0                           0.0   \n4                              0.0                           0.0   \n...                            ...                           ...   \n386387                        11.0                           0.0   \n386388                         1.0                           0.0   \n386389                         7.0                           0.0   \n386390                         5.0                           0.0   \n386391                         0.0                           0.0   \n\n        REALIZOU_ENDODONTIA_COBERTA  REALIZOU_EXODONTIA_COBERTA  \\\n0                                 0                           0   \n1                                 0                           0   \n2                                 1                           0   \n3                                 0                           0   \n4                                 0                           0   \n...                             ...                         ...   \n386387                            0                           0   \n386388                            0                           0   \n386389                            1                           0   \n386390                            0                           0   \n386391                            0                           0   \n\n        REALIZOU_PROCEDIMEN_ALTO_CUSTO  ...  PLANO_422427992  PLANO_475441167  \\\n0                                    0  ...                0                0   \n1                                    1  ...                0                0   \n2                                    1  ...                0                0   \n3                                    0  ...                1                0   \n4                                    0  ...                0                0   \n...                                ...  ...              ...              ...   \n386387                               0  ...                0                0   \n386388                               0  ...                0                0   \n386389                               0  ...                0                0   \n386390                               0  ...                0                0   \n386391                               0  ...                0                0   \n\n        PLANO_475840164  PLANO_476697161  PLANO_476698169  PLANO_481484183  \\\n0                     0                0                0                0   \n1                     0                0                0                0   \n2                     0                0                0                0   \n3                     0                0                0                0   \n4                     0                0                0                0   \n...                 ...              ...              ...              ...   \n386387                0                0                0                0   \n386388                0                0                0                0   \n386389                0                0                0                0   \n386390                0                0                0                0   \n386391                0                0                0                0   \n\n        PLANO_481485181  PLANO_484629190  PLANO_703454997  PLANO_OUTROS  \n0                     0                0                0             0  \n1                     0                0                0             0  \n2                     0                0                0             0  \n3                     0                0                0             0  \n4                     0                0                0             0  \n...                 ...              ...              ...           ...  \n386387                1                0                0             0  \n386388                1                0                0             0  \n386389                1                0                0             0  \n386390                0                0                0             0  \n386391                0                0                1             0  \n\n[333070 rows x 38 columns]",
      "text/html": "<div>\n<style scoped>\n    .dataframe tbody tr th:only-of-type {\n        vertical-align: middle;\n    }\n\n    .dataframe tbody tr th {\n        vertical-align: top;\n    }\n\n    .dataframe thead th {\n        text-align: right;\n    }\n</style>\n<table border=\"1\" class=\"dataframe\">\n  <thead>\n    <tr style=\"text-align: right;\">\n      <th></th>\n      <th>NUM_BENEFICIARIOS_FAMILIA</th>\n      <th>SITUACAO</th>\n      <th>IDADE</th>\n      <th>SEXO</th>\n      <th>QTDE_ATENDIMENTOS</th>\n      <th>QTDE_ATO_COBERTO_EXECUTADO</th>\n      <th>QTDE_ATO_N_COBERTO_EXECUTADO</th>\n      <th>REALIZOU_ENDODONTIA_COBERTA</th>\n      <th>REALIZOU_EXODONTIA_COBERTA</th>\n      <th>REALIZOU_PROCEDIMEN_ALTO_CUSTO</th>\n      <th>...</th>\n      <th>PLANO_422427992</th>\n      <th>PLANO_475441167</th>\n      <th>PLANO_475840164</th>\n      <th>PLANO_476697161</th>\n      <th>PLANO_476698169</th>\n      <th>PLANO_481484183</th>\n      <th>PLANO_481485181</th>\n      <th>PLANO_484629190</th>\n      <th>PLANO_703454997</th>\n      <th>PLANO_OUTROS</th>\n    </tr>\n  </thead>\n  <tbody>\n    <tr>\n      <th>0</th>\n      <td>1.0</td>\n      <td>1</td>\n      <td>40.0</td>\n      <td>0</td>\n      <td>1.0</td>\n      <td>8.0</td>\n      <td>0.0</td>\n      <td>0</td>\n      <td>0</td>\n      <td>0</td>\n      <td>...</td>\n      <td>0</td>\n      <td>0</td>\n      <td>0</td>\n      <td>0</td>\n      <td>0</td>\n      <td>0</td>\n      <td>0</td>\n      <td>0</td>\n      <td>0</td>\n      <td>0</td>\n    </tr>\n    <tr>\n      <th>1</th>\n      <td>2.0</td>\n      <td>1</td>\n      <td>56.0</td>\n      <td>0</td>\n      <td>2.0</td>\n      <td>10.0</td>\n      <td>0.0</td>\n      <td>0</td>\n      <td>0</td>\n      <td>1</td>\n      <td>...</td>\n      <td>0</td>\n      <td>0</td>\n      <td>0</td>\n      <td>0</td>\n      <td>0</td>\n      <td>0</td>\n      <td>0</td>\n      <td>0</td>\n      <td>0</td>\n      <td>0</td>\n    </tr>\n    <tr>\n      <th>2</th>\n      <td>2.0</td>\n      <td>1</td>\n      <td>66.0</td>\n      <td>0</td>\n      <td>18.0</td>\n      <td>73.0</td>\n      <td>8.0</td>\n      <td>1</td>\n      <td>0</td>\n      <td>1</td>\n      <td>...</td>\n      <td>0</td>\n      <td>0</td>\n      <td>0</td>\n      <td>0</td>\n      <td>0</td>\n      <td>0</td>\n      <td>0</td>\n      <td>0</td>\n      <td>0</td>\n      <td>0</td>\n    </tr>\n    <tr>\n      <th>3</th>\n      <td>3.0</td>\n      <td>1</td>\n      <td>62.0</td>\n      <td>1</td>\n      <td>1.0</td>\n      <td>1.0</td>\n      <td>0.0</td>\n      <td>0</td>\n      <td>0</td>\n      <td>0</td>\n      <td>...</td>\n      <td>1</td>\n      <td>0</td>\n      <td>0</td>\n      <td>0</td>\n      <td>0</td>\n      <td>0</td>\n      <td>0</td>\n      <td>0</td>\n      <td>0</td>\n      <td>0</td>\n    </tr>\n    <tr>\n      <th>4</th>\n      <td>1.0</td>\n      <td>1</td>\n      <td>47.0</td>\n      <td>1</td>\n      <td>0.0</td>\n      <td>0.0</td>\n      <td>0.0</td>\n      <td>0</td>\n      <td>0</td>\n      <td>0</td>\n      <td>...</td>\n      <td>0</td>\n      <td>0</td>\n      <td>0</td>\n      <td>0</td>\n      <td>0</td>\n      <td>0</td>\n      <td>0</td>\n      <td>0</td>\n      <td>0</td>\n      <td>0</td>\n    </tr>\n    <tr>\n      <th>...</th>\n      <td>...</td>\n      <td>...</td>\n      <td>...</td>\n      <td>...</td>\n      <td>...</td>\n      <td>...</td>\n      <td>...</td>\n      <td>...</td>\n      <td>...</td>\n      <td>...</td>\n      <td>...</td>\n      <td>...</td>\n      <td>...</td>\n      <td>...</td>\n      <td>...</td>\n      <td>...</td>\n      <td>...</td>\n      <td>...</td>\n      <td>...</td>\n      <td>...</td>\n      <td>...</td>\n    </tr>\n    <tr>\n      <th>386387</th>\n      <td>2.0</td>\n      <td>0</td>\n      <td>26.0</td>\n      <td>0</td>\n      <td>2.0</td>\n      <td>11.0</td>\n      <td>0.0</td>\n      <td>0</td>\n      <td>0</td>\n      <td>0</td>\n      <td>...</td>\n      <td>0</td>\n      <td>0</td>\n      <td>0</td>\n      <td>0</td>\n      <td>0</td>\n      <td>0</td>\n      <td>1</td>\n      <td>0</td>\n      <td>0</td>\n      <td>0</td>\n    </tr>\n    <tr>\n      <th>386388</th>\n      <td>1.0</td>\n      <td>0</td>\n      <td>42.0</td>\n      <td>1</td>\n      <td>1.0</td>\n      <td>1.0</td>\n      <td>0.0</td>\n      <td>0</td>\n      <td>0</td>\n      <td>0</td>\n      <td>...</td>\n      <td>0</td>\n      <td>0</td>\n      <td>0</td>\n      <td>0</td>\n      <td>0</td>\n      <td>0</td>\n      <td>1</td>\n      <td>0</td>\n      <td>0</td>\n      <td>0</td>\n    </tr>\n    <tr>\n      <th>386389</th>\n      <td>2.0</td>\n      <td>0</td>\n      <td>32.0</td>\n      <td>1</td>\n      <td>3.0</td>\n      <td>7.0</td>\n      <td>0.0</td>\n      <td>1</td>\n      <td>0</td>\n      <td>0</td>\n      <td>...</td>\n      <td>0</td>\n      <td>0</td>\n      <td>0</td>\n      <td>0</td>\n      <td>0</td>\n      <td>0</td>\n      <td>1</td>\n      <td>0</td>\n      <td>0</td>\n      <td>0</td>\n    </tr>\n    <tr>\n      <th>386390</th>\n      <td>1.0</td>\n      <td>1</td>\n      <td>37.0</td>\n      <td>0</td>\n      <td>1.0</td>\n      <td>5.0</td>\n      <td>0.0</td>\n      <td>0</td>\n      <td>0</td>\n      <td>0</td>\n      <td>...</td>\n      <td>0</td>\n      <td>0</td>\n      <td>0</td>\n      <td>0</td>\n      <td>0</td>\n      <td>0</td>\n      <td>0</td>\n      <td>0</td>\n      <td>0</td>\n      <td>0</td>\n    </tr>\n    <tr>\n      <th>386391</th>\n      <td>4.0</td>\n      <td>1</td>\n      <td>70.0</td>\n      <td>1</td>\n      <td>0.0</td>\n      <td>0.0</td>\n      <td>0.0</td>\n      <td>0</td>\n      <td>0</td>\n      <td>0</td>\n      <td>...</td>\n      <td>0</td>\n      <td>0</td>\n      <td>0</td>\n      <td>0</td>\n      <td>0</td>\n      <td>0</td>\n      <td>0</td>\n      <td>0</td>\n      <td>1</td>\n      <td>0</td>\n    </tr>\n  </tbody>\n</table>\n<p>333070 rows × 38 columns</p>\n</div>"
     },
     "execution_count": 279,
     "metadata": {},
     "output_type": "execute_result"
    }
   ],
   "source": [
    "data_dummified = pd.get_dummies(data)\n",
    "data_dummified"
   ],
   "metadata": {
    "collapsed": false,
    "pycharm": {
     "name": "#%%\n"
    }
   }
  },
  {
   "cell_type": "code",
   "execution_count": 280,
   "outputs": [],
   "source": [
    "import numpy as np\n",
    "from sklearn.model_selection import train_test_split\n",
    "from sklearn.model_selection import cross_validate, KFold\n",
    "from sklearn.ensemble import RandomForestClassifier\n",
    "x = data_dummified.drop(labels=['SITUACAO'], axis=1)\n",
    "y = data_dummified['SITUACAO']\n",
    "np.random.seed(1010)\n",
    "train_x, test_x, train_y, test_y = train_test_split(x, y, test_size=0.2, stratify=y)"
   ],
   "metadata": {
    "collapsed": false,
    "pycharm": {
     "name": "#%%\n"
    }
   }
  },
  {
   "cell_type": "code",
   "execution_count": 281,
   "outputs": [
    {
     "data": {
      "text/plain": "RandomForestClassifier(n_estimators=10)",
      "text/html": "<style>#sk-container-id-9 {color: black;background-color: white;}#sk-container-id-9 pre{padding: 0;}#sk-container-id-9 div.sk-toggleable {background-color: white;}#sk-container-id-9 label.sk-toggleable__label {cursor: pointer;display: block;width: 100%;margin-bottom: 0;padding: 0.3em;box-sizing: border-box;text-align: center;}#sk-container-id-9 label.sk-toggleable__label-arrow:before {content: \"▸\";float: left;margin-right: 0.25em;color: #696969;}#sk-container-id-9 label.sk-toggleable__label-arrow:hover:before {color: black;}#sk-container-id-9 div.sk-estimator:hover label.sk-toggleable__label-arrow:before {color: black;}#sk-container-id-9 div.sk-toggleable__content {max-height: 0;max-width: 0;overflow: hidden;text-align: left;background-color: #f0f8ff;}#sk-container-id-9 div.sk-toggleable__content pre {margin: 0.2em;color: black;border-radius: 0.25em;background-color: #f0f8ff;}#sk-container-id-9 input.sk-toggleable__control:checked~div.sk-toggleable__content {max-height: 200px;max-width: 100%;overflow: auto;}#sk-container-id-9 input.sk-toggleable__control:checked~label.sk-toggleable__label-arrow:before {content: \"▾\";}#sk-container-id-9 div.sk-estimator input.sk-toggleable__control:checked~label.sk-toggleable__label {background-color: #d4ebff;}#sk-container-id-9 div.sk-label input.sk-toggleable__control:checked~label.sk-toggleable__label {background-color: #d4ebff;}#sk-container-id-9 input.sk-hidden--visually {border: 0;clip: rect(1px 1px 1px 1px);clip: rect(1px, 1px, 1px, 1px);height: 1px;margin: -1px;overflow: hidden;padding: 0;position: absolute;width: 1px;}#sk-container-id-9 div.sk-estimator {font-family: monospace;background-color: #f0f8ff;border: 1px dotted black;border-radius: 0.25em;box-sizing: border-box;margin-bottom: 0.5em;}#sk-container-id-9 div.sk-estimator:hover {background-color: #d4ebff;}#sk-container-id-9 div.sk-parallel-item::after {content: \"\";width: 100%;border-bottom: 1px solid gray;flex-grow: 1;}#sk-container-id-9 div.sk-label:hover label.sk-toggleable__label {background-color: #d4ebff;}#sk-container-id-9 div.sk-serial::before {content: \"\";position: absolute;border-left: 1px solid gray;box-sizing: border-box;top: 0;bottom: 0;left: 50%;z-index: 0;}#sk-container-id-9 div.sk-serial {display: flex;flex-direction: column;align-items: center;background-color: white;padding-right: 0.2em;padding-left: 0.2em;position: relative;}#sk-container-id-9 div.sk-item {position: relative;z-index: 1;}#sk-container-id-9 div.sk-parallel {display: flex;align-items: stretch;justify-content: center;background-color: white;position: relative;}#sk-container-id-9 div.sk-item::before, #sk-container-id-9 div.sk-parallel-item::before {content: \"\";position: absolute;border-left: 1px solid gray;box-sizing: border-box;top: 0;bottom: 0;left: 50%;z-index: -1;}#sk-container-id-9 div.sk-parallel-item {display: flex;flex-direction: column;z-index: 1;position: relative;background-color: white;}#sk-container-id-9 div.sk-parallel-item:first-child::after {align-self: flex-end;width: 50%;}#sk-container-id-9 div.sk-parallel-item:last-child::after {align-self: flex-start;width: 50%;}#sk-container-id-9 div.sk-parallel-item:only-child::after {width: 0;}#sk-container-id-9 div.sk-dashed-wrapped {border: 1px dashed gray;margin: 0 0.4em 0.5em 0.4em;box-sizing: border-box;padding-bottom: 0.4em;background-color: white;}#sk-container-id-9 div.sk-label label {font-family: monospace;font-weight: bold;display: inline-block;line-height: 1.2em;}#sk-container-id-9 div.sk-label-container {text-align: center;}#sk-container-id-9 div.sk-container {/* jupyter's `normalize.less` sets `[hidden] { display: none; }` but bootstrap.min.css set `[hidden] { display: none !important; }` so we also need the `!important` here to be able to override the default hidden behavior on the sphinx rendered scikit-learn.org. See: https://github.com/scikit-learn/scikit-learn/issues/21755 */display: inline-block !important;position: relative;}#sk-container-id-9 div.sk-text-repr-fallback {display: none;}</style><div id=\"sk-container-id-9\" class=\"sk-top-container\"><div class=\"sk-text-repr-fallback\"><pre>RandomForestClassifier(n_estimators=10)</pre><b>In a Jupyter environment, please rerun this cell to show the HTML representation or trust the notebook. <br />On GitHub, the HTML representation is unable to render, please try loading this page with nbviewer.org.</b></div><div class=\"sk-container\" hidden><div class=\"sk-item\"><div class=\"sk-estimator sk-toggleable\"><input class=\"sk-toggleable__control sk-hidden--visually\" id=\"sk-estimator-id-9\" type=\"checkbox\" checked><label for=\"sk-estimator-id-9\" class=\"sk-toggleable__label sk-toggleable__label-arrow\">RandomForestClassifier</label><div class=\"sk-toggleable__content\"><pre>RandomForestClassifier(n_estimators=10)</pre></div></div></div></div></div>"
     },
     "execution_count": 281,
     "metadata": {},
     "output_type": "execute_result"
    }
   ],
   "source": [
    "random_forest_classifier = RandomForestClassifier(10)\n",
    "random_forest_classifier.fit(train_x,train_y)"
   ],
   "metadata": {
    "collapsed": false,
    "pycharm": {
     "name": "#%%\n"
    }
   }
  },
  {
   "cell_type": "code",
   "execution_count": 282,
   "outputs": [
    {
     "name": "stdout",
     "output_type": "stream",
     "text": [
      "Accuracy Score: 0.828\n",
      "Recall Score: 0.903\n",
      "Precision Score: 0.838\n",
      "F1 Score: 0.869\n",
      "\n"
     ]
    }
   ],
   "source": [
    "predicts_rfc = random_forest_classifier.predict(test_x)\n",
    "\n",
    "all_scores(predicts_rfc, test_y)"
   ],
   "metadata": {
    "collapsed": false,
    "pycharm": {
     "name": "#%%\n"
    }
   }
  },
  {
   "cell_type": "code",
   "execution_count": 283,
   "outputs": [
    {
     "data": {
      "text/plain": "NUM_BENEFICIARIOS_FAMILIA                    4.040513\nIDADE                                       17.339454\nSEXO                                         0.749730\nQTDE_ATENDIMENTOS                            3.959162\nQTDE_ATO_COBERTO_EXECUTADO                   6.405765\nQTDE_ATO_N_COBERTO_EXECUTADO                 0.551345\nREALIZOU_ENDODONTIA_COBERTA                  2.925275\nREALIZOU_EXODONTIA_COBERTA                   0.497823\nREALIZOU_PROCEDIMEN_ALTO_CUSTO               3.168741\nQTDE_DIAS_ATIVO_MENOR_QUE_365                0.955139\nQTDE_DIAS_ATIVO_MENOR_QUE_1000               1.215493\nQTDE_DIAS_ATIVO_MAIOR_QUE_1000               0.689743\nDIAS_ATE_REALIZAR_ALTO_CUSTO_0-14            0.071965\nDIAS_ATE_REALIZAR_ALTO_CUSTO_15-30           0.032246\nDIAS_ATE_REALIZAR_ALTO_CUSTO_200+            0.200357\nDIAS_ATE_REALIZAR_ALTO_CUSTO_31-60           0.055622\nDIAS_ATE_REALIZAR_ALTO_CUSTO_61-90           0.097071\nDIAS_ATE_REALIZAR_ALTO_CUSTO_91-200          0.230608\nDIAS_ATE_REALIZAR_ALTO_CUSTO_NaoRealizou     3.904313\nFORMA_PGTO_MENSALIDADE_boleto               13.415374\nFORMA_PGTO_MENSALIDADE_boleto digital       13.902939\nFORMA_PGTO_MENSALIDADE_carne                 0.406200\nFORMA_PGTO_MENSALIDADE_carne digital         0.001612\nFORMA_PGTO_MENSALIDADE_cartao de credito     2.008537\nFORMA_PGTO_MENSALIDADE_debito automatico     7.365421\nFORMA_PGTO_MENSALIDADE_desconto em folha     0.713474\nPLANO_408875991                              2.842598\nPLANO_422427992                              0.164950\nPLANO_475441167                              2.312747\nPLANO_475840164                              2.599609\nPLANO_476697161                              0.298586\nPLANO_476698169                              0.127356\nPLANO_481484183                              3.053329\nPLANO_481485181                              1.737402\nPLANO_484629190                              0.887694\nPLANO_703454997                              0.809180\nPLANO_OUTROS                                 0.262622\ndtype: float64"
     },
     "execution_count": 283,
     "metadata": {},
     "output_type": "execute_result"
    }
   ],
   "source": [
    "feature_importances = random_forest_classifier.feature_importances_\n",
    "feature_importance_df = pd.Series(feature_importances, index=pd.Series([col for col in x.columns]))\n",
    "feature_importance_df * 100"
   ],
   "metadata": {
    "collapsed": false,
    "pycharm": {
     "name": "#%%\n"
    }
   }
  },
  {
   "cell_type": "code",
   "execution_count": 252,
   "outputs": [],
   "source": [
    "\n"
   ],
   "metadata": {
    "collapsed": false,
    "pycharm": {
     "name": "#%%\n"
    }
   }
  },
  {
   "cell_type": "code",
   "execution_count": 253,
   "outputs": [
    {
     "name": "stderr",
     "output_type": "stream",
     "text": [
      "\n",
      "KeyboardInterrupt\n",
      "\n"
     ]
    }
   ],
   "source": [
    "from scipy.stats import randint\n",
    "from sklearn.model_selection import RandomizedSearchCV, KFold\n",
    "tt_x, val_x, tt_y, val_y = train_test_split(x, y, test_size=0.2, stratify=y)\n",
    "### hiper-parametrização (?)\n",
    "parametros_para_RSCV = {\n",
    "    \"max_depth\" : randint(3, 100),\n",
    "    \"min_samples_split\": randint(2, 16),\n",
    "    \"min_samples_leaf\": randint(1, 16),\n",
    "    \"bootstrap\" : [True, False],\n",
    "    \"criterion\": [\"gini\", \"entropy\"]\n",
    "}\n",
    "\n",
    "RSCross_validation = RandomizedSearchCV(RandomForestClassifier(n_estimators=10), parametros_para_RSCV, n_iter= 16, cv = KFold(n_splits = 5, shuffle=True))\n",
    "RSCross_validation.fit(tt_x,tt_y)\n",
    "resultados = pd.DataFrame(RSCross_validation.cv_results_)"
   ],
   "metadata": {
    "collapsed": false,
    "pycharm": {
     "name": "#%%\n"
    }
   }
  },
  {
   "cell_type": "code",
   "execution_count": null,
   "outputs": [],
   "source": [
    "best_random_forest = RSCross_validation.best_estimator_\n",
    "predicts_rfc = best_random_forest.predict(val_x)\n",
    "all_scores(predicts_rfc, val_y)"
   ],
   "metadata": {
    "collapsed": false,
    "pycharm": {
     "name": "#%%\n"
    }
   }
  },
  {
   "cell_type": "code",
   "execution_count": null,
   "outputs": [],
   "source": [
    "feature_importances = random_forest_classifier.feature_importances_\n",
    "feature_importance_df = pd.Series(feature_importances, index=pd.Series([col for col in x.columns]))\n",
    "feature_importance_df * 100"
   ],
   "metadata": {
    "collapsed": false,
    "pycharm": {
     "name": "#%%\n"
    }
   }
  },
  {
   "cell_type": "markdown",
   "source": [],
   "metadata": {
    "collapsed": false,
    "pycharm": {
     "name": "#%% md\n"
    }
   }
  },
  {
   "cell_type": "code",
   "execution_count": 16,
   "outputs": [
    {
     "data": {
      "text/plain": "NUM_BENEFICIARIOS_FAMILIA      4.230150\nIDADE                         16.445295\nSEXO                           0.841267\nQTDE_ATENDIMENTOS              3.995552\nQTDE_ATO_COBERTO_EXECUTADO     4.706514\n                                ...    \nPLANO_481484183                1.132975\nPLANO_481485181                0.280964\nPLANO_484629190                0.178247\nPLANO_703454997                0.416821\nPLANO_OUTROS                   0.119362\nLength: 156, dtype: float64"
     },
     "execution_count": 16,
     "metadata": {},
     "output_type": "execute_result"
    }
   ],
   "source": [
    "feature_importance_df = pd.Series(feature_importances, index=pd.Series([col for col in x.columns]))\n",
    "feature_importance_df * 100"
   ],
   "metadata": {
    "collapsed": false,
    "pycharm": {
     "name": "#%%\n"
    }
   }
  },
  {
   "cell_type": "code",
   "execution_count": 82,
   "outputs": [
    {
     "data": {
      "text/plain": "['ESTADO_CIVIL_Indefinido',\n 'ESTADO_CIVIL_amasiado',\n 'ESTADO_CIVIL_casado',\n 'ESTADO_CIVIL_convivente',\n 'ESTADO_CIVIL_desquitado',\n 'ESTADO_CIVIL_divorciado',\n 'ESTADO_CIVIL_marital',\n 'ESTADO_CIVIL_separado',\n 'ESTADO_CIVIL_solteiro',\n 'ESTADO_CIVIL_uniao estavel',\n 'ESTADO_CIVIL_viuvo']"
     },
     "execution_count": 82,
     "metadata": {},
     "output_type": "execute_result"
    }
   ],
   "source": [
    "ESTADO_CIVIL = []\n",
    "for feature in feature_importance_df.index:\n",
    "    if feature[:4] == 'ESTA':\n",
    "        ESTADO_CIVIL.append(feature)\n",
    "ESTADO_CIVIL"
   ],
   "metadata": {
    "collapsed": false,
    "pycharm": {
     "name": "#%%\n"
    }
   }
  },
  {
   "cell_type": "code",
   "execution_count": 84,
   "outputs": [
    {
     "data": {
      "text/plain": "1.5044169724331176"
     },
     "execution_count": 84,
     "metadata": {},
     "output_type": "execute_result"
    }
   ],
   "source": [
    "feature_importance_df.loc[ESTADO_CIVIL].sum() * 100"
   ],
   "metadata": {
    "collapsed": false,
    "pycharm": {
     "name": "#%%\n"
    }
   }
  },
  {
   "cell_type": "code",
   "execution_count": 83,
   "outputs": [
    {
     "data": {
      "text/plain": "ESTADO_CIVIL_Indefinido       0.000000\nESTADO_CIVIL_amasiado         0.144802\nESTADO_CIVIL_casado           0.348653\nESTADO_CIVIL_convivente       0.050170\nESTADO_CIVIL_desquitado       0.060099\nESTADO_CIVIL_divorciado       0.187190\nESTADO_CIVIL_marital          0.020453\nESTADO_CIVIL_separado         0.084340\nESTADO_CIVIL_solteiro         0.321053\nESTADO_CIVIL_uniao estavel    0.116904\nESTADO_CIVIL_viuvo            0.170753\ndtype: float64"
     },
     "execution_count": 83,
     "metadata": {},
     "output_type": "execute_result"
    }
   ],
   "source": [
    "feature_importance_df.loc[ESTADO_CIVIL] * 100"
   ],
   "metadata": {
    "collapsed": false,
    "pycharm": {
     "name": "#%%\n"
    }
   }
  },
  {
   "cell_type": "code",
   "execution_count": 44,
   "outputs": [
    {
     "data": {
      "text/plain": "False    86\nTrue     22\ndtype: int64"
     },
     "execution_count": 44,
     "metadata": {},
     "output_type": "execute_result"
    }
   ],
   "source": [
    "abaixo_de_0_05_porcento = pd.Series(feature_importance_df.loc[A006_NM_PLANO] > 0.0005)\n",
    "abaixo_de_0_05_porcento.value_counts()"
   ],
   "metadata": {
    "collapsed": false,
    "pycharm": {
     "name": "#%%\n"
    }
   }
  },
  {
   "cell_type": "code",
   "execution_count": 22,
   "outputs": [
    {
     "data": {
      "text/plain": "REALIZOU_EXODONTIA_COBERTA    0.400658\nESTADO_CIVIL_Indefinido       0.000000\nESTADO_CIVIL_amasiado         0.138625\nESTADO_CIVIL_casado           0.386599\nESTADO_CIVIL_convivente       0.042550\n                                ...   \nPLANO_476698169               0.071738\nPLANO_481485181               0.280964\nPLANO_484629190               0.178247\nPLANO_703454997               0.416821\nPLANO_OUTROS                  0.119362\nLength: 130, dtype: float64"
     },
     "execution_count": 22,
     "metadata": {},
     "output_type": "execute_result"
    }
   ],
   "source": [
    "feature_importance_df[(feature_importance_df * 100) < 0.5] * 100"
   ],
   "metadata": {
    "collapsed": false,
    "pycharm": {
     "name": "#%%\n"
    }
   }
  },
  {
   "cell_type": "code",
   "execution_count": 13,
   "outputs": [
    {
     "data": {
      "text/plain": "([<matplotlib.patches.Wedge at 0x240e7181b40>,\n  <matplotlib.patches.Wedge at 0x240e7181ff0>,\n  <matplotlib.patches.Wedge at 0x240e71824d0>,\n  <matplotlib.patches.Wedge at 0x240e7182a10>,\n  <matplotlib.patches.Wedge at 0x240e7182ef0>,\n  <matplotlib.patches.Wedge at 0x240e71833d0>,\n  <matplotlib.patches.Wedge at 0x240e71838b0>,\n  <matplotlib.patches.Wedge at 0x240e7183d90>,\n  <matplotlib.patches.Wedge at 0x240e71b02b0>,\n  <matplotlib.patches.Wedge at 0x240e71b0790>,\n  <matplotlib.patches.Wedge at 0x240e7181b10>,\n  <matplotlib.patches.Wedge at 0x240e71b1120>,\n  <matplotlib.patches.Wedge at 0x240e71b1630>,\n  <matplotlib.patches.Wedge at 0x240e71b1b10>,\n  <matplotlib.patches.Wedge at 0x240e71b1ff0>,\n  <matplotlib.patches.Wedge at 0x240e71b2470>,\n  <matplotlib.patches.Wedge at 0x240e71b2950>,\n  <matplotlib.patches.Wedge at 0x240e71b2e30>,\n  <matplotlib.patches.Wedge at 0x240e71b3310>,\n  <matplotlib.patches.Wedge at 0x240e71b37f0>,\n  <matplotlib.patches.Wedge at 0x240e71b3cd0>,\n  <matplotlib.patches.Wedge at 0x240e71e81f0>,\n  <matplotlib.patches.Wedge at 0x240e71e86d0>,\n  <matplotlib.patches.Wedge at 0x240e71e8bb0>,\n  <matplotlib.patches.Wedge at 0x240e71e9090>,\n  <matplotlib.patches.Wedge at 0x240e71e9570>,\n  <matplotlib.patches.Wedge at 0x240e71e9a50>,\n  <matplotlib.patches.Wedge at 0x240e71e9f30>,\n  <matplotlib.patches.Wedge at 0x240e71ea410>,\n  <matplotlib.patches.Wedge at 0x240e71ea8f0>,\n  <matplotlib.patches.Wedge at 0x240e71eadd0>,\n  <matplotlib.patches.Wedge at 0x240e71eb2b0>,\n  <matplotlib.patches.Wedge at 0x240e71eb790>,\n  <matplotlib.patches.Wedge at 0x240e71ebc70>,\n  <matplotlib.patches.Wedge at 0x240e721c190>,\n  <matplotlib.patches.Wedge at 0x240e721c670>,\n  <matplotlib.patches.Wedge at 0x240e721cb50>,\n  <matplotlib.patches.Wedge at 0x240e721d030>,\n  <matplotlib.patches.Wedge at 0x240e721d510>,\n  <matplotlib.patches.Wedge at 0x240e721d9f0>,\n  <matplotlib.patches.Wedge at 0x240e721ded0>,\n  <matplotlib.patches.Wedge at 0x240e721e3b0>,\n  <matplotlib.patches.Wedge at 0x240e721e890>,\n  <matplotlib.patches.Wedge at 0x240e721ed70>,\n  <matplotlib.patches.Wedge at 0x240e721f250>,\n  <matplotlib.patches.Wedge at 0x240e721f730>,\n  <matplotlib.patches.Wedge at 0x240e721fc10>,\n  <matplotlib.patches.Wedge at 0x240e7254130>,\n  <matplotlib.patches.Wedge at 0x240e7254610>,\n  <matplotlib.patches.Wedge at 0x240e7254af0>,\n  <matplotlib.patches.Wedge at 0x240e7254fd0>,\n  <matplotlib.patches.Wedge at 0x240e72554b0>,\n  <matplotlib.patches.Wedge at 0x240e7255990>,\n  <matplotlib.patches.Wedge at 0x240e7255e70>,\n  <matplotlib.patches.Wedge at 0x240e7256350>,\n  <matplotlib.patches.Wedge at 0x240e7256830>,\n  <matplotlib.patches.Wedge at 0x240e7256d10>,\n  <matplotlib.patches.Wedge at 0x240e72571f0>,\n  <matplotlib.patches.Wedge at 0x240e72576d0>,\n  <matplotlib.patches.Wedge at 0x240e7257bb0>,\n  <matplotlib.patches.Wedge at 0x240e72880d0>,\n  <matplotlib.patches.Wedge at 0x240e72885b0>,\n  <matplotlib.patches.Wedge at 0x240e7288a90>,\n  <matplotlib.patches.Wedge at 0x240e7288f70>,\n  <matplotlib.patches.Wedge at 0x240e7289450>,\n  <matplotlib.patches.Wedge at 0x240e7289930>,\n  <matplotlib.patches.Wedge at 0x240e7289e40>,\n  <matplotlib.patches.Wedge at 0x240e728a320>,\n  <matplotlib.patches.Wedge at 0x240e728a800>,\n  <matplotlib.patches.Wedge at 0x240e728ace0>,\n  <matplotlib.patches.Wedge at 0x240e728b1c0>,\n  <matplotlib.patches.Wedge at 0x240e728b6a0>,\n  <matplotlib.patches.Wedge at 0x240e728bb80>,\n  <matplotlib.patches.Wedge at 0x240e72bc0a0>,\n  <matplotlib.patches.Wedge at 0x240e72bc580>,\n  <matplotlib.patches.Wedge at 0x240e72bca60>,\n  <matplotlib.patches.Wedge at 0x240e72bcf40>,\n  <matplotlib.patches.Wedge at 0x240e72bd420>,\n  <matplotlib.patches.Wedge at 0x240e72bd900>,\n  <matplotlib.patches.Wedge at 0x240e72bdde0>,\n  <matplotlib.patches.Wedge at 0x240e72be2c0>,\n  <matplotlib.patches.Wedge at 0x240e72be7d0>,\n  <matplotlib.patches.Wedge at 0x240e72becb0>,\n  <matplotlib.patches.Wedge at 0x240e72bf190>,\n  <matplotlib.patches.Wedge at 0x240e72bf670>,\n  <matplotlib.patches.Wedge at 0x240e72bfb50>,\n  <matplotlib.patches.Wedge at 0x240e72f0070>,\n  <matplotlib.patches.Wedge at 0x240e72f0550>,\n  <matplotlib.patches.Wedge at 0x240e72f0a30>,\n  <matplotlib.patches.Wedge at 0x240e72f0f10>,\n  <matplotlib.patches.Wedge at 0x240e72f13f0>,\n  <matplotlib.patches.Wedge at 0x240e72f18d0>,\n  <matplotlib.patches.Wedge at 0x240e72f1db0>,\n  <matplotlib.patches.Wedge at 0x240e72f2290>,\n  <matplotlib.patches.Wedge at 0x240e72f2770>,\n  <matplotlib.patches.Wedge at 0x240e72f2c50>,\n  <matplotlib.patches.Wedge at 0x240e72f3130>,\n  <matplotlib.patches.Wedge at 0x240e72f3610>,\n  <matplotlib.patches.Wedge at 0x240e72f3af0>,\n  <matplotlib.patches.Wedge at 0x240e72f3fd0>,\n  <matplotlib.patches.Wedge at 0x240e7324520>,\n  <matplotlib.patches.Wedge at 0x240e7324a00>,\n  <matplotlib.patches.Wedge at 0x240e7324ee0>,\n  <matplotlib.patches.Wedge at 0x240e73253c0>,\n  <matplotlib.patches.Wedge at 0x240e73258a0>,\n  <matplotlib.patches.Wedge at 0x240e7325d80>,\n  <matplotlib.patches.Wedge at 0x240e7326260>,\n  <matplotlib.patches.Wedge at 0x240e7326740>,\n  <matplotlib.patches.Wedge at 0x240e7326c20>,\n  <matplotlib.patches.Wedge at 0x240e7327100>,\n  <matplotlib.patches.Wedge at 0x240e73275e0>,\n  <matplotlib.patches.Wedge at 0x240e7327ac0>,\n  <matplotlib.patches.Wedge at 0x240e7327fa0>,\n  <matplotlib.patches.Wedge at 0x240e73604c0>,\n  <matplotlib.patches.Wedge at 0x240e73609a0>,\n  <matplotlib.patches.Wedge at 0x240e7360e80>,\n  <matplotlib.patches.Wedge at 0x240e7361360>,\n  <matplotlib.patches.Wedge at 0x240e7361840>,\n  <matplotlib.patches.Wedge at 0x240e7361d20>,\n  <matplotlib.patches.Wedge at 0x240e7362200>,\n  <matplotlib.patches.Wedge at 0x240e73626e0>,\n  <matplotlib.patches.Wedge at 0x240e7362bc0>,\n  <matplotlib.patches.Wedge at 0x240e73630a0>,\n  <matplotlib.patches.Wedge at 0x240e7363580>,\n  <matplotlib.patches.Wedge at 0x240e7363a60>,\n  <matplotlib.patches.Wedge at 0x240e7363f40>,\n  <matplotlib.patches.Wedge at 0x240e7394460>,\n  <matplotlib.patches.Wedge at 0x240e7394940>,\n  <matplotlib.patches.Wedge at 0x240e7394e20>,\n  <matplotlib.patches.Wedge at 0x240e7395300>,\n  <matplotlib.patches.Wedge at 0x240e73957e0>,\n  <matplotlib.patches.Wedge at 0x240e7395cc0>,\n  <matplotlib.patches.Wedge at 0x240e73961a0>,\n  <matplotlib.patches.Wedge at 0x240e7396680>,\n  <matplotlib.patches.Wedge at 0x240e7396b60>,\n  <matplotlib.patches.Wedge at 0x240e7397040>,\n  <matplotlib.patches.Wedge at 0x240e7397520>,\n  <matplotlib.patches.Wedge at 0x240e7397a00>,\n  <matplotlib.patches.Wedge at 0x240e7397ee0>,\n  <matplotlib.patches.Wedge at 0x240e73cc400>,\n  <matplotlib.patches.Wedge at 0x240e73cc8e0>,\n  <matplotlib.patches.Wedge at 0x240e73ccdc0>,\n  <matplotlib.patches.Wedge at 0x240e73cd2a0>,\n  <matplotlib.patches.Wedge at 0x240e73cd780>,\n  <matplotlib.patches.Wedge at 0x240e73cdc60>,\n  <matplotlib.patches.Wedge at 0x240e73ce140>,\n  <matplotlib.patches.Wedge at 0x240e73ce620>,\n  <matplotlib.patches.Wedge at 0x240e73ceb00>,\n  <matplotlib.patches.Wedge at 0x240e73cefe0>,\n  <matplotlib.patches.Wedge at 0x240e73cf4c0>,\n  <matplotlib.patches.Wedge at 0x240e73cf9a0>,\n  <matplotlib.patches.Wedge at 0x240e73cfe80>,\n  <matplotlib.patches.Wedge at 0x240e73fc3a0>,\n  <matplotlib.patches.Wedge at 0x240e73fc880>,\n  <matplotlib.patches.Wedge at 0x240e73fcd60>,\n  <matplotlib.patches.Wedge at 0x240e73fd240>],\n [Text(1.090300829386238, 0.1457535640719696, ''),\n  Text(0.78012091573431, 0.7755071610461517, ''),\n  Text(0.2671221028899091, 1.0670734661435795, ''),\n  Text(0.10252223511076579, 1.0952119389907569, ''),\n  Text(-0.19698229784200447, 1.0822190047938005, ''),\n  Text(-0.38186689751191794, 1.0315898761545805, ''),\n  Text(-0.4577909881795113, 1.0002136827406565, ''),\n  Text(-0.517585913394238, 0.9706208437159448, ''),\n  Text(-0.6566560548667404, 0.8824980598317759, ''),\n  Text(-0.8833786118122842, 0.6554709972169646, ''),\n  Text(-1.0234159957629845, 0.403261329185504, ''),\n  Text(-1.095159428531362, -0.1030816477306267, ''),\n  Text(-0.9878264940402254, -0.4839409237419344, ''),\n  Text(-0.9857095590130626, -0.48823832835027814, ''),\n  Text(-0.9775196112663146, -0.5044357338549217, ''),\n  Text(-0.9706301043213893, -0.5175685467501374, ''),\n  Text(-0.9689643389921855, -0.5206804295932748, ''),\n  Text(-0.9649800447221597, -0.5280279474497716, ''),\n  Text(-0.9616095243874833, -0.5341414818260032, ''),\n  Text(-0.959962019342346, -0.5370967523828136, ''),\n  Text(-0.9513334399891957, -0.5522360781027654, ''),\n  Text(-0.94177836213797, -0.5683779698481662, ''),\n  Text(-0.9368946645301147, -0.5763925637749016, ''),\n  Text(-0.9302238488948059, -0.5870975991667257, ''),\n  Text(-0.9225875451986236, -0.5990260607389113, ''),\n  Text(-0.9131693819487958, -0.6132875996392348, ''),\n  Text(-0.9007392294645508, -0.631402281040865, ''),\n  Text(-0.8929510191591513, -0.6423694243833785, ''),\n  Text(-0.8854343173643499, -0.6526914045960219, ''),\n  Text(-0.8289929526500117, -0.7230288268503654, ''),\n  Text(-0.630072683490002, -0.9016697918416188, ''),\n  Text(-0.19188676782123537, -1.0831340952694266, ''),\n  Text(0.10613768058532212, -1.09486747725922, ''),\n  Text(0.11619868422477929, -1.0938454487652405, ''),\n  Text(0.15439214240413035, -1.0891111359103178, ''),\n  Text(0.3323747722335183, -1.0485833351635514, ''),\n  Text(0.47341857814092425, -0.9929123072411913, ''),\n  Text(0.4801273004613208, -0.9896856952344641, ''),\n  Text(0.4801289642584036, -0.9896848880730437, ''),\n  Text(0.4801289642584036, -0.9896848880730437, ''),\n  Text(0.4801289642584036, -0.9896848880730437, ''),\n  Text(0.4801608507449831, -0.9896694182462416, ''),\n  Text(0.4809801715657993, -0.9892714867823365, ''),\n  Text(0.48177483984987324, -0.9888847271990953, ''),\n  Text(0.48178241378026615, -0.9888810372193718, ''),\n  Text(0.48182139307927474, -0.988862045571144, ''),\n  Text(0.4854419398924318, -0.9870897238820151, ''),\n  Text(0.49018173929822784, -0.9847445671129973, ''),\n  Text(0.5402183295757899, -0.9582088271302575, ''),\n  Text(0.5877242013681293, -0.9298280825648334, ''),\n  Text(0.5941329188109647, -0.9257462259092196, ''),\n  Text(0.6026583544410254, -0.9202189455898174, ''),\n  Text(0.6083986563686513, -0.9164338901027285, ''),\n  Text(0.6119874736518873, -0.9140412091876278, ''),\n  Text(0.6435775230193076, -0.8920806980673514, ''),\n  Text(0.674427130725496, -0.8689925461943704, ''),\n  Text(0.6744739781117092, -0.868956185805801, ''),\n  Text(0.6748059931911554, -0.8686983777775221, ''),\n  Text(0.6763917011997648, -0.8674642739318366, ''),\n  Text(0.6785503425915111, -0.8657767798739714, ''),\n  Text(0.6794673230796078, -0.8650573142093141, ''),\n  Text(0.679478784991487, -0.865048311221109, ''),\n  Text(0.6795084017939012, -0.8650250469734957, ''),\n  Text(0.6795650438321623, -0.8649805496087132, ''),\n  Text(0.6796185897453064, -0.8649384790102711, ''),\n  Text(0.6796666902974572, -0.8649006822173865, ''),\n  Text(0.6797095311306652, -0.8648670148006175, ''),\n  Text(0.6799246693456928, -0.8646978917605561, ''),\n  Text(0.681336348436555, -0.8635860005229019, ''),\n  Text(0.6825811051805964, -0.8626024778833153, ''),\n  Text(0.6849682074022637, -0.860708170548026, ''),\n  Text(0.687404352371118, -0.8587637954299447, ''),\n  Text(0.6875554315415277, -0.8586428410915355, ''),\n  Text(0.687629288782878, -0.8585836949348349, ''),\n  Text(0.6876630297985842, -0.8585566710754927, ''),\n  Text(0.6876965805860503, -0.8585297974154736, ''),\n  Text(0.6877016175750598, -0.8585257626796337, ''),\n  Text(0.6881556725537341, -0.8581618555564667, ''),\n  Text(0.6899072972742686, -0.8567542945137271, ''),\n  Text(0.6912034785550718, -0.855708917350619, ''),\n  Text(0.6967776222740063, -0.8511762127187192, ''),\n  Text(0.7032353920485531, -0.8458486764015879, ''),\n  Text(0.7190522757660279, -0.8324444874679009, ''),\n  Text(0.7343387695524023, -0.8189911913642687, ''),\n  Text(0.7564106664770459, -0.7986506768542498, ''),\n  Text(0.7773408932044811, -0.7782937335942387, ''),\n  Text(0.7815168373339528, -0.7741004023791334, ''),\n  Text(0.7862159558555912, -0.7693272845532513, ''),\n  Text(0.7884414897365475, -0.7670462940800992, ''),\n  Text(0.7901508430829388, -0.7652853357900706, ''),\n  Text(0.7903038969575904, -0.7651272772902863, ''),\n  Text(0.8139729920379384, -0.7398972687020857, ''),\n  Text(0.8378008300508432, -0.7128041590550089, ''),\n  Text(0.838876473835948, -0.7115379551679349, ''),\n  Text(0.8389018099201813, -0.7115080837999272, ''),\n  Text(0.8389659071031171, -0.7114325032767648, ''),\n  Text(0.8390223597323027, -0.7113659254344692, ''),\n  Text(0.8390383565033646, -0.711347057571853, ''),\n  Text(0.8390771732466935, -0.7113012704447663, ''),\n  Text(0.8391240657440722, -0.7112459506311007, ''),\n  Text(0.8391325407590015, -0.7112359517342629, ''),\n  Text(0.8406085061001494, -0.7094909016133155, ''),\n  Text(0.8433218486516598, -0.7062635907271075, ''),\n  Text(0.8450682593873089, -0.7041730163646602, ''),\n  Text(0.8456934254795706, -0.7034220853091195, ''),\n  Text(0.8458114549319777, -0.7032801594712105, ''),\n  Text(0.8465333544732819, -0.702411047581267, ''),\n  Text(0.8483226979597003, -0.7002489558195537, ''),\n  Text(0.8494613702279479, -0.6988672123447038, ''),\n  Text(0.8498800940584554, -0.698357949566833, ''),\n  Text(0.850288967916523, -0.6978600655141792, ''),\n  Text(0.8503515614716899, -0.6977837930925731, ''),\n  Text(0.8576599643240533, -0.6887810868452064, ''),\n  Text(0.878927102238061, -0.6614281132151892, ''),\n  Text(0.892673511161212, -0.642755009681849, ''),\n  Text(0.8968440463845425, -0.6369228810967625, ''),\n  Text(0.9011560197403201, -0.630807282841427, ''),\n  Text(0.9017337417483274, -0.6299811576488306, ''),\n  Text(0.9021450255448775, -0.6293920502235727, ''),\n  Text(0.9024411127502528, -0.6289674379632745, ''),\n  Text(0.9026469625081791, -0.6286719820977852, ''),\n  Text(0.9027393741326927, -0.6285392767286022, ''),\n  Text(0.9044107920774009, -0.6261318704345982, ''),\n  Text(0.9061166878587157, -0.6236606032001308, ''),\n  Text(0.9062867302403922, -0.6234134764265036, ''),\n  Text(0.9079782692530456, -0.6209472300962812, ''),\n  Text(0.9140458222136746, -0.6119805837555043, ''),\n  Text(0.9188974975714365, -0.6046713065434413, ''),\n  Text(0.9193812276933299, -0.6039355579572259, ''),\n  Text(0.9194276245780632, -0.6038649212884785, ''),\n  Text(0.9207479872961563, -0.6018497685386923, ''),\n  Text(0.9220396226977627, -0.5998690975332598, ''),\n  Text(0.9220569504029033, -0.5998424628297817, ''),\n  Text(0.9220578498143225, -0.5998410802835936, ''),\n  Text(0.9221334342964821, -0.5997248780504071, ''),\n  Text(0.9222280295192734, -0.5995794038899254, ''),\n  Text(0.9222566235365127, -0.5995354204240407, ''),\n  Text(0.9224195380906297, -0.5992847367893409, ''),\n  Text(0.9225789672942659, -0.5990392717562396, ''),\n  Text(0.922585099966521, -0.5990298267363359, ''),\n  Text(0.9225858678131597, -0.5990286441493756, ''),\n  Text(0.9225866356582824, -0.5990274615614312, ''),\n  Text(0.9229275044023018, -0.5985021483818913, ''),\n  Text(0.9232982239105477, -0.5979300876554283, ''),\n  Text(0.9234591741846754, -0.5976814817393604, ''),\n  Text(1.0047212787519564, -0.4478115139464748, ''),\n  Text(1.0634144345369796, -0.2813356365951463, ''),\n  Text(1.0707135829226277, -0.25213572405549595, ''),\n  Text(1.0824906973261246, -0.19548373385630027, ''),\n  Text(1.0887777706079438, -0.1567257676005951, ''),\n  Text(1.0898453868015165, -0.14912086663996096, ''),\n  Text(1.0947073853533735, -0.10777634458813679, ''),\n  Text(1.0984134235237588, -0.05905887759529208, ''),\n  Text(1.0991511083850967, -0.043206954715806, ''),\n  Text(1.0997667340590656, -0.02265238744717421, ''),\n  Text(1.0999922662743233, -0.0041248195934464995, '')])"
     },
     "execution_count": 13,
     "metadata": {},
     "output_type": "execute_result"
    },
    {
     "data": {
      "text/plain": "<Figure size 432x288 with 1 Axes>",
      "image/png": "[encoded data removed]"
     },
     "metadata": {},
     "output_type": "display_data"
    }
   ],
   "source": [
    "from matplotlib import pyplot as plt\n",
    "\n",
    "plt.pie(feature_importances)"
   ],
   "metadata": {
    "collapsed": false,
    "pycharm": {
     "name": "#%%\n"
    }
   }
  },
  {
   "cell_type": "code",
   "execution_count": 17,
   "outputs": [],
   "source": [
    "from sklearn.inspection import permutation_importance\n",
    "permutation_importance = permutation_importance(best_random_forest, x, y)"
   ],
   "metadata": {
    "collapsed": false,
    "pycharm": {
     "name": "#%%\n"
    }
   }
  },
  {
   "cell_type": "code",
   "execution_count": 18,
   "outputs": [
    {
     "data": {
      "text/plain": "NUM_BENEFICIARIOS_FAMILIA     4.278423\nIDADE                         4.641890\nSEXO                          1.956055\nQTDE_DIAS_ATIVO              20.075934\nQTDE_ATENDIMENTOS             2.665804\n                               ...    \nPLANO_481484183               0.653640\nPLANO_481485181               0.126349\nPLANO_484629190               0.064132\nPLANO_703454997               0.203525\nPLANO_OUTROS                  0.029038\nLength: 157, dtype: float64"
     },
     "execution_count": 18,
     "metadata": {},
     "output_type": "execute_result"
    }
   ],
   "source": [
    "permutation_importance_df = pd.Series(permutation_importance.importances_mean, index=pd.Series([col for col in x.columns]))\n",
    "permutation_importance_df*100"
   ],
   "metadata": {
    "collapsed": false,
    "pycharm": {
     "name": "#%%\n"
    }
   }
  },
  {
   "cell_type": "code",
   "execution_count": 19,
   "outputs": [
    {
     "ename": "ValueError",
     "evalue": "Wedge sizes 'x' must be non negative values",
     "output_type": "error",
     "traceback": [
      "\u001B[1;31m---------------------------------------------------------------------------\u001B[0m",
      "\u001B[1;31mValueError\u001B[0m                                Traceback (most recent call last)",
      "Input \u001B[1;32mIn [19]\u001B[0m, in \u001B[0;36m<cell line: 3>\u001B[1;34m()\u001B[0m\n\u001B[0;32m      1\u001B[0m \u001B[38;5;28;01mimport\u001B[39;00m \u001B[38;5;21;01mmatplotlib\u001B[39;00m\u001B[38;5;21;01m.\u001B[39;00m\u001B[38;5;21;01mpyplot\u001B[39;00m \u001B[38;5;28;01mas\u001B[39;00m \u001B[38;5;21;01mplt\u001B[39;00m\n\u001B[0;32m      2\u001B[0m plt\u001B[38;5;241m.\u001B[39mrcParams[\u001B[38;5;124m'\u001B[39m\u001B[38;5;124mfigure.figsize\u001B[39m\u001B[38;5;124m'\u001B[39m] \u001B[38;5;241m=\u001B[39m (\u001B[38;5;241m10\u001B[39m, \u001B[38;5;241m8\u001B[39m)\n\u001B[1;32m----> 3\u001B[0m \u001B[43mplt\u001B[49m\u001B[38;5;241;43m.\u001B[39;49m\u001B[43mpie\u001B[49m\u001B[43m(\u001B[49m\u001B[43mpermutation_importance_df\u001B[49m\u001B[43m)\u001B[49m\n\u001B[0;32m      4\u001B[0m plt\u001B[38;5;241m.\u001B[39mxlabel(\u001B[38;5;124m\"\u001B[39m\u001B[38;5;124mPermutation Importance\u001B[39m\u001B[38;5;124m\"\u001B[39m)\n",
      "File \u001B[1;32m~\\anaconda3\\envs\\projeto1_WISE\\lib\\site-packages\\matplotlib\\pyplot.py:2756\u001B[0m, in \u001B[0;36mpie\u001B[1;34m(x, explode, labels, colors, autopct, pctdistance, shadow, labeldistance, startangle, radius, counterclock, wedgeprops, textprops, center, frame, rotatelabels, normalize, data)\u001B[0m\n\u001B[0;32m   2749\u001B[0m \u001B[38;5;129m@_copy_docstring_and_deprecators\u001B[39m(Axes\u001B[38;5;241m.\u001B[39mpie)\n\u001B[0;32m   2750\u001B[0m \u001B[38;5;28;01mdef\u001B[39;00m \u001B[38;5;21mpie\u001B[39m(\n\u001B[0;32m   2751\u001B[0m         x, explode\u001B[38;5;241m=\u001B[39m\u001B[38;5;28;01mNone\u001B[39;00m, labels\u001B[38;5;241m=\u001B[39m\u001B[38;5;28;01mNone\u001B[39;00m, colors\u001B[38;5;241m=\u001B[39m\u001B[38;5;28;01mNone\u001B[39;00m, autopct\u001B[38;5;241m=\u001B[39m\u001B[38;5;28;01mNone\u001B[39;00m,\n\u001B[1;32m   (...)\u001B[0m\n\u001B[0;32m   2754\u001B[0m         textprops\u001B[38;5;241m=\u001B[39m\u001B[38;5;28;01mNone\u001B[39;00m, center\u001B[38;5;241m=\u001B[39m(\u001B[38;5;241m0\u001B[39m, \u001B[38;5;241m0\u001B[39m), frame\u001B[38;5;241m=\u001B[39m\u001B[38;5;28;01mFalse\u001B[39;00m,\n\u001B[0;32m   2755\u001B[0m         rotatelabels\u001B[38;5;241m=\u001B[39m\u001B[38;5;28;01mFalse\u001B[39;00m, \u001B[38;5;241m*\u001B[39m, normalize\u001B[38;5;241m=\u001B[39m\u001B[38;5;28;01mTrue\u001B[39;00m, data\u001B[38;5;241m=\u001B[39m\u001B[38;5;28;01mNone\u001B[39;00m):\n\u001B[1;32m-> 2756\u001B[0m     \u001B[38;5;28;01mreturn\u001B[39;00m gca()\u001B[38;5;241m.\u001B[39mpie(\n\u001B[0;32m   2757\u001B[0m         x, explode\u001B[38;5;241m=\u001B[39mexplode, labels\u001B[38;5;241m=\u001B[39mlabels, colors\u001B[38;5;241m=\u001B[39mcolors,\n\u001B[0;32m   2758\u001B[0m         autopct\u001B[38;5;241m=\u001B[39mautopct, pctdistance\u001B[38;5;241m=\u001B[39mpctdistance, shadow\u001B[38;5;241m=\u001B[39mshadow,\n\u001B[0;32m   2759\u001B[0m         labeldistance\u001B[38;5;241m=\u001B[39mlabeldistance, startangle\u001B[38;5;241m=\u001B[39mstartangle,\n\u001B[0;32m   2760\u001B[0m         radius\u001B[38;5;241m=\u001B[39mradius, counterclock\u001B[38;5;241m=\u001B[39mcounterclock,\n\u001B[0;32m   2761\u001B[0m         wedgeprops\u001B[38;5;241m=\u001B[39mwedgeprops, textprops\u001B[38;5;241m=\u001B[39mtextprops, center\u001B[38;5;241m=\u001B[39mcenter,\n\u001B[0;32m   2762\u001B[0m         frame\u001B[38;5;241m=\u001B[39mframe, rotatelabels\u001B[38;5;241m=\u001B[39mrotatelabels, normalize\u001B[38;5;241m=\u001B[39mnormalize,\n\u001B[0;32m   2763\u001B[0m         \u001B[38;5;241m*\u001B[39m\u001B[38;5;241m*\u001B[39m({\u001B[38;5;124m\"\u001B[39m\u001B[38;5;124mdata\u001B[39m\u001B[38;5;124m\"\u001B[39m: data} \u001B[38;5;28;01mif\u001B[39;00m data \u001B[38;5;129;01mis\u001B[39;00m \u001B[38;5;129;01mnot\u001B[39;00m \u001B[38;5;28;01mNone\u001B[39;00m \u001B[38;5;28;01melse\u001B[39;00m {}))\n",
      "File \u001B[1;32m~\\anaconda3\\envs\\projeto1_WISE\\lib\\site-packages\\matplotlib\\__init__.py:1412\u001B[0m, in \u001B[0;36m_preprocess_data.<locals>.inner\u001B[1;34m(ax, data, *args, **kwargs)\u001B[0m\n\u001B[0;32m   1409\u001B[0m \u001B[38;5;129m@functools\u001B[39m\u001B[38;5;241m.\u001B[39mwraps(func)\n\u001B[0;32m   1410\u001B[0m \u001B[38;5;28;01mdef\u001B[39;00m \u001B[38;5;21minner\u001B[39m(ax, \u001B[38;5;241m*\u001B[39margs, data\u001B[38;5;241m=\u001B[39m\u001B[38;5;28;01mNone\u001B[39;00m, \u001B[38;5;241m*\u001B[39m\u001B[38;5;241m*\u001B[39mkwargs):\n\u001B[0;32m   1411\u001B[0m     \u001B[38;5;28;01mif\u001B[39;00m data \u001B[38;5;129;01mis\u001B[39;00m \u001B[38;5;28;01mNone\u001B[39;00m:\n\u001B[1;32m-> 1412\u001B[0m         \u001B[38;5;28;01mreturn\u001B[39;00m func(ax, \u001B[38;5;241m*\u001B[39m\u001B[38;5;28mmap\u001B[39m(sanitize_sequence, args), \u001B[38;5;241m*\u001B[39m\u001B[38;5;241m*\u001B[39mkwargs)\n\u001B[0;32m   1414\u001B[0m     bound \u001B[38;5;241m=\u001B[39m new_sig\u001B[38;5;241m.\u001B[39mbind(ax, \u001B[38;5;241m*\u001B[39margs, \u001B[38;5;241m*\u001B[39m\u001B[38;5;241m*\u001B[39mkwargs)\n\u001B[0;32m   1415\u001B[0m     auto_label \u001B[38;5;241m=\u001B[39m (bound\u001B[38;5;241m.\u001B[39marguments\u001B[38;5;241m.\u001B[39mget(label_namer)\n\u001B[0;32m   1416\u001B[0m                   \u001B[38;5;129;01mor\u001B[39;00m bound\u001B[38;5;241m.\u001B[39mkwargs\u001B[38;5;241m.\u001B[39mget(label_namer))\n",
      "File \u001B[1;32m~\\anaconda3\\envs\\projeto1_WISE\\lib\\site-packages\\matplotlib\\axes\\_axes.py:3045\u001B[0m, in \u001B[0;36mAxes.pie\u001B[1;34m(self, x, explode, labels, colors, autopct, pctdistance, shadow, labeldistance, startangle, radius, counterclock, wedgeprops, textprops, center, frame, rotatelabels, normalize)\u001B[0m\n\u001B[0;32m   3042\u001B[0m     \u001B[38;5;28;01mraise\u001B[39;00m \u001B[38;5;167;01mValueError\u001B[39;00m(\u001B[38;5;124m\"\u001B[39m\u001B[38;5;124mx must be 1D\u001B[39m\u001B[38;5;124m\"\u001B[39m)\n\u001B[0;32m   3044\u001B[0m \u001B[38;5;28;01mif\u001B[39;00m np\u001B[38;5;241m.\u001B[39many(x \u001B[38;5;241m<\u001B[39m \u001B[38;5;241m0\u001B[39m):\n\u001B[1;32m-> 3045\u001B[0m     \u001B[38;5;28;01mraise\u001B[39;00m \u001B[38;5;167;01mValueError\u001B[39;00m(\u001B[38;5;124m\"\u001B[39m\u001B[38;5;124mWedge sizes \u001B[39m\u001B[38;5;124m'\u001B[39m\u001B[38;5;124mx\u001B[39m\u001B[38;5;124m'\u001B[39m\u001B[38;5;124m must be non negative values\u001B[39m\u001B[38;5;124m\"\u001B[39m)\n\u001B[0;32m   3047\u001B[0m sx \u001B[38;5;241m=\u001B[39m x\u001B[38;5;241m.\u001B[39msum()\n\u001B[0;32m   3049\u001B[0m \u001B[38;5;28;01mif\u001B[39;00m normalize:\n",
      "\u001B[1;31mValueError\u001B[0m: Wedge sizes 'x' must be non negative values"
     ]
    },
    {
     "data": {
      "text/plain": "<Figure size 720x576 with 1 Axes>",
      "image/png": "[encoded data removed]"
     },
     "metadata": {
      "needs_background": "light"
     },
     "output_type": "display_data"
    }
   ],
   "source": [
    "import matplotlib.pyplot as plt\n",
    "plt.rcParams['figure.figsize'] = (10, 8)\n",
    "plt.pie(permutation_importance_df)\n",
    "plt.xlabel(\"Permutation Importance\")"
   ],
   "metadata": {
    "collapsed": false,
    "pycharm": {
     "name": "#%%\n"
    }
   }
  },
  {
   "cell_type": "code",
   "execution_count": null,
   "outputs": [],
   "source": [
    "def scores(model):\n",
    "    model_predicts = model.predict(test_x)\n",
    "    return accuracy_score(test_y, model_predicts), recall_score(test_y, model_predicts),precision_score(test_y, model_predicts), f1_score(test_y, model_predicts)"
   ],
   "metadata": {
    "collapsed": false,
    "pycharm": {
     "name": "#%%\n"
    }
   }
  },
  {
   "cell_type": "code",
   "execution_count": null,
   "outputs": [],
   "source": [
    "\n",
    "model_scores = {scores(best_random_forest), scores(random_forest_classifier)}\n",
    "df_model_scores = pd.DataFrame(model_scores, columns=['Acurracy Score', 'Recall Score', 'Precision Score', 'F1 Score'], index=['BRF', 'RFC'])\n",
    "df_model_scores"
   ],
   "metadata": {
    "collapsed": false,
    "pycharm": {
     "name": "#%%\n"
    }
   }
  },
  {
   "cell_type": "code",
   "execution_count": null,
   "outputs": [],
   "source": [],
   "metadata": {
    "collapsed": false,
    "pycharm": {
     "name": "#%%\n"
    }
   }
  }
 ],
 "metadata": {
  "kernelspec": {
   "display_name": "Python 3",
   "language": "python",
   "name": "python3"
  },
  "language_info": {
   "codemirror_mode": {
    "name": "ipython",
    "version": 2
   },
   "file_extension": ".py",
   "mimetype": "text/x-python",
   "name": "python",
   "nbconvert_exporter": "python",
   "pygments_lexer": "ipython2",
   "version": "2.7.6"
  }
 },
 "nbformat": 4,
 "nbformat_minor": 0
}