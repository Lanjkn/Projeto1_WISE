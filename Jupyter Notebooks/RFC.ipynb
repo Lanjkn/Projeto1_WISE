{
 "cells": [
  {
   "cell_type": "code",
   "execution_count": null,
   "outputs": [],
   "source": [],
   "metadata": {
    "collapsed": false,
    "pycharm": {
     "name": "#%%\n"
    }
   }
  },
  {
   "cell_type": "code",
   "execution_count": 1,
   "outputs": [
    {
     "data": {
      "text/plain": "    NUM_BENEFICIARIOS_FAMILIA    SITUACAO  IDADE SEXO  QTDE_DIAS_ATIVO  \\\n0                         1.0  DESATIVADO   40.0    F            277.0   \n1                         2.0  DESATIVADO   56.0    F           1725.0   \n2                         2.0  DESATIVADO   66.0    F           2006.0   \n3                         3.0  DESATIVADO   62.0    M            529.0   \n4                         1.0  DESATIVADO   47.0    M            176.0   \n5                         1.0  DESATIVADO   38.0    M           1936.0   \n6                         4.0  DESATIVADO   50.0    M           1796.0   \n7                         4.0  DESATIVADO   44.0    M            180.0   \n8                         1.0  DESATIVADO   39.0    M           1725.0   \n9                         1.0  DESATIVADO   55.0    F            238.0   \n10                        2.0  DESATIVADO   35.0    F           1935.0   \n11                        2.0  DESATIVADO   48.0    M            915.0   \n12                        4.0  DESATIVADO   41.0    F            179.0   \n13                        1.0  DESATIVADO   31.0    F           1469.0   \n14                        1.0  DESATIVADO   38.0    M            859.0   \n15                        1.0  DESATIVADO   38.0    M            859.0   \n16                        2.0  DESATIVADO   45.0    F            184.0   \n17                        1.0  DESATIVADO   66.0    M             98.0   \n18                        1.0  DESATIVADO   52.0    F            557.0   \n19                        4.0  DESATIVADO   68.0    F            173.0   \n\n    QTDE_ATENDIMENTOS  QTDE_ATO_COBERTO_EXECUTADO  \\\n0                 1.0                         8.0   \n1                 2.0                        10.0   \n2                18.0                        73.0   \n3                 1.0                         1.0   \n4                 0.0                         0.0   \n5                 0.0                         0.0   \n6                 1.0                        14.0   \n7                 5.0                        18.0   \n8                11.0                        30.0   \n9                 3.0                        27.0   \n10                2.0                        13.0   \n11                0.0                         0.0   \n12                0.0                         0.0   \n13                0.0                         0.0   \n14                6.0                        34.0   \n15                6.0                        34.0   \n16                1.0                        10.0   \n17                0.0                         0.0   \n18                2.0                        13.0   \n19                0.0                         0.0   \n\n    QTDE_ATO_N_COBERTO_EXECUTADO REALIZOU_ENDODONTIA_COBERTA  \\\n0                            0.0                         NAO   \n1                            0.0                         NAO   \n2                            8.0                         SIM   \n3                            0.0                         NAO   \n4                            0.0                         NAO   \n5                            0.0                         NAO   \n6                            0.0                         NAO   \n7                            4.0                         NAO   \n8                            8.0                         NAO   \n9                            0.0                         NAO   \n10                           0.0                         NAO   \n11                           0.0                         NAO   \n12                           0.0                         NAO   \n13                           0.0                         NAO   \n14                           0.0                         NAO   \n15                           0.0                         NAO   \n16                           0.0                         NAO   \n17                           0.0                         NAO   \n18                           1.0                         NAO   \n19                           0.0                         NAO   \n\n   REALIZOU_EXODONTIA_COBERTA REALIZOU_PROCEDIMEN_ALTO_CUSTO  \\\n0                         NAO                            NAO   \n1                         NAO                            SIM   \n2                         NAO                            SIM   \n3                         NAO                            NAO   \n4                         NAO                            NAO   \n5                         NAO                            NAO   \n6                         NAO                            NAO   \n7                         NAO                            SIM   \n8                         NAO                            SIM   \n9                         NAO                            SIM   \n10                        NAO                            SIM   \n11                        NAO                            NAO   \n12                        NAO                            NAO   \n13                        NAO                            NAO   \n14                        SIM                            SIM   \n15                        SIM                            SIM   \n16                        NAO                            SIM   \n17                        NAO                            NAO   \n18                        NAO                            NAO   \n19                        NAO                            NAO   \n\n   FORMA_PGTO_MENSALIDADE      PLANO  \n0       debito automatico  408875991  \n1       debito automatico  408875991  \n2       debito automatico  408875991  \n3       debito automatico  422427992  \n4                  boleto  408875991  \n5       debito automatico  703454997  \n6       debito automatico  408875991  \n7       debito automatico  408875991  \n8       debito automatico  408875991  \n9       debito automatico  408875991  \n10      debito automatico  408875991  \n11      debito automatico  408875991  \n12      debito automatico  408875991  \n13      debito automatico  408875991  \n14                 boleto  408875991  \n15                 boleto  408875991  \n16                 boleto  408875991  \n17                 boleto  408875991  \n18                 boleto  408875991  \n19      debito automatico  408875991  ",
      "text/html": "<div>\n<style scoped>\n    .dataframe tbody tr th:only-of-type {\n        vertical-align: middle;\n    }\n\n    .dataframe tbody tr th {\n        vertical-align: top;\n    }\n\n    .dataframe thead th {\n        text-align: right;\n    }\n</style>\n<table border=\"1\" class=\"dataframe\">\n  <thead>\n    <tr style=\"text-align: right;\">\n      <th></th>\n      <th>NUM_BENEFICIARIOS_FAMILIA</th>\n      <th>SITUACAO</th>\n      <th>IDADE</th>\n      <th>SEXO</th>\n      <th>QTDE_DIAS_ATIVO</th>\n      <th>QTDE_ATENDIMENTOS</th>\n      <th>QTDE_ATO_COBERTO_EXECUTADO</th>\n      <th>QTDE_ATO_N_COBERTO_EXECUTADO</th>\n      <th>REALIZOU_ENDODONTIA_COBERTA</th>\n      <th>REALIZOU_EXODONTIA_COBERTA</th>\n      <th>REALIZOU_PROCEDIMEN_ALTO_CUSTO</th>\n      <th>FORMA_PGTO_MENSALIDADE</th>\n      <th>PLANO</th>\n    </tr>\n  </thead>\n  <tbody>\n    <tr>\n      <th>0</th>\n      <td>1.0</td>\n      <td>DESATIVADO</td>\n      <td>40.0</td>\n      <td>F</td>\n      <td>277.0</td>\n      <td>1.0</td>\n      <td>8.0</td>\n      <td>0.0</td>\n      <td>NAO</td>\n      <td>NAO</td>\n      <td>NAO</td>\n      <td>debito automatico</td>\n      <td>408875991</td>\n    </tr>\n    <tr>\n      <th>1</th>\n      <td>2.0</td>\n      <td>DESATIVADO</td>\n      <td>56.0</td>\n      <td>F</td>\n      <td>1725.0</td>\n      <td>2.0</td>\n      <td>10.0</td>\n      <td>0.0</td>\n      <td>NAO</td>\n      <td>NAO</td>\n      <td>SIM</td>\n      <td>debito automatico</td>\n      <td>408875991</td>\n    </tr>\n    <tr>\n      <th>2</th>\n      <td>2.0</td>\n      <td>DESATIVADO</td>\n      <td>66.0</td>\n      <td>F</td>\n      <td>2006.0</td>\n      <td>18.0</td>\n      <td>73.0</td>\n      <td>8.0</td>\n      <td>SIM</td>\n      <td>NAO</td>\n      <td>SIM</td>\n      <td>debito automatico</td>\n      <td>408875991</td>\n    </tr>\n    <tr>\n      <th>3</th>\n      <td>3.0</td>\n      <td>DESATIVADO</td>\n      <td>62.0</td>\n      <td>M</td>\n      <td>529.0</td>\n      <td>1.0</td>\n      <td>1.0</td>\n      <td>0.0</td>\n      <td>NAO</td>\n      <td>NAO</td>\n      <td>NAO</td>\n      <td>debito automatico</td>\n      <td>422427992</td>\n    </tr>\n    <tr>\n      <th>4</th>\n      <td>1.0</td>\n      <td>DESATIVADO</td>\n      <td>47.0</td>\n      <td>M</td>\n      <td>176.0</td>\n      <td>0.0</td>\n      <td>0.0</td>\n      <td>0.0</td>\n      <td>NAO</td>\n      <td>NAO</td>\n      <td>NAO</td>\n      <td>boleto</td>\n      <td>408875991</td>\n    </tr>\n    <tr>\n      <th>5</th>\n      <td>1.0</td>\n      <td>DESATIVADO</td>\n      <td>38.0</td>\n      <td>M</td>\n      <td>1936.0</td>\n      <td>0.0</td>\n      <td>0.0</td>\n      <td>0.0</td>\n      <td>NAO</td>\n      <td>NAO</td>\n      <td>NAO</td>\n      <td>debito automatico</td>\n      <td>703454997</td>\n    </tr>\n    <tr>\n      <th>6</th>\n      <td>4.0</td>\n      <td>DESATIVADO</td>\n      <td>50.0</td>\n      <td>M</td>\n      <td>1796.0</td>\n      <td>1.0</td>\n      <td>14.0</td>\n      <td>0.0</td>\n      <td>NAO</td>\n      <td>NAO</td>\n      <td>NAO</td>\n      <td>debito automatico</td>\n      <td>408875991</td>\n    </tr>\n    <tr>\n      <th>7</th>\n      <td>4.0</td>\n      <td>DESATIVADO</td>\n      <td>44.0</td>\n      <td>M</td>\n      <td>180.0</td>\n      <td>5.0</td>\n      <td>18.0</td>\n      <td>4.0</td>\n      <td>NAO</td>\n      <td>NAO</td>\n      <td>SIM</td>\n      <td>debito automatico</td>\n      <td>408875991</td>\n    </tr>\n    <tr>\n      <th>8</th>\n      <td>1.0</td>\n      <td>DESATIVADO</td>\n      <td>39.0</td>\n      <td>M</td>\n      <td>1725.0</td>\n      <td>11.0</td>\n      <td>30.0</td>\n      <td>8.0</td>\n      <td>NAO</td>\n      <td>NAO</td>\n      <td>SIM</td>\n      <td>debito automatico</td>\n      <td>408875991</td>\n    </tr>\n    <tr>\n      <th>9</th>\n      <td>1.0</td>\n      <td>DESATIVADO</td>\n      <td>55.0</td>\n      <td>F</td>\n      <td>238.0</td>\n      <td>3.0</td>\n      <td>27.0</td>\n      <td>0.0</td>\n      <td>NAO</td>\n      <td>NAO</td>\n      <td>SIM</td>\n      <td>debito automatico</td>\n      <td>408875991</td>\n    </tr>\n    <tr>\n      <th>10</th>\n      <td>2.0</td>\n      <td>DESATIVADO</td>\n      <td>35.0</td>\n      <td>F</td>\n      <td>1935.0</td>\n      <td>2.0</td>\n      <td>13.0</td>\n      <td>0.0</td>\n      <td>NAO</td>\n      <td>NAO</td>\n      <td>SIM</td>\n      <td>debito automatico</td>\n      <td>408875991</td>\n    </tr>\n    <tr>\n      <th>11</th>\n      <td>2.0</td>\n      <td>DESATIVADO</td>\n      <td>48.0</td>\n      <td>M</td>\n      <td>915.0</td>\n      <td>0.0</td>\n      <td>0.0</td>\n      <td>0.0</td>\n      <td>NAO</td>\n      <td>NAO</td>\n      <td>NAO</td>\n      <td>debito automatico</td>\n      <td>408875991</td>\n    </tr>\n    <tr>\n      <th>12</th>\n      <td>4.0</td>\n      <td>DESATIVADO</td>\n      <td>41.0</td>\n      <td>F</td>\n      <td>179.0</td>\n      <td>0.0</td>\n      <td>0.0</td>\n      <td>0.0</td>\n      <td>NAO</td>\n      <td>NAO</td>\n      <td>NAO</td>\n      <td>debito automatico</td>\n      <td>408875991</td>\n    </tr>\n    <tr>\n      <th>13</th>\n      <td>1.0</td>\n      <td>DESATIVADO</td>\n      <td>31.0</td>\n      <td>F</td>\n      <td>1469.0</td>\n      <td>0.0</td>\n      <td>0.0</td>\n      <td>0.0</td>\n      <td>NAO</td>\n      <td>NAO</td>\n      <td>NAO</td>\n      <td>debito automatico</td>\n      <td>408875991</td>\n    </tr>\n    <tr>\n      <th>14</th>\n      <td>1.0</td>\n      <td>DESATIVADO</td>\n      <td>38.0</td>\n      <td>M</td>\n      <td>859.0</td>\n      <td>6.0</td>\n      <td>34.0</td>\n      <td>0.0</td>\n      <td>NAO</td>\n      <td>SIM</td>\n      <td>SIM</td>\n      <td>boleto</td>\n      <td>408875991</td>\n    </tr>\n    <tr>\n      <th>15</th>\n      <td>1.0</td>\n      <td>DESATIVADO</td>\n      <td>38.0</td>\n      <td>M</td>\n      <td>859.0</td>\n      <td>6.0</td>\n      <td>34.0</td>\n      <td>0.0</td>\n      <td>NAO</td>\n      <td>SIM</td>\n      <td>SIM</td>\n      <td>boleto</td>\n      <td>408875991</td>\n    </tr>\n    <tr>\n      <th>16</th>\n      <td>2.0</td>\n      <td>DESATIVADO</td>\n      <td>45.0</td>\n      <td>F</td>\n      <td>184.0</td>\n      <td>1.0</td>\n      <td>10.0</td>\n      <td>0.0</td>\n      <td>NAO</td>\n      <td>NAO</td>\n      <td>SIM</td>\n      <td>boleto</td>\n      <td>408875991</td>\n    </tr>\n    <tr>\n      <th>17</th>\n      <td>1.0</td>\n      <td>DESATIVADO</td>\n      <td>66.0</td>\n      <td>M</td>\n      <td>98.0</td>\n      <td>0.0</td>\n      <td>0.0</td>\n      <td>0.0</td>\n      <td>NAO</td>\n      <td>NAO</td>\n      <td>NAO</td>\n      <td>boleto</td>\n      <td>408875991</td>\n    </tr>\n    <tr>\n      <th>18</th>\n      <td>1.0</td>\n      <td>DESATIVADO</td>\n      <td>52.0</td>\n      <td>F</td>\n      <td>557.0</td>\n      <td>2.0</td>\n      <td>13.0</td>\n      <td>1.0</td>\n      <td>NAO</td>\n      <td>NAO</td>\n      <td>NAO</td>\n      <td>boleto</td>\n      <td>408875991</td>\n    </tr>\n    <tr>\n      <th>19</th>\n      <td>4.0</td>\n      <td>DESATIVADO</td>\n      <td>68.0</td>\n      <td>F</td>\n      <td>173.0</td>\n      <td>0.0</td>\n      <td>0.0</td>\n      <td>0.0</td>\n      <td>NAO</td>\n      <td>NAO</td>\n      <td>NAO</td>\n      <td>debito automatico</td>\n      <td>408875991</td>\n    </tr>\n  </tbody>\n</table>\n</div>"
     },
     "execution_count": 1,
     "metadata": {},
     "output_type": "execute_result"
    }
   ],
   "source": [
    "import pandas as pd\n",
    "data = pd.read_csv('../dataset_customer_churn.csv', sep='^')\n",
    "data.drop(labels=['A006_REGISTRO_ANS', 'CODIGO_BENEFICIARIO', 'CLIENTE', 'CD_USUARIO', 'CODIGO_FORMA_PGTO_MENSALIDADE', 'A006_NM_PLANO', 'DIAS_ATE_REALIZAR_ALTO_CUSTO', 'CD_ASSOCIADO', 'ESTADO_CIVIL'], axis=1, inplace=True)\n",
    "is_NAN = data[data.isna().any(axis=1)]\n",
    "data.drop(is_NAN.index, axis=0, inplace=True)\n",
    "data.head(20)"
   ],
   "metadata": {
    "collapsed": false,
    "pycharm": {
     "name": "#%%\n"
    }
   }
  },
  {
   "cell_type": "code",
   "execution_count": 2,
   "outputs": [],
   "source": [
    "dict_replace = {\n",
    "    \"SIM\": 1,\n",
    "    \"NAO\": 0,\n",
    "    'F': 0,\n",
    "    'M': 1,\n",
    "    'DESATIVADO': 1,\n",
    "    'ATIVO': 0,\n",
    "\n",
    "}\n",
    "data.replace(dict_replace, inplace=True)\n",
    "data.drop(labels=182212, axis=0, inplace=True)"
   ],
   "metadata": {
    "collapsed": false,
    "pycharm": {
     "name": "#%%\n"
    }
   }
  },
  {
   "cell_type": "code",
   "execution_count": 3,
   "outputs": [
    {
     "data": {
      "text/plain": "        NUM_BENEFICIARIOS_FAMILIA  SITUACAO  IDADE  SEXO  QTDE_DIAS_ATIVO  \\\n316545                        1.0         0    0.0     1             29.0   \n257962                        1.0         0    0.0     1            273.0   \n336719                        1.0         0    0.0     0            241.0   \n257959                        1.0         0    0.0     0            273.0   \n301569                        1.0         0    0.0     0             89.0   \n...                           ...       ...    ...   ...              ...   \n85504                         1.0         0  108.0     0           1790.0   \n85505                         1.0         0  108.0     0           1790.0   \n3679                          6.0         1  109.0     1           2883.0   \n2486                          1.0         1  109.0     0            410.0   \n234203                        1.0         1  110.0     0             97.0   \n\n        QTDE_ATENDIMENTOS  QTDE_ATO_COBERTO_EXECUTADO  \\\n316545                0.0                         0.0   \n257962                0.0                         0.0   \n336719                0.0                         0.0   \n257959                0.0                         0.0   \n301569                0.0                         0.0   \n...                   ...                         ...   \n85504                 0.0                         0.0   \n85505                 0.0                         0.0   \n3679                  0.0                         0.0   \n2486                  2.0                         0.0   \n234203                0.0                         0.0   \n\n        QTDE_ATO_N_COBERTO_EXECUTADO  REALIZOU_ENDODONTIA_COBERTA  \\\n316545                           0.0                            0   \n257962                           0.0                            0   \n336719                           0.0                            0   \n257959                           0.0                            0   \n301569                           0.0                            0   \n...                              ...                          ...   \n85504                            0.0                            0   \n85505                            0.0                            0   \n3679                             0.0                            0   \n2486                             0.0                            0   \n234203                           0.0                            0   \n\n        REALIZOU_EXODONTIA_COBERTA  REALIZOU_PROCEDIMEN_ALTO_CUSTO  \\\n316545                           0                               0   \n257962                           0                               0   \n336719                           0                               0   \n257959                           0                               0   \n301569                           0                               0   \n...                            ...                             ...   \n85504                            0                               0   \n85505                            0                               0   \n3679                             0                               0   \n2486                             0                               0   \n234203                           0                               0   \n\n       FORMA_PGTO_MENSALIDADE      PLANO  \n316545                 boleto  475840164  \n257962                 boleto  475840164  \n336719                 boleto  475840164  \n257959                 boleto  475840164  \n301569                 boleto  475840164  \n...                       ...        ...  \n85504                  boleto  475840164  \n85505                  boleto  475840164  \n3679        debito automatico  408875991  \n2486        debito automatico  422427992  \n234203                 boleto  475840164  \n\n[386390 rows x 13 columns]",
      "text/html": "<div>\n<style scoped>\n    .dataframe tbody tr th:only-of-type {\n        vertical-align: middle;\n    }\n\n    .dataframe tbody tr th {\n        vertical-align: top;\n    }\n\n    .dataframe thead th {\n        text-align: right;\n    }\n</style>\n<table border=\"1\" class=\"dataframe\">\n  <thead>\n    <tr style=\"text-align: right;\">\n      <th></th>\n      <th>NUM_BENEFICIARIOS_FAMILIA</th>\n      <th>SITUACAO</th>\n      <th>IDADE</th>\n      <th>SEXO</th>\n      <th>QTDE_DIAS_ATIVO</th>\n      <th>QTDE_ATENDIMENTOS</th>\n      <th>QTDE_ATO_COBERTO_EXECUTADO</th>\n      <th>QTDE_ATO_N_COBERTO_EXECUTADO</th>\n      <th>REALIZOU_ENDODONTIA_COBERTA</th>\n      <th>REALIZOU_EXODONTIA_COBERTA</th>\n      <th>REALIZOU_PROCEDIMEN_ALTO_CUSTO</th>\n      <th>FORMA_PGTO_MENSALIDADE</th>\n      <th>PLANO</th>\n    </tr>\n  </thead>\n  <tbody>\n    <tr>\n      <th>316545</th>\n      <td>1.0</td>\n      <td>0</td>\n      <td>0.0</td>\n      <td>1</td>\n      <td>29.0</td>\n      <td>0.0</td>\n      <td>0.0</td>\n      <td>0.0</td>\n      <td>0</td>\n      <td>0</td>\n      <td>0</td>\n      <td>boleto</td>\n      <td>475840164</td>\n    </tr>\n    <tr>\n      <th>257962</th>\n      <td>1.0</td>\n      <td>0</td>\n      <td>0.0</td>\n      <td>1</td>\n      <td>273.0</td>\n      <td>0.0</td>\n      <td>0.0</td>\n      <td>0.0</td>\n      <td>0</td>\n      <td>0</td>\n      <td>0</td>\n      <td>boleto</td>\n      <td>475840164</td>\n    </tr>\n    <tr>\n      <th>336719</th>\n      <td>1.0</td>\n      <td>0</td>\n      <td>0.0</td>\n      <td>0</td>\n      <td>241.0</td>\n      <td>0.0</td>\n      <td>0.0</td>\n      <td>0.0</td>\n      <td>0</td>\n      <td>0</td>\n      <td>0</td>\n      <td>boleto</td>\n      <td>475840164</td>\n    </tr>\n    <tr>\n      <th>257959</th>\n      <td>1.0</td>\n      <td>0</td>\n      <td>0.0</td>\n      <td>0</td>\n      <td>273.0</td>\n      <td>0.0</td>\n      <td>0.0</td>\n      <td>0.0</td>\n      <td>0</td>\n      <td>0</td>\n      <td>0</td>\n      <td>boleto</td>\n      <td>475840164</td>\n    </tr>\n    <tr>\n      <th>301569</th>\n      <td>1.0</td>\n      <td>0</td>\n      <td>0.0</td>\n      <td>0</td>\n      <td>89.0</td>\n      <td>0.0</td>\n      <td>0.0</td>\n      <td>0.0</td>\n      <td>0</td>\n      <td>0</td>\n      <td>0</td>\n      <td>boleto</td>\n      <td>475840164</td>\n    </tr>\n    <tr>\n      <th>...</th>\n      <td>...</td>\n      <td>...</td>\n      <td>...</td>\n      <td>...</td>\n      <td>...</td>\n      <td>...</td>\n      <td>...</td>\n      <td>...</td>\n      <td>...</td>\n      <td>...</td>\n      <td>...</td>\n      <td>...</td>\n      <td>...</td>\n    </tr>\n    <tr>\n      <th>85504</th>\n      <td>1.0</td>\n      <td>0</td>\n      <td>108.0</td>\n      <td>0</td>\n      <td>1790.0</td>\n      <td>0.0</td>\n      <td>0.0</td>\n      <td>0.0</td>\n      <td>0</td>\n      <td>0</td>\n      <td>0</td>\n      <td>boleto</td>\n      <td>475840164</td>\n    </tr>\n    <tr>\n      <th>85505</th>\n      <td>1.0</td>\n      <td>0</td>\n      <td>108.0</td>\n      <td>0</td>\n      <td>1790.0</td>\n      <td>0.0</td>\n      <td>0.0</td>\n      <td>0.0</td>\n      <td>0</td>\n      <td>0</td>\n      <td>0</td>\n      <td>boleto</td>\n      <td>475840164</td>\n    </tr>\n    <tr>\n      <th>3679</th>\n      <td>6.0</td>\n      <td>1</td>\n      <td>109.0</td>\n      <td>1</td>\n      <td>2883.0</td>\n      <td>0.0</td>\n      <td>0.0</td>\n      <td>0.0</td>\n      <td>0</td>\n      <td>0</td>\n      <td>0</td>\n      <td>debito automatico</td>\n      <td>408875991</td>\n    </tr>\n    <tr>\n      <th>2486</th>\n      <td>1.0</td>\n      <td>1</td>\n      <td>109.0</td>\n      <td>0</td>\n      <td>410.0</td>\n      <td>2.0</td>\n      <td>0.0</td>\n      <td>0.0</td>\n      <td>0</td>\n      <td>0</td>\n      <td>0</td>\n      <td>debito automatico</td>\n      <td>422427992</td>\n    </tr>\n    <tr>\n      <th>234203</th>\n      <td>1.0</td>\n      <td>1</td>\n      <td>110.0</td>\n      <td>0</td>\n      <td>97.0</td>\n      <td>0.0</td>\n      <td>0.0</td>\n      <td>0.0</td>\n      <td>0</td>\n      <td>0</td>\n      <td>0</td>\n      <td>boleto</td>\n      <td>475840164</td>\n    </tr>\n  </tbody>\n</table>\n<p>386390 rows × 13 columns</p>\n</div>"
     },
     "execution_count": 3,
     "metadata": {},
     "output_type": "execute_result"
    }
   ],
   "source": [
    "data.sort_values(by='IDADE')"
   ],
   "metadata": {
    "collapsed": false,
    "pycharm": {
     "name": "#%%\n"
    }
   }
  },
  {
   "cell_type": "code",
   "execution_count": 40,
   "outputs": [
    {
     "data": {
      "text/plain": "0          True\n1         False\n2         False\n3         False\n4          True\n          ...  \n386387     True\n386388     True\n386389     True\n386390    False\n386391    False\nName: QTDE_DIAS_ATIVO, Length: 386391, dtype: bool"
     },
     "execution_count": 40,
     "metadata": {},
     "output_type": "execute_result"
    }
   ],
   "source": [
    "QTDE_DIAS_ATIVO_MENOR_QUE_365 = data['QTDE_DIAS_ATIVO'].loc[data['QTDE_DIAS_ATIVO'] < 365]\n",
    "data['QTDE_DIAS_ATIVO'] < 365"
   ],
   "metadata": {
    "collapsed": false,
    "pycharm": {
     "name": "#%%\n"
    }
   }
  },
  {
   "cell_type": "code",
   "execution_count": 47,
   "outputs": [
    {
     "data": {
      "text/plain": "        NUM_BENEFICIARIOS_FAMILIA    SITUACAO  IDADE SEXO  QTDE_DIAS_ATIVO  \\\n0                             1.0  DESATIVADO   40.0    F            277.0   \n1                             2.0  DESATIVADO   56.0    F           1725.0   \n2                             2.0  DESATIVADO   66.0    F           2006.0   \n3                             3.0  DESATIVADO   62.0    M            529.0   \n4                             1.0  DESATIVADO   47.0    M            176.0   \n...                           ...         ...    ...  ...              ...   \n386387                        2.0       ATIVO   26.0    F             55.0   \n386388                        1.0       ATIVO   42.0    M             55.0   \n386389                        2.0       ATIVO   32.0    M             55.0   \n386390                        1.0  DESATIVADO   37.0    F            833.0   \n386391                        4.0  DESATIVADO   70.0    M           2614.0   \n\n        QTDE_ATENDIMENTOS  QTDE_ATO_COBERTO_EXECUTADO  \\\n0                     1.0                         8.0   \n1                     2.0                        10.0   \n2                    18.0                        73.0   \n3                     1.0                         1.0   \n4                     0.0                         0.0   \n...                   ...                         ...   \n386387                2.0                        11.0   \n386388                1.0                         1.0   \n386389                3.0                         7.0   \n386390                1.0                         5.0   \n386391                0.0                         0.0   \n\n        QTDE_ATO_N_COBERTO_EXECUTADO REALIZOU_ENDODONTIA_COBERTA  \\\n0                                0.0                         NAO   \n1                                0.0                         NAO   \n2                                8.0                         SIM   \n3                                0.0                         NAO   \n4                                0.0                         NAO   \n...                              ...                         ...   \n386387                           0.0                         NAO   \n386388                           0.0                         NAO   \n386389                           0.0                         SIM   \n386390                           0.0                         NAO   \n386391                           0.0                         NAO   \n\n       REALIZOU_EXODONTIA_COBERTA REALIZOU_PROCEDIMEN_ALTO_CUSTO  \\\n0                             NAO                            NAO   \n1                             NAO                            SIM   \n2                             NAO                            SIM   \n3                             NAO                            NAO   \n4                             NAO                            NAO   \n...                           ...                            ...   \n386387                        NAO                            NAO   \n386388                        NAO                            NAO   \n386389                        NAO                            NAO   \n386390                        NAO                            NAO   \n386391                        NAO                            NAO   \n\n       FORMA_PGTO_MENSALIDADE      PLANO  QTDE_DIAS_ATIVO_MENOR_QUE_365  \\\n0           debito automatico  408875991                              1   \n1           debito automatico  408875991                              0   \n2           debito automatico  408875991                              0   \n3           debito automatico  422427992                              0   \n4                      boleto  408875991                              1   \n...                       ...        ...                            ...   \n386387         boleto digital  481485181                              1   \n386388         boleto digital  481485181                              1   \n386389         boleto digital  481485181                              1   \n386390                 boleto  408875991                              0   \n386391      desconto em folha  703454997                              0   \n\n        QTDE_DIAS_ATIVO_MENOR_QUE_1000  QTDE_DIAS_ATIVO_MAIOR_QUE_1000  \n0                                    0                               0  \n1                                    0                               1  \n2                                    0                               1  \n3                                    1                               0  \n4                                    0                               0  \n...                                ...                             ...  \n386387                               0                               0  \n386388                               0                               0  \n386389                               0                               0  \n386390                               1                               0  \n386391                               0                               1  \n\n[386391 rows x 16 columns]",
      "text/html": "<div>\n<style scoped>\n    .dataframe tbody tr th:only-of-type {\n        vertical-align: middle;\n    }\n\n    .dataframe tbody tr th {\n        vertical-align: top;\n    }\n\n    .dataframe thead th {\n        text-align: right;\n    }\n</style>\n<table border=\"1\" class=\"dataframe\">\n  <thead>\n    <tr style=\"text-align: right;\">\n      <th></th>\n      <th>NUM_BENEFICIARIOS_FAMILIA</th>\n      <th>SITUACAO</th>\n      <th>IDADE</th>\n      <th>SEXO</th>\n      <th>QTDE_DIAS_ATIVO</th>\n      <th>QTDE_ATENDIMENTOS</th>\n      <th>QTDE_ATO_COBERTO_EXECUTADO</th>\n      <th>QTDE_ATO_N_COBERTO_EXECUTADO</th>\n      <th>REALIZOU_ENDODONTIA_COBERTA</th>\n      <th>REALIZOU_EXODONTIA_COBERTA</th>\n      <th>REALIZOU_PROCEDIMEN_ALTO_CUSTO</th>\n      <th>FORMA_PGTO_MENSALIDADE</th>\n      <th>PLANO</th>\n      <th>QTDE_DIAS_ATIVO_MENOR_QUE_365</th>\n      <th>QTDE_DIAS_ATIVO_MENOR_QUE_1000</th>\n      <th>QTDE_DIAS_ATIVO_MAIOR_QUE_1000</th>\n    </tr>\n  </thead>\n  <tbody>\n    <tr>\n      <th>0</th>\n      <td>1.0</td>\n      <td>DESATIVADO</td>\n      <td>40.0</td>\n      <td>F</td>\n      <td>277.0</td>\n      <td>1.0</td>\n      <td>8.0</td>\n      <td>0.0</td>\n      <td>NAO</td>\n      <td>NAO</td>\n      <td>NAO</td>\n      <td>debito automatico</td>\n      <td>408875991</td>\n      <td>1</td>\n      <td>0</td>\n      <td>0</td>\n    </tr>\n    <tr>\n      <th>1</th>\n      <td>2.0</td>\n      <td>DESATIVADO</td>\n      <td>56.0</td>\n      <td>F</td>\n      <td>1725.0</td>\n      <td>2.0</td>\n      <td>10.0</td>\n      <td>0.0</td>\n      <td>NAO</td>\n      <td>NAO</td>\n      <td>SIM</td>\n      <td>debito automatico</td>\n      <td>408875991</td>\n      <td>0</td>\n      <td>0</td>\n      <td>1</td>\n    </tr>\n    <tr>\n      <th>2</th>\n      <td>2.0</td>\n      <td>DESATIVADO</td>\n      <td>66.0</td>\n      <td>F</td>\n      <td>2006.0</td>\n      <td>18.0</td>\n      <td>73.0</td>\n      <td>8.0</td>\n      <td>SIM</td>\n      <td>NAO</td>\n      <td>SIM</td>\n      <td>debito automatico</td>\n      <td>408875991</td>\n      <td>0</td>\n      <td>0</td>\n      <td>1</td>\n    </tr>\n    <tr>\n      <th>3</th>\n      <td>3.0</td>\n      <td>DESATIVADO</td>\n      <td>62.0</td>\n      <td>M</td>\n      <td>529.0</td>\n      <td>1.0</td>\n      <td>1.0</td>\n      <td>0.0</td>\n      <td>NAO</td>\n      <td>NAO</td>\n      <td>NAO</td>\n      <td>debito automatico</td>\n      <td>422427992</td>\n      <td>0</td>\n      <td>1</td>\n      <td>0</td>\n    </tr>\n    <tr>\n      <th>4</th>\n      <td>1.0</td>\n      <td>DESATIVADO</td>\n      <td>47.0</td>\n      <td>M</td>\n      <td>176.0</td>\n      <td>0.0</td>\n      <td>0.0</td>\n      <td>0.0</td>\n      <td>NAO</td>\n      <td>NAO</td>\n      <td>NAO</td>\n      <td>boleto</td>\n      <td>408875991</td>\n      <td>1</td>\n      <td>0</td>\n      <td>0</td>\n    </tr>\n    <tr>\n      <th>...</th>\n      <td>...</td>\n      <td>...</td>\n      <td>...</td>\n      <td>...</td>\n      <td>...</td>\n      <td>...</td>\n      <td>...</td>\n      <td>...</td>\n      <td>...</td>\n      <td>...</td>\n      <td>...</td>\n      <td>...</td>\n      <td>...</td>\n      <td>...</td>\n      <td>...</td>\n      <td>...</td>\n    </tr>\n    <tr>\n      <th>386387</th>\n      <td>2.0</td>\n      <td>ATIVO</td>\n      <td>26.0</td>\n      <td>F</td>\n      <td>55.0</td>\n      <td>2.0</td>\n      <td>11.0</td>\n      <td>0.0</td>\n      <td>NAO</td>\n      <td>NAO</td>\n      <td>NAO</td>\n      <td>boleto digital</td>\n      <td>481485181</td>\n      <td>1</td>\n      <td>0</td>\n      <td>0</td>\n    </tr>\n    <tr>\n      <th>386388</th>\n      <td>1.0</td>\n      <td>ATIVO</td>\n      <td>42.0</td>\n      <td>M</td>\n      <td>55.0</td>\n      <td>1.0</td>\n      <td>1.0</td>\n      <td>0.0</td>\n      <td>NAO</td>\n      <td>NAO</td>\n      <td>NAO</td>\n      <td>boleto digital</td>\n      <td>481485181</td>\n      <td>1</td>\n      <td>0</td>\n      <td>0</td>\n    </tr>\n    <tr>\n      <th>386389</th>\n      <td>2.0</td>\n      <td>ATIVO</td>\n      <td>32.0</td>\n      <td>M</td>\n      <td>55.0</td>\n      <td>3.0</td>\n      <td>7.0</td>\n      <td>0.0</td>\n      <td>SIM</td>\n      <td>NAO</td>\n      <td>NAO</td>\n      <td>boleto digital</td>\n      <td>481485181</td>\n      <td>1</td>\n      <td>0</td>\n      <td>0</td>\n    </tr>\n    <tr>\n      <th>386390</th>\n      <td>1.0</td>\n      <td>DESATIVADO</td>\n      <td>37.0</td>\n      <td>F</td>\n      <td>833.0</td>\n      <td>1.0</td>\n      <td>5.0</td>\n      <td>0.0</td>\n      <td>NAO</td>\n      <td>NAO</td>\n      <td>NAO</td>\n      <td>boleto</td>\n      <td>408875991</td>\n      <td>0</td>\n      <td>1</td>\n      <td>0</td>\n    </tr>\n    <tr>\n      <th>386391</th>\n      <td>4.0</td>\n      <td>DESATIVADO</td>\n      <td>70.0</td>\n      <td>M</td>\n      <td>2614.0</td>\n      <td>0.0</td>\n      <td>0.0</td>\n      <td>0.0</td>\n      <td>NAO</td>\n      <td>NAO</td>\n      <td>NAO</td>\n      <td>desconto em folha</td>\n      <td>703454997</td>\n      <td>0</td>\n      <td>0</td>\n      <td>1</td>\n    </tr>\n  </tbody>\n</table>\n<p>386391 rows × 16 columns</p>\n</div>"
     },
     "execution_count": 47,
     "metadata": {},
     "output_type": "execute_result"
    }
   ],
   "source": [
    "import numpy as np\n",
    "QTDE_DIAS_ATIVO_MENOR_QUE_365 = np.array(data['QTDE_DIAS_ATIVO'] < 365)\n",
    "data['QTDE_DIAS_ATIVO_MENOR_QUE_365'] = 0\n",
    "data.loc[QTDE_DIAS_ATIVO_MENOR_QUE_365,'QTDE_DIAS_ATIVO_MENOR_QUE_365'] = 1\n",
    "QTDE_DIAS_ATIVO_MENOR_QUE_1000 = np.array((data['QTDE_DIAS_ATIVO'] >= 365) & (data['QTDE_DIAS_ATIVO'] < 1000))\n",
    "data['QTDE_DIAS_ATIVO_MENOR_QUE_1000'] = 0\n",
    "data.loc[QTDE_DIAS_ATIVO_MENOR_QUE_1000, 'QTDE_DIAS_ATIVO_MENOR_QUE_1000'] = 1\n",
    "QTDE_DIAS_ATIVO_MAIOR_QUE_1000 = np.array(data['QTDE_DIAS_ATIVO'] >= 1000)\n",
    "data['QTDE_DIAS_ATIVO_MAIOR_QUE_1000'] = 0\n",
    "data.loc[QTDE_DIAS_ATIVO_MAIOR_QUE_1000, 'QTDE_DIAS_ATIVO_MAIOR_QUE_1000'] = 1\n",
    "data"
   ],
   "metadata": {
    "collapsed": false,
    "pycharm": {
     "name": "#%%\n"
    }
   }
  },
  {
   "cell_type": "markdown",
   "source": [],
   "metadata": {
    "collapsed": false,
    "pycharm": {
     "name": "#%% md\n"
    }
   }
  },
  {
   "cell_type": "code",
   "execution_count": null,
   "outputs": [],
   "source": [
    "data_dummified = pd.get_dummies(data)"
   ],
   "metadata": {
    "collapsed": false,
    "pycharm": {
     "name": "#%%\n"
    }
   }
  },
  {
   "cell_type": "code",
   "execution_count": null,
   "outputs": [],
   "source": [
    "import numpy as np\n",
    "from sklearn.model_selection import train_test_split\n",
    "\n",
    "x = data_dummified.drop(labels=['SITUACAO'], axis=1)\n",
    "y = data_dummified['SITUACAO']\n",
    "np.random.seed(1010)\n",
    "train_x, test_x, train_y, test_y = train_test_split(x, y, test_size=0.2, stratify=y)"
   ],
   "metadata": {
    "collapsed": false,
    "pycharm": {
     "name": "#%%\n"
    }
   }
  },
  {
   "cell_type": "code",
   "execution_count": null,
   "outputs": [],
   "source": [
    "from sklearn.ensemble import RandomForestClassifier\n",
    "random_forest_classifier = RandomForestClassifier(10)\n",
    "random_forest_classifier.fit(train_x,train_y)\n",
    "predicts_rfc = random_forest_classifier.predict(test_x)"
   ],
   "metadata": {
    "collapsed": false,
    "pycharm": {
     "name": "#%%\n"
    }
   }
  },
  {
   "cell_type": "code",
   "execution_count": null,
   "outputs": [],
   "source": [
    "from sklearn.metrics import f1_score,recall_score,accuracy_score,precision_score\n",
    "def all_scores(predicts, test_y):\n",
    "    print(f\"Accuracy Score: {accuracy_score(test_y,predicts):.3f}\\nRecall Score: {recall_score(test_y,predicts):.3f}\\nPrecision Score: {precision_score(test_y,predicts):.3f}\\nF1 Score: {f1_score(test_y,predicts):.3f}\\n\")\n",
    "def scores(validation_results):\n",
    "    media = validation_results['test_score'].mean()\n",
    "    desvio_padrao = validation_results['test_score'].std()\n",
    "    print(\"Accuracy médio {:.2f}\".format(media))\n",
    "    print(\"Intervalo [{:.2f}, {:.2f}]\".format((media - 2 * desvio_padrao), (media + 2 * desvio_padrao)))\n"
   ],
   "metadata": {
    "collapsed": false,
    "pycharm": {
     "name": "#%%\n"
    }
   }
  },
  {
   "cell_type": "code",
   "execution_count": null,
   "outputs": [],
   "source": [
    "all_scores(predicts_rfc, test_y)"
   ],
   "metadata": {
    "collapsed": false,
    "pycharm": {
     "name": "#%%\n"
    }
   }
  },
  {
   "cell_type": "code",
   "execution_count": null,
   "outputs": [],
   "source": [
    "from sklearn.model_selection import cross_validate, KFold\n",
    "\n",
    "validation_results = cross_validate(random_forest_classifier,x,y,cv=KFold(n_splits=10, shuffle=True))\n",
    "scores(validation_results)\n",
    "validation_results_df = pd.DataFrame(validation_results)\n",
    "validation_results_df"
   ],
   "metadata": {
    "collapsed": false,
    "pycharm": {
     "name": "#%%\n"
    }
   }
  },
  {
   "cell_type": "code",
   "execution_count": null,
   "outputs": [],
   "source": [
    "from scipy.stats import randint\n",
    "from sklearn.model_selection import RandomizedSearchCV, KFold\n",
    "tt_x, val_x, tt_y, val_y = train_test_split(x, y, test_size=0.2, stratify=y)\n",
    "### hiper-parametrização (?)\n",
    "parametros_para_RSCV = {\n",
    "    \"max_depth\" : randint(3, 100),\n",
    "    \"min_samples_split\": randint(2, 16),\n",
    "    \"min_samples_leaf\": randint(1, 16),\n",
    "    \"bootstrap\" : [True, False],\n",
    "    \"criterion\": [\"gini\", \"entropy\"]\n",
    "}\n",
    "\n",
    "RSCross_validation = RandomizedSearchCV(RandomForestClassifier(n_estimators=10), parametros_para_RSCV, n_iter= 16, cv = KFold(n_splits = 5, shuffle=True))\n",
    "RSCross_validation.fit(tt_x,tt_y)\n",
    "resultados = pd.DataFrame(RSCross_validation.cv_results_)"
   ],
   "metadata": {
    "collapsed": false,
    "pycharm": {
     "name": "#%%\n"
    }
   }
  },
  {
   "cell_type": "code",
   "execution_count": null,
   "outputs": [],
   "source": [
    "best_random_forest = RSCross_validation.best_estimator_\n",
    "predicts_rfc = best_random_forest.predict(val_x)\n",
    "all_scores(predicts_rfc, val_y)"
   ],
   "metadata": {
    "collapsed": false,
    "pycharm": {
     "name": "#%%\n"
    }
   }
  },
  {
   "cell_type": "code",
   "execution_count": null,
   "outputs": [],
   "source": [
    "print(best_random_forest)"
   ],
   "metadata": {
    "collapsed": false,
    "pycharm": {
     "name": "#%%\n"
    }
   }
  },
  {
   "cell_type": "code",
   "execution_count": null,
   "outputs": [],
   "source": [
    "feature_importances = random_forest_classifier.feature_importances_\n",
    "feature_importances"
   ],
   "metadata": {
    "collapsed": false,
    "pycharm": {
     "name": "#%%\n"
    }
   }
  },
  {
   "cell_type": "code",
   "execution_count": null,
   "outputs": [],
   "source": [
    "from matplotlib import pyplot as plt\n",
    "\n",
    "plt.pie(feature_importances)"
   ],
   "metadata": {
    "collapsed": false,
    "pycharm": {
     "name": "#%%\n"
    }
   }
  },
  {
   "cell_type": "code",
   "execution_count": null,
   "outputs": [],
   "source": [
    "from sklearn.inspection import permutation_importance\n",
    "permutation_importance = permutation_importance(best_random_forest, x, y)"
   ],
   "metadata": {
    "collapsed": false,
    "pycharm": {
     "name": "#%%\n"
    }
   }
  },
  {
   "cell_type": "code",
   "execution_count": null,
   "outputs": [],
   "source": [
    "permutation_importance_df = pd.Series(permutation_importance.importances_mean, index=pd.Series([col for col in x.columns]))\n",
    "permutation_importance_df*100"
   ],
   "metadata": {
    "collapsed": false,
    "pycharm": {
     "name": "#%%\n"
    }
   }
  },
  {
   "cell_type": "code",
   "execution_count": null,
   "outputs": [],
   "source": [
    "import matplotlib.pyplot as plt\n",
    "plt.rcParams['figure.figsize'] = (10, 8)\n",
    "plt.pie(permutation_importance_df)\n",
    "plt.xlabel(\"Permutation Importance\")"
   ],
   "metadata": {
    "collapsed": false,
    "pycharm": {
     "name": "#%%\n"
    }
   }
  },
  {
   "cell_type": "code",
   "execution_count": null,
   "outputs": [],
   "source": [
    "def scores(model):\n",
    "    model_predicts = model.predict(test_x)\n",
    "    return accuracy_score(test_y, model_predicts), recall_score(test_y, model_predicts),precision_score(test_y, model_predicts), f1_score(test_y, model_predicts)"
   ],
   "metadata": {
    "collapsed": false,
    "pycharm": {
     "name": "#%%\n"
    }
   }
  },
  {
   "cell_type": "code",
   "execution_count": null,
   "outputs": [],
   "source": [
    "\n",
    "model_scores = {scores(best_random_forest), scores(random_forest_classifier)}\n",
    "df_model_scores = pd.DataFrame(model_scores, columns=['Acurracy Score', 'Recall Score', 'Precision Score', 'F1 Score'], index=['BRF', 'RFC'])\n",
    "df_model_scores"
   ],
   "metadata": {
    "collapsed": false,
    "pycharm": {
     "name": "#%%\n"
    }
   }
  },
  {
   "cell_type": "code",
   "execution_count": null,
   "outputs": [],
   "source": [],
   "metadata": {
    "collapsed": false,
    "pycharm": {
     "name": "#%%\n"
    }
   }
  }
 ],
 "metadata": {
  "kernelspec": {
   "display_name": "Python 3",
   "language": "python",
   "name": "python3"
  },
  "language_info": {
   "codemirror_mode": {
    "name": "ipython",
    "version": 2
   },
   "file_extension": ".py",
   "mimetype": "text/x-python",
   "name": "python",
   "nbconvert_exporter": "python",
   "pygments_lexer": "ipython2",
   "version": "2.7.6"
  }
 },
 "nbformat": 4,
 "nbformat_minor": 0
}