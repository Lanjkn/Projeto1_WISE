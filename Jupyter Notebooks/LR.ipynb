{
 "cells": [
  {
   "cell_type": "code",
   "execution_count": 6,
   "outputs": [],
   "source": [
    "import pandas as pd\n",
    "data = pd.read_csv('../dataset_customer_churn.csv', sep='^')\n",
    "data.drop(labels=['A006_REGISTRO_ANS', 'CODIGO_BENEFICIARIO', 'CLIENTE', 'CD_USUARIO', 'CODIGO_FORMA_PGTO_MENSALIDADE', 'A006_NM_PLANO', 'DIAS_ATE_REALIZAR_ALTO_CUSTO', 'CD_ASSOCIADO', 'ESTADO_CIVIL'], axis=1, inplace=True)\n",
    "is_NAN = data[data.isna().any(axis=1)]\n",
    "data.drop(is_NAN.index, axis=0, inplace=True)\n",
    "dict_replace = {\n",
    "    \"SIM\": 1,\n",
    "    \"NAO\": 0,\n",
    "    'F': 0,\n",
    "    'M': 1,\n",
    "    'DESATIVADO': 1,\n",
    "    'ATIVO': 0,\n",
    "\n",
    "}\n",
    "data.replace(dict_replace, inplace=True)\n",
    "data.drop(labels=182212, axis=0, inplace=True)\n",
    "data_dummified = pd.get_dummies(data)"
   ],
   "metadata": {
    "collapsed": false,
    "pycharm": {
     "name": "#%%\n"
    }
   }
  },
  {
   "cell_type": "code",
   "execution_count": 11,
   "outputs": [],
   "source": [
    "import numpy as np\n",
    "from sklearn.model_selection import train_test_split\n",
    "\n",
    "x = data_dummified.drop(labels=['SITUACAO'], axis=1)\n",
    "y = data_dummified['SITUACAO']\n",
    "np.random.seed(1010)\n",
    "train_x, test_x, train_y, test_y = train_test_split(x, y, test_size=0.2, stratify=y)"
   ],
   "metadata": {
    "collapsed": false,
    "pycharm": {
     "name": "#%%\n"
    }
   }
  },
  {
   "cell_type": "code",
   "execution_count": 21,
   "outputs": [
    {
     "name": "stderr",
     "output_type": "stream",
     "text": [
      "C:\\Users\\ianml\\anaconda3\\envs\\projeto1_WISE\\lib\\site-packages\\scipy\\optimize\\_linesearch.py:456: LineSearchWarning: The line search algorithm did not converge\n",
      "  warn('The line search algorithm did not converge', LineSearchWarning)\n",
      "C:\\Users\\ianml\\anaconda3\\envs\\projeto1_WISE\\lib\\site-packages\\scipy\\optimize\\_linesearch.py:305: LineSearchWarning: The line search algorithm did not converge\n",
      "  warn('The line search algorithm did not converge', LineSearchWarning)\n",
      "C:\\Users\\ianml\\anaconda3\\envs\\projeto1_WISE\\lib\\site-packages\\sklearn\\utils\\optimize.py:203: UserWarning: Line Search failed\n",
      "  warnings.warn(\"Line Search failed\")\n"
     ]
    }
   ],
   "source": [
    "from sklearn.linear_model import LogisticRegression\n",
    "log_regression = LogisticRegression(max_iter=20000, penalty='l2', solver='newton-cg')\n",
    "log_regression.fit(train_x,train_y)\n",
    "predicts_rfc = log_regression.predict(test_x)"
   ],
   "metadata": {
    "collapsed": false,
    "pycharm": {
     "name": "#%%\n"
    }
   }
  },
  {
   "cell_type": "code",
   "execution_count": 22,
   "outputs": [],
   "source": [
    "from sklearn.metrics import f1_score,recall_score,accuracy_score,precision_score\n",
    "def all_scores(predicts, test_y):\n",
    "    print(f\"Accuracy Score: {accuracy_score(test_y,predicts):.3f}\\nRecall Score: {recall_score(test_y,predicts):.3f}\\nPrecision Score: {precision_score(test_y,predicts):.3f}\\nF1 Score: {f1_score(test_y,predicts):.3f}\\n\")\n",
    "def scores(validation_results):\n",
    "    media = validation_results['test_score'].mean()\n",
    "    desvio_padrao = validation_results['test_score'].std()\n",
    "    print(\"Accuracy médio {:.2f}\".format(media))\n",
    "    print(\"Intervalo [{:.2f}, {:.2f}]\".format((media - 2 * desvio_padrao), (media + 2 * desvio_padrao)))"
   ],
   "metadata": {
    "collapsed": false,
    "pycharm": {
     "name": "#%%\n"
    }
   }
  },
  {
   "cell_type": "code",
   "execution_count": 23,
   "outputs": [
    {
     "name": "stdout",
     "output_type": "stream",
     "text": [
      "Accuracy Score: 0.825\n",
      "Recall Score: 0.843\n",
      "Precision Score: 0.837\n",
      "F1 Score: 0.840\n",
      "\n"
     ]
    }
   ],
   "source": [
    "all_scores(predicts_rfc, test_y)"
   ],
   "metadata": {
    "collapsed": false,
    "pycharm": {
     "name": "#%%\n"
    }
   }
  },
  {
   "cell_type": "code",
   "execution_count": 19,
   "outputs": [
    {
     "name": "stderr",
     "output_type": "stream",
     "text": [
      "C:\\Users\\ianml\\anaconda3\\envs\\projeto1_WISE\\lib\\site-packages\\sklearn\\linear_model\\_logistic.py:444: ConvergenceWarning: lbfgs failed to converge (status=1):\n",
      "STOP: TOTAL NO. of ITERATIONS REACHED LIMIT.\n",
      "\n",
      "Increase the number of iterations (max_iter) or scale the data as shown in:\n",
      "    https://scikit-learn.org/stable/modules/preprocessing.html\n",
      "Please also refer to the documentation for alternative solver options:\n",
      "    https://scikit-learn.org/stable/modules/linear_model.html#logistic-regression\n",
      "  n_iter_i = _check_optimize_result(\n",
      "C:\\Users\\ianml\\anaconda3\\envs\\projeto1_WISE\\lib\\site-packages\\sklearn\\linear_model\\_logistic.py:444: ConvergenceWarning: lbfgs failed to converge (status=1):\n",
      "STOP: TOTAL NO. of ITERATIONS REACHED LIMIT.\n",
      "\n",
      "Increase the number of iterations (max_iter) or scale the data as shown in:\n",
      "    https://scikit-learn.org/stable/modules/preprocessing.html\n",
      "Please also refer to the documentation for alternative solver options:\n",
      "    https://scikit-learn.org/stable/modules/linear_model.html#logistic-regression\n",
      "  n_iter_i = _check_optimize_result(\n",
      "C:\\Users\\ianml\\anaconda3\\envs\\projeto1_WISE\\lib\\site-packages\\sklearn\\linear_model\\_logistic.py:444: ConvergenceWarning: lbfgs failed to converge (status=1):\n",
      "STOP: TOTAL NO. of ITERATIONS REACHED LIMIT.\n",
      "\n",
      "Increase the number of iterations (max_iter) or scale the data as shown in:\n",
      "    https://scikit-learn.org/stable/modules/preprocessing.html\n",
      "Please also refer to the documentation for alternative solver options:\n",
      "    https://scikit-learn.org/stable/modules/linear_model.html#logistic-regression\n",
      "  n_iter_i = _check_optimize_result(\n",
      "C:\\Users\\ianml\\anaconda3\\envs\\projeto1_WISE\\lib\\site-packages\\sklearn\\linear_model\\_logistic.py:444: ConvergenceWarning: lbfgs failed to converge (status=1):\n",
      "STOP: TOTAL NO. of ITERATIONS REACHED LIMIT.\n",
      "\n",
      "Increase the number of iterations (max_iter) or scale the data as shown in:\n",
      "    https://scikit-learn.org/stable/modules/preprocessing.html\n",
      "Please also refer to the documentation for alternative solver options:\n",
      "    https://scikit-learn.org/stable/modules/linear_model.html#logistic-regression\n",
      "  n_iter_i = _check_optimize_result(\n",
      "C:\\Users\\ianml\\anaconda3\\envs\\projeto1_WISE\\lib\\site-packages\\sklearn\\linear_model\\_logistic.py:444: ConvergenceWarning: lbfgs failed to converge (status=1):\n",
      "STOP: TOTAL NO. of ITERATIONS REACHED LIMIT.\n",
      "\n",
      "Increase the number of iterations (max_iter) or scale the data as shown in:\n",
      "    https://scikit-learn.org/stable/modules/preprocessing.html\n",
      "Please also refer to the documentation for alternative solver options:\n",
      "    https://scikit-learn.org/stable/modules/linear_model.html#logistic-regression\n",
      "  n_iter_i = _check_optimize_result(\n",
      "C:\\Users\\ianml\\anaconda3\\envs\\projeto1_WISE\\lib\\site-packages\\sklearn\\linear_model\\_logistic.py:444: ConvergenceWarning: lbfgs failed to converge (status=1):\n",
      "STOP: TOTAL NO. of ITERATIONS REACHED LIMIT.\n",
      "\n",
      "Increase the number of iterations (max_iter) or scale the data as shown in:\n",
      "    https://scikit-learn.org/stable/modules/preprocessing.html\n",
      "Please also refer to the documentation for alternative solver options:\n",
      "    https://scikit-learn.org/stable/modules/linear_model.html#logistic-regression\n",
      "  n_iter_i = _check_optimize_result(\n"
     ]
    },
    {
     "name": "stdout",
     "output_type": "stream",
     "text": [
      "Accuracy médio 0.81\n",
      "Intervalo [0.80, 0.81]\n"
     ]
    },
    {
     "name": "stderr",
     "output_type": "stream",
     "text": [
      "C:\\Users\\ianml\\anaconda3\\envs\\projeto1_WISE\\lib\\site-packages\\sklearn\\linear_model\\_logistic.py:444: ConvergenceWarning: lbfgs failed to converge (status=1):\n",
      "STOP: TOTAL NO. of ITERATIONS REACHED LIMIT.\n",
      "\n",
      "Increase the number of iterations (max_iter) or scale the data as shown in:\n",
      "    https://scikit-learn.org/stable/modules/preprocessing.html\n",
      "Please also refer to the documentation for alternative solver options:\n",
      "    https://scikit-learn.org/stable/modules/linear_model.html#logistic-regression\n",
      "  n_iter_i = _check_optimize_result(\n"
     ]
    },
    {
     "data": {
      "text/plain": "   fit_time  score_time  test_score\n0  7.591719    0.015958    0.805507\n1  6.440529    0.012967    0.799529\n2  8.480571    0.018950    0.809881\n3  9.003210    0.007979    0.809597\n4  6.873283    0.011478    0.809622\n5  7.493324    0.016019    0.810088\n6  6.949037    0.015957    0.810036\n7  7.564354    0.014960    0.809700\n8  6.739315    0.017470    0.808380\n9  6.864516    0.018949    0.805947",
      "text/html": "<div>\n<style scoped>\n    .dataframe tbody tr th:only-of-type {\n        vertical-align: middle;\n    }\n\n    .dataframe tbody tr th {\n        vertical-align: top;\n    }\n\n    .dataframe thead th {\n        text-align: right;\n    }\n</style>\n<table border=\"1\" class=\"dataframe\">\n  <thead>\n    <tr style=\"text-align: right;\">\n      <th></th>\n      <th>fit_time</th>\n      <th>score_time</th>\n      <th>test_score</th>\n    </tr>\n  </thead>\n  <tbody>\n    <tr>\n      <th>0</th>\n      <td>7.591719</td>\n      <td>0.015958</td>\n      <td>0.805507</td>\n    </tr>\n    <tr>\n      <th>1</th>\n      <td>6.440529</td>\n      <td>0.012967</td>\n      <td>0.799529</td>\n    </tr>\n    <tr>\n      <th>2</th>\n      <td>8.480571</td>\n      <td>0.018950</td>\n      <td>0.809881</td>\n    </tr>\n    <tr>\n      <th>3</th>\n      <td>9.003210</td>\n      <td>0.007979</td>\n      <td>0.809597</td>\n    </tr>\n    <tr>\n      <th>4</th>\n      <td>6.873283</td>\n      <td>0.011478</td>\n      <td>0.809622</td>\n    </tr>\n    <tr>\n      <th>5</th>\n      <td>7.493324</td>\n      <td>0.016019</td>\n      <td>0.810088</td>\n    </tr>\n    <tr>\n      <th>6</th>\n      <td>6.949037</td>\n      <td>0.015957</td>\n      <td>0.810036</td>\n    </tr>\n    <tr>\n      <th>7</th>\n      <td>7.564354</td>\n      <td>0.014960</td>\n      <td>0.809700</td>\n    </tr>\n    <tr>\n      <th>8</th>\n      <td>6.739315</td>\n      <td>0.017470</td>\n      <td>0.808380</td>\n    </tr>\n    <tr>\n      <th>9</th>\n      <td>6.864516</td>\n      <td>0.018949</td>\n      <td>0.805947</td>\n    </tr>\n  </tbody>\n</table>\n</div>"
     },
     "execution_count": 15,
     "metadata": {},
     "output_type": "execute_result"
    },
    {
     "name": "stdout",
     "output_type": "stream",
     "text": [
      "Accuracy médio 0.82\n",
      "Intervalo [0.82, 0.83]\n"
     ]
    },
    {
     "data": {
      "text/plain": "     fit_time  score_time  test_score\n0  171.740070    0.026929    0.823883\n1  194.014678    0.011969    0.824866\n2  112.726269    0.019946    0.824918\n3  145.953824    0.013963    0.824038\n4   91.873188    0.013484    0.822278\n5  126.729862    0.015957    0.825772\n6  171.582896    0.018947    0.824141\n7  134.246616    0.018950    0.826082\n8  137.171100    0.018949    0.826290\n9  181.759161    0.012969    0.824426",
      "text/html": "<div>\n<style scoped>\n    .dataframe tbody tr th:only-of-type {\n        vertical-align: middle;\n    }\n\n    .dataframe tbody tr th {\n        vertical-align: top;\n    }\n\n    .dataframe thead th {\n        text-align: right;\n    }\n</style>\n<table border=\"1\" class=\"dataframe\">\n  <thead>\n    <tr style=\"text-align: right;\">\n      <th></th>\n      <th>fit_time</th>\n      <th>score_time</th>\n      <th>test_score</th>\n    </tr>\n  </thead>\n  <tbody>\n    <tr>\n      <th>0</th>\n      <td>171.740070</td>\n      <td>0.026929</td>\n      <td>0.823883</td>\n    </tr>\n    <tr>\n      <th>1</th>\n      <td>194.014678</td>\n      <td>0.011969</td>\n      <td>0.824866</td>\n    </tr>\n    <tr>\n      <th>2</th>\n      <td>112.726269</td>\n      <td>0.019946</td>\n      <td>0.824918</td>\n    </tr>\n    <tr>\n      <th>3</th>\n      <td>145.953824</td>\n      <td>0.013963</td>\n      <td>0.824038</td>\n    </tr>\n    <tr>\n      <th>4</th>\n      <td>91.873188</td>\n      <td>0.013484</td>\n      <td>0.822278</td>\n    </tr>\n    <tr>\n      <th>5</th>\n      <td>126.729862</td>\n      <td>0.015957</td>\n      <td>0.825772</td>\n    </tr>\n    <tr>\n      <th>6</th>\n      <td>171.582896</td>\n      <td>0.018947</td>\n      <td>0.824141</td>\n    </tr>\n    <tr>\n      <th>7</th>\n      <td>134.246616</td>\n      <td>0.018950</td>\n      <td>0.826082</td>\n    </tr>\n    <tr>\n      <th>8</th>\n      <td>137.171100</td>\n      <td>0.018949</td>\n      <td>0.826290</td>\n    </tr>\n    <tr>\n      <th>9</th>\n      <td>181.759161</td>\n      <td>0.012969</td>\n      <td>0.824426</td>\n    </tr>\n  </tbody>\n</table>\n</div>"
     },
     "execution_count": 19,
     "metadata": {},
     "output_type": "execute_result"
    }
   ],
   "source": [
    "from sklearn.model_selection import cross_validate, KFold\n",
    "\n",
    "validation_results = cross_validate(log_regression,x,y,cv=KFold(n_splits=10, shuffle=True))\n",
    "scores(validation_results)\n",
    "validation_results_df = pd.DataFrame(validation_results)\n",
    "validation_results_df"
   ],
   "metadata": {
    "collapsed": false,
    "pycharm": {
     "name": "#%%\n"
    }
   }
  },
  {
   "cell_type": "code",
   "execution_count": 20,
   "outputs": [
    {
     "name": "stderr",
     "output_type": "stream",
     "text": [
      "C:\\Users\\ianml\\anaconda3\\envs\\projeto1_WISE\\lib\\site-packages\\scipy\\optimize\\_linesearch.py:456: LineSearchWarning: The line search algorithm did not converge\n",
      "  warn('The line search algorithm did not converge', LineSearchWarning)\n",
      "C:\\Users\\ianml\\anaconda3\\envs\\projeto1_WISE\\lib\\site-packages\\scipy\\optimize\\_linesearch.py:305: LineSearchWarning: The line search algorithm did not converge\n",
      "  warn('The line search algorithm did not converge', LineSearchWarning)\n"
     ]
    },
    {
     "name": "stdout",
     "output_type": "stream",
     "text": [
      "Best: 0.824794 using {'C': 100, 'penalty': 'l2', 'solver': 'newton-cg'}\n",
      "0.824794 (0.001349) with: {'C': 100, 'penalty': 'l2', 'solver': 'newton-cg'}\n",
      "0.824698 (0.001397) with: {'C': 100, 'penalty': 'l2', 'solver': 'lbfgs'}\n",
      "0.824581 (0.001369) with: {'C': 100, 'penalty': 'l2', 'solver': 'liblinear'}\n",
      "0.824792 (0.001346) with: {'C': 10, 'penalty': 'l2', 'solver': 'newton-cg'}\n",
      "0.824763 (0.001503) with: {'C': 10, 'penalty': 'l2', 'solver': 'lbfgs'}\n",
      "0.824669 (0.001344) with: {'C': 10, 'penalty': 'l2', 'solver': 'liblinear'}\n",
      "0.824752 (0.001344) with: {'C': 1.0, 'penalty': 'l2', 'solver': 'newton-cg'}\n",
      "0.824588 (0.001450) with: {'C': 1.0, 'penalty': 'l2', 'solver': 'lbfgs'}\n",
      "0.824636 (0.001324) with: {'C': 1.0, 'penalty': 'l2', 'solver': 'liblinear'}\n",
      "0.824688 (0.001381) with: {'C': 0.1, 'penalty': 'l2', 'solver': 'newton-cg'}\n",
      "0.824430 (0.001406) with: {'C': 0.1, 'penalty': 'l2', 'solver': 'lbfgs'}\n",
      "0.824580 (0.001425) with: {'C': 0.1, 'penalty': 'l2', 'solver': 'liblinear'}\n",
      "0.823312 (0.001370) with: {'C': 0.01, 'penalty': 'l2', 'solver': 'newton-cg'}\n",
      "0.823356 (0.001386) with: {'C': 0.01, 'penalty': 'l2', 'solver': 'lbfgs'}\n",
      "0.823222 (0.001358) with: {'C': 0.01, 'penalty': 'l2', 'solver': 'liblinear'}\n"
     ]
    },
    {
     "name": "stderr",
     "output_type": "stream",
     "text": [
      "C:\\Users\\ianml\\anaconda3\\envs\\projeto1_WISE\\lib\\site-packages\\scipy\\optimize\\_linesearch.py:415: LineSearchWarning: Rounding errors prevent the line search from converging\n",
      "  warn(msg, LineSearchWarning)\n",
      "C:\\Users\\ianml\\anaconda3\\envs\\projeto1_WISE\\lib\\site-packages\\sklearn\\utils\\optimize.py:203: UserWarning: Line Search failed\n",
      "  warnings.warn(\"Line Search failed\")\n"
     ]
    }
   ],
   "source": [
    "from sklearn.model_selection import RepeatedStratifiedKFold\n",
    "from sklearn.model_selection import GridSearchCV\n",
    "solvers = ['newton-cg', 'lbfgs', 'liblinear']\n",
    "penalty = ['l2']\n",
    "c_values = [100, 10, 1.0, 0.1, 0.01]\n",
    "# define grid search\n",
    "grid = dict(solver=solvers,penalty=penalty,C=c_values)\n",
    "cv = RepeatedStratifiedKFold(n_splits=10, n_repeats=3, random_state=1)\n",
    "grid_search = GridSearchCV(estimator=log_regression, param_grid=grid, n_jobs=-1, cv=cv, scoring='accuracy',error_score=0)\n",
    "grid_result = grid_search.fit(x, y)\n",
    "# summarize results\n",
    "print(\"Best: %f using %s\" % (grid_result.best_score_, grid_result.best_params_))\n",
    "means = grid_result.cv_results_['mean_test_score']\n",
    "stds = grid_result.cv_results_['std_test_score']\n",
    "params = grid_result.cv_results_['params']\n",
    "for mean, stdev, param in zip(means, stds, params):\n",
    "    print(\"%f (%f) with: %r\" % (mean, stdev, param))"
   ],
   "metadata": {
    "collapsed": false,
    "pycharm": {
     "name": "#%%\n"
    }
   }
  },
  {
   "cell_type": "code",
   "execution_count": null,
   "outputs": [],
   "source": [],
   "metadata": {
    "collapsed": false,
    "pycharm": {
     "name": "#%%\n"
    }
   }
  }
 ],
 "metadata": {
  "kernelspec": {
   "display_name": "Python 3",
   "language": "python",
   "name": "python3"
  },
  "language_info": {
   "codemirror_mode": {
    "name": "ipython",
    "version": 2
   },
   "file_extension": ".py",
   "mimetype": "text/x-python",
   "name": "python",
   "nbconvert_exporter": "python",
   "pygments_lexer": "ipython2",
   "version": "2.7.6"
  }
 },
 "nbformat": 4,
 "nbformat_minor": 0
}