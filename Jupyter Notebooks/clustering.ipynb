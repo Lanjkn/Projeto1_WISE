{
 "cells": [
  {
   "cell_type": "code",
   "execution_count": 11,
   "outputs": [
    {
     "name": "stdout",
     "output_type": "stream",
     "text": [
      "Reading data from ../dataset_customer_churn.csv\n",
      "Removing low importance features...\n",
      "Removing NAN's and outliers from DataFrame\n",
      "Replacing categoric features with only 2 options with 0 and 1\n"
     ]
    }
   ],
   "source": [
    "import pandas as pd\n",
    "from sklearn.cluster import KMeans\n",
    "import numpy as np\n",
    "# SANITIZAÇÃO DE DADOS DEPOIS DE ANÁLISES PELO DATASPELL\n",
    "data_file_name = '../dataset_customer_churn.csv'\n",
    "print(f\"Reading data from {data_file_name}\")\n",
    "data = pd.read_csv(data_file_name, sep='^')\n",
    "is_NAN = data[data.isna().any(axis=1)]\n",
    "print(\"Removing low importance features...\")\n",
    "# Certas colunas dos dados foram removidas por sua baixa importância nas análises de features, podendo assim criar\n",
    "# um modelo muito mais otimizado sem sacrificar sua eficiência.\n",
    "data.drop(labels=['A006_REGISTRO_ANS', 'CODIGO_BENEFICIARIO', 'CLIENTE', 'CD_USUARIO', 'CODIGO_FORMA_PGTO_MENSALIDADE',\n",
    "                  'A006_NM_PLANO', 'CD_ASSOCIADO', 'ESTADO_CIVIL'], axis=1,\n",
    "          inplace=True)\n",
    "print(\"Removing NAN's and outliers from DataFrame\")\n",
    "data.drop(is_NAN.index, axis=0, inplace=True)\n",
    "# outlier extremo com + de 500 anos de plano ativo\n",
    "data.drop(182212, axis=0, inplace=True)\n",
    "print(\"Replacing categoric features with only 2 options with 0 and 1\")\n",
    "dict_replace = {\n",
    "    \"SIM\": 1,\n",
    "    \"NAO\": 0,\n",
    "    'F': 0,\n",
    "    'M': 1,\n",
    "    'DESATIVADO': 1,\n",
    "    'ATIVO': 0,\n",
    "\n",
    "}\n",
    "data.replace(dict_replace, inplace=True)\n",
    "data.drop(data[data['QTDE_DIAS_ATIVO'] == 1790].index, axis=0, inplace=True)\n",
    "\n",
    "# REDUÇÃO DE CARDINALIDADE NA TABELA 'QTDE_DIAS_ATIVO'\n",
    "QTDE_DIAS_ATIVO_MENOR_QUE_365 = np.array(data['QTDE_DIAS_ATIVO'] < 365)\n",
    "data['QTDE_DIAS_ATIVO_MENOR_QUE_365'] = 0\n",
    "data.loc[QTDE_DIAS_ATIVO_MENOR_QUE_365, 'QTDE_DIAS_ATIVO_MENOR_QUE_365'] = 1\n",
    "QTDE_DIAS_ATIVO_MENOR_QUE_1000 = np.array((data['QTDE_DIAS_ATIVO'] >= 365) & (data['QTDE_DIAS_ATIVO'] < 1000))\n",
    "data['QTDE_DIAS_ATIVO_MENOR_QUE_1000'] = 0\n",
    "data.loc[QTDE_DIAS_ATIVO_MENOR_QUE_1000, 'QTDE_DIAS_ATIVO_MENOR_QUE_1000'] = 1\n",
    "QTDE_DIAS_ATIVO_MAIOR_QUE_1000 = np.array(data['QTDE_DIAS_ATIVO'] >= 1000)\n",
    "data['QTDE_DIAS_ATIVO_MAIOR_QUE_1000'] = 0\n",
    "data.loc[QTDE_DIAS_ATIVO_MAIOR_QUE_1000, 'QTDE_DIAS_ATIVO_MAIOR_QUE_1000'] = 1\n",
    "data.drop(labels='QTDE_DIAS_ATIVO', inplace=True, axis=1)\n",
    "\n",
    "data_dummified = pd.get_dummies(data)\n",
    "\n",
    "x = data_dummified\n"
   ],
   "metadata": {
    "collapsed": false,
    "pycharm": {
     "name": "#%%\n"
    }
   }
  },
  {
   "cell_type": "code",
   "execution_count": 13,
   "outputs": [
    {
     "name": "stdout",
     "output_type": "stream",
     "text": [
      "Analizing and creating Clusters...\n",
      "Clusters overall descriptions: \n",
      "         NUM_BENEFICIARIOS_FAMILIA  SITUACAO      IDADE      SEXO  \\\n",
      "CLUSTER                                                             \n",
      "0                         1.882799  0.961717  42.430797  0.344394   \n",
      "1                         2.160086  0.878679  45.110311  0.367692   \n",
      "2                         1.910954  0.108915  37.296028  0.331576   \n",
      "3                         1.852084  0.753588  37.388917  0.417338   \n",
      "4                         2.023702  0.277607  37.530932  0.383938   \n",
      "\n",
      "         QTDE_ATENDIMENTOS  QTDE_ATO_COBERTO_EXECUTADO  \\\n",
      "CLUSTER                                                  \n",
      "0                 8.802841                   31.661106   \n",
      "1                 2.395054                    9.814964   \n",
      "2                 1.465313                    4.477167   \n",
      "3                 0.231569                    0.720901   \n",
      "4                 2.831660                    8.515131   \n",
      "\n",
      "         QTDE_ATO_N_COBERTO_EXECUTADO  REALIZOU_ENDODONTIA_COBERTA  \\\n",
      "CLUSTER                                                              \n",
      "0                            2.434800                     0.449618   \n",
      "1                            0.507714                     0.030338   \n",
      "2                            0.013835                     0.065306   \n",
      "3                            0.005974                     0.003922   \n",
      "4                            0.102055                     0.112347   \n",
      "\n",
      "         REALIZOU_EXODONTIA_COBERTA  REALIZOU_PROCEDIMEN_ALTO_CUSTO  ...  \\\n",
      "CLUSTER                                                              ...   \n",
      "0                          0.230736                        0.960067  ...   \n",
      "1                          0.071515                        0.000000  ...   \n",
      "2                          0.090509                        0.000000  ...   \n",
      "3                          0.010591                        0.000000  ...   \n",
      "4                          0.123872                        0.000000  ...   \n",
      "\n",
      "         PLANO_475441167  PLANO_475840164  PLANO_476697161  PLANO_476698169  \\\n",
      "CLUSTER                                                                       \n",
      "0               0.190009         0.015460         0.016621         0.005255   \n",
      "1               0.057967         0.000094         0.005764         0.002099   \n",
      "2               0.291533         0.001981         0.028341         0.017355   \n",
      "3               0.098475         0.820859         0.021196         0.011730   \n",
      "4               0.629725         0.000036         0.031167         0.010909   \n",
      "\n",
      "         PLANO_481484183  PLANO_481485181  PLANO_484629190  PLANO_703454997  \\\n",
      "CLUSTER                                                                       \n",
      "0               0.020287         0.002536         0.000092         0.169264   \n",
      "1               0.002647         0.000266         0.000016         0.204458   \n",
      "2               0.386643         0.163297         0.071889         0.000244   \n",
      "3               0.029777         0.001891         0.000148         0.000000   \n",
      "4               0.136303         0.079694         0.004276         0.010619   \n",
      "\n",
      "         PLANO_OUTROS  n_clients  \n",
      "CLUSTER                           \n",
      "0            0.012618      32730  \n",
      "1            0.006265      63847  \n",
      "2            0.009599      65629  \n",
      "3            0.015925     142290  \n",
      "4            0.018229      27593  \n",
      "\n",
      "[5 rows x 39 columns]\n"
     ]
    }
   ],
   "source": [
    "from sklearn.preprocessing import StandardScaler\n",
    "stdscaler = StandardScaler()\n",
    "data_scaled = stdscaler.fit_transform(data_dummified)\n",
    "n_clusters_choice = int(input(\"How much clusters do you want? (5 is the standard): \"))\n",
    "print(\"Analizing and creating Clusters...\")\n",
    "kmeans = KMeans(n_clusters=n_clusters_choice, n_init=10, max_iter=300, random_state=1010)\n",
    "kmeans.fit(data_scaled)\n",
    "data_dummified['CLUSTER'] = kmeans.labels_\n",
    "description = data_dummified.groupby('CLUSTER')\n",
    "n_clients = description.size()\n",
    "description = description.mean()\n",
    "description['n_clients'] = n_clients\n",
    "print('Clusters overall descriptions: ')\n",
    "print(description)\n",
    "y_pred = kmeans.fit_predict(data_dummified)"
   ],
   "metadata": {
    "collapsed": false,
    "pycharm": {
     "name": "#%%\n"
    }
   }
  },
  {
   "cell_type": "code",
   "execution_count": 14,
   "outputs": [
    {
     "name": "stderr",
     "output_type": "stream",
     "text": [
      "C:\\Users\\ianml\\anaconda3\\envs\\projeto1_WISE\\lib\\site-packages\\sklearn\\utils\\validation.py:1111: DataConversionWarning: A column-vector y was passed when a 1d array was expected. Please change the shape of y to (n_samples, ), for example using ravel().\n",
      "  y = column_or_1d(y, warn=True)\n"
     ]
    },
    {
     "name": "stdout",
     "output_type": "stream",
     "text": [
      "1.0\n"
     ]
    }
   ],
   "source": [
    "from sklearn import metrics\n",
    "labels = kmeans.labels_\n",
    "labels = labels.reshape(-1, 1)\n",
    "y_pred = y_pred.reshape(-1, 1)\n",
    "silhouette = metrics.silhouette_score(y_pred, labels, metric='euclidean')\n",
    "print(silhouette)"
   ],
   "metadata": {
    "collapsed": false,
    "pycharm": {
     "name": "#%%\n"
    }
   }
  },
  {
   "cell_type": "code",
   "execution_count": null,
   "outputs": [],
   "source": [
    "data_dummified[\"cluster\"] = labels"
   ],
   "metadata": {
    "collapsed": false,
    "pycharm": {
     "name": "#%%\n",
     "is_executing": true
    }
   }
  },
  {
   "cell_type": "code",
   "execution_count": null,
   "outputs": [],
   "source": [
    "data_dummified.groupby(\"cluster\").describe()"
   ],
   "metadata": {
    "collapsed": false,
    "pycharm": {
     "name": "#%%\n",
     "is_executing": true
    }
   }
  },
  {
   "cell_type": "code",
   "execution_count": null,
   "outputs": [],
   "source": [
    "description = data_dummified.groupby(\"cluster\")\n",
    "n_clients = description.size()\n",
    "description = description.mean()\n",
    "description['n_clients'] = n_clients\n",
    "description"
   ],
   "metadata": {
    "collapsed": false,
    "pycharm": {
     "name": "#%%\n",
     "is_executing": true
    }
   }
  },
  {
   "cell_type": "code",
   "execution_count": null,
   "outputs": [],
   "source": [],
   "metadata": {
    "collapsed": false,
    "pycharm": {
     "name": "#%%\n"
    }
   }
  },
  {
   "cell_type": "code",
   "execution_count": null,
   "outputs": [],
   "source": [],
   "metadata": {
    "collapsed": false,
    "pycharm": {
     "name": "#%%\n"
    }
   }
  }
 ],
 "metadata": {
  "kernelspec": {
   "display_name": "Python 3",
   "language": "python",
   "name": "python3"
  },
  "language_info": {
   "codemirror_mode": {
    "name": "ipython",
    "version": 2
   },
   "file_extension": ".py",
   "mimetype": "text/x-python",
   "name": "python",
   "nbconvert_exporter": "python",
   "pygments_lexer": "ipython2",
   "version": "2.7.6"
  }
 },
 "nbformat": 4,
 "nbformat_minor": 0
}