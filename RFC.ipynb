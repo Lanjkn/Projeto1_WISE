{
 "cells": [
  {
   "cell_type": "code",
   "execution_count": null,
   "outputs": [],
   "source": [],
   "metadata": {
    "collapsed": false,
    "pycharm": {
     "name": "#%%\n"
    }
   }
  },
  {
   "cell_type": "code",
   "execution_count": 1,
   "outputs": [
    {
     "data": {
      "text/plain": "        NUM_BENEFICIARIOS_FAMILIA    SITUACAO  IDADE SEXO  QTDE_DIAS_ATIVO  \\\n331391                        1.0  DESATIVADO   38.0    M           1099.0   \n144000                        1.0  DESATIVADO   36.0    M            986.0   \n305255                        1.0       ATIVO   32.0    F            117.0   \n378684                        5.0       ATIVO   60.0    F           1790.0   \n311063                        1.0       ATIVO   25.0    F             31.0   \n291677                        2.0       ATIVO   49.0    F            950.0   \n75262                         1.0       ATIVO   51.0    F           1790.0   \n281552                        1.0  DESATIVADO   32.0    M            153.0   \n42030                         3.0  DESATIVADO   47.0    F            735.0   \n277906                        1.0       ATIVO   40.0    M            136.0   \n\n        QTDE_ATENDIMENTOS  QTDE_ATO_COBERTO_EXECUTADO  \\\n331391                0.0                         0.0   \n144000                0.0                         0.0   \n305255                7.0                        23.0   \n378684                0.0                         0.0   \n311063                0.0                         0.0   \n291677                2.0                         7.0   \n75262                 0.0                         0.0   \n281552                0.0                         0.0   \n42030                 0.0                         0.0   \n277906                0.0                         0.0   \n\n        QTDE_ATO_N_COBERTO_EXECUTADO REALIZOU_ENDODONTIA_COBERTA  \\\n331391                           0.0                         NAO   \n144000                           0.0                         NAO   \n305255                           0.0                         NAO   \n378684                           0.0                         NAO   \n311063                           0.0                         NAO   \n291677                           0.0                         NAO   \n75262                            0.0                         NAO   \n281552                           0.0                         NAO   \n42030                            0.0                         NAO   \n277906                           0.0                         NAO   \n\n       REALIZOU_EXODONTIA_COBERTA REALIZOU_PROCEDIMEN_ALTO_CUSTO  \\\n331391                        NAO                            NAO   \n144000                        NAO                            NAO   \n305255                        NAO                            NAO   \n378684                        NAO                            NAO   \n311063                        NAO                            NAO   \n291677                        NAO                            NAO   \n75262                         NAO                            NAO   \n281552                        NAO                            NAO   \n42030                         NAO                            NAO   \n277906                        NAO                            NAO   \n\n       FORMA_PGTO_MENSALIDADE      PLANO  \n331391                 boleto  475840164  \n144000                 boleto  475840164  \n305255         boleto digital  481484183  \n378684         boleto digital  475840164  \n311063         boleto digital  481485181  \n291677         boleto digital  476697161  \n75262                  boleto  475840164  \n281552                 boleto  475840164  \n42030                  boleto  408875991  \n277906         boleto digital  475441167  ",
      "text/html": "<div>\n<style scoped>\n    .dataframe tbody tr th:only-of-type {\n        vertical-align: middle;\n    }\n\n    .dataframe tbody tr th {\n        vertical-align: top;\n    }\n\n    .dataframe thead th {\n        text-align: right;\n    }\n</style>\n<table border=\"1\" class=\"dataframe\">\n  <thead>\n    <tr style=\"text-align: right;\">\n      <th></th>\n      <th>NUM_BENEFICIARIOS_FAMILIA</th>\n      <th>SITUACAO</th>\n      <th>IDADE</th>\n      <th>SEXO</th>\n      <th>QTDE_DIAS_ATIVO</th>\n      <th>QTDE_ATENDIMENTOS</th>\n      <th>QTDE_ATO_COBERTO_EXECUTADO</th>\n      <th>QTDE_ATO_N_COBERTO_EXECUTADO</th>\n      <th>REALIZOU_ENDODONTIA_COBERTA</th>\n      <th>REALIZOU_EXODONTIA_COBERTA</th>\n      <th>REALIZOU_PROCEDIMEN_ALTO_CUSTO</th>\n      <th>FORMA_PGTO_MENSALIDADE</th>\n      <th>PLANO</th>\n    </tr>\n  </thead>\n  <tbody>\n    <tr>\n      <th>331391</th>\n      <td>1.0</td>\n      <td>DESATIVADO</td>\n      <td>38.0</td>\n      <td>M</td>\n      <td>1099.0</td>\n      <td>0.0</td>\n      <td>0.0</td>\n      <td>0.0</td>\n      <td>NAO</td>\n      <td>NAO</td>\n      <td>NAO</td>\n      <td>boleto</td>\n      <td>475840164</td>\n    </tr>\n    <tr>\n      <th>144000</th>\n      <td>1.0</td>\n      <td>DESATIVADO</td>\n      <td>36.0</td>\n      <td>M</td>\n      <td>986.0</td>\n      <td>0.0</td>\n      <td>0.0</td>\n      <td>0.0</td>\n      <td>NAO</td>\n      <td>NAO</td>\n      <td>NAO</td>\n      <td>boleto</td>\n      <td>475840164</td>\n    </tr>\n    <tr>\n      <th>305255</th>\n      <td>1.0</td>\n      <td>ATIVO</td>\n      <td>32.0</td>\n      <td>F</td>\n      <td>117.0</td>\n      <td>7.0</td>\n      <td>23.0</td>\n      <td>0.0</td>\n      <td>NAO</td>\n      <td>NAO</td>\n      <td>NAO</td>\n      <td>boleto digital</td>\n      <td>481484183</td>\n    </tr>\n    <tr>\n      <th>378684</th>\n      <td>5.0</td>\n      <td>ATIVO</td>\n      <td>60.0</td>\n      <td>F</td>\n      <td>1790.0</td>\n      <td>0.0</td>\n      <td>0.0</td>\n      <td>0.0</td>\n      <td>NAO</td>\n      <td>NAO</td>\n      <td>NAO</td>\n      <td>boleto digital</td>\n      <td>475840164</td>\n    </tr>\n    <tr>\n      <th>311063</th>\n      <td>1.0</td>\n      <td>ATIVO</td>\n      <td>25.0</td>\n      <td>F</td>\n      <td>31.0</td>\n      <td>0.0</td>\n      <td>0.0</td>\n      <td>0.0</td>\n      <td>NAO</td>\n      <td>NAO</td>\n      <td>NAO</td>\n      <td>boleto digital</td>\n      <td>481485181</td>\n    </tr>\n    <tr>\n      <th>291677</th>\n      <td>2.0</td>\n      <td>ATIVO</td>\n      <td>49.0</td>\n      <td>F</td>\n      <td>950.0</td>\n      <td>2.0</td>\n      <td>7.0</td>\n      <td>0.0</td>\n      <td>NAO</td>\n      <td>NAO</td>\n      <td>NAO</td>\n      <td>boleto digital</td>\n      <td>476697161</td>\n    </tr>\n    <tr>\n      <th>75262</th>\n      <td>1.0</td>\n      <td>ATIVO</td>\n      <td>51.0</td>\n      <td>F</td>\n      <td>1790.0</td>\n      <td>0.0</td>\n      <td>0.0</td>\n      <td>0.0</td>\n      <td>NAO</td>\n      <td>NAO</td>\n      <td>NAO</td>\n      <td>boleto</td>\n      <td>475840164</td>\n    </tr>\n    <tr>\n      <th>281552</th>\n      <td>1.0</td>\n      <td>DESATIVADO</td>\n      <td>32.0</td>\n      <td>M</td>\n      <td>153.0</td>\n      <td>0.0</td>\n      <td>0.0</td>\n      <td>0.0</td>\n      <td>NAO</td>\n      <td>NAO</td>\n      <td>NAO</td>\n      <td>boleto</td>\n      <td>475840164</td>\n    </tr>\n    <tr>\n      <th>42030</th>\n      <td>3.0</td>\n      <td>DESATIVADO</td>\n      <td>47.0</td>\n      <td>F</td>\n      <td>735.0</td>\n      <td>0.0</td>\n      <td>0.0</td>\n      <td>0.0</td>\n      <td>NAO</td>\n      <td>NAO</td>\n      <td>NAO</td>\n      <td>boleto</td>\n      <td>408875991</td>\n    </tr>\n    <tr>\n      <th>277906</th>\n      <td>1.0</td>\n      <td>ATIVO</td>\n      <td>40.0</td>\n      <td>M</td>\n      <td>136.0</td>\n      <td>0.0</td>\n      <td>0.0</td>\n      <td>0.0</td>\n      <td>NAO</td>\n      <td>NAO</td>\n      <td>NAO</td>\n      <td>boleto digital</td>\n      <td>475441167</td>\n    </tr>\n  </tbody>\n</table>\n</div>"
     },
     "execution_count": 1,
     "metadata": {},
     "output_type": "execute_result"
    }
   ],
   "source": [
    "import pandas as pd\n",
    "data = pd.read_csv('dataset_customer_churn.csv', sep='^')\n",
    "data.drop(labels=['A006_REGISTRO_ANS', 'CODIGO_BENEFICIARIO', 'CLIENTE', 'CD_USUARIO', 'CODIGO_FORMA_PGTO_MENSALIDADE', 'A006_NM_PLANO', 'DIAS_ATE_REALIZAR_ALTO_CUSTO', 'CD_ASSOCIADO', 'ESTADO_CIVIL'], axis=1, inplace=True)\n",
    "is_NAN = data[data.isna().any(axis=1)]\n",
    "data.drop(is_NAN.index, axis=0, inplace=True)\n",
    "data.sample(10)"
   ],
   "metadata": {
    "collapsed": false,
    "pycharm": {
     "name": "#%%\n"
    }
   }
  },
  {
   "cell_type": "code",
   "execution_count": 2,
   "outputs": [],
   "source": [
    "dict_replace = {\n",
    "    \"SIM\": 1,\n",
    "    \"NAO\": 0,\n",
    "    'F': 0,\n",
    "    'M': 1,\n",
    "    'DESATIVADO': 1,\n",
    "    'ATIVO': 0,\n",
    "\n",
    "}\n",
    "data.replace(dict_replace, inplace=True)\n",
    "data.drop(labels=182212, axis=0, inplace=True)"
   ],
   "metadata": {
    "collapsed": false,
    "pycharm": {
     "name": "#%%\n"
    }
   }
  },
  {
   "cell_type": "code",
   "execution_count": null,
   "outputs": [],
   "source": [
    "from pandas_profiling import ProfileReport\n",
    "\n",
    "data_profile = ProfileReport(data)\n",
    "data_profile.to_file('report_projetoWise.html')"
   ],
   "metadata": {
    "collapsed": false,
    "pycharm": {
     "name": "#%%\n"
    }
   }
  },
  {
   "cell_type": "markdown",
   "source": [],
   "metadata": {
    "collapsed": false,
    "pycharm": {
     "name": "#%% md\n"
    }
   }
  },
  {
   "cell_type": "code",
   "execution_count": 3,
   "outputs": [
    {
     "data": {
      "text/plain": "        NUM_BENEFICIARIOS_FAMILIA  SITUACAO  IDADE  SEXO  QTDE_DIAS_ATIVO  \\\n0                             1.0         1   40.0     0            277.0   \n1                             2.0         1   56.0     0           1725.0   \n2                             2.0         1   66.0     0           2006.0   \n3                             3.0         1   62.0     1            529.0   \n4                             1.0         1   47.0     1            176.0   \n...                           ...       ...    ...   ...              ...   \n386387                        2.0         0   26.0     0             55.0   \n386388                        1.0         0   42.0     1             55.0   \n386389                        2.0         0   32.0     1             55.0   \n386390                        1.0         1   37.0     0            833.0   \n386391                        4.0         1   70.0     1           2614.0   \n\n        QTDE_ATENDIMENTOS  QTDE_ATO_COBERTO_EXECUTADO  \\\n0                     1.0                         8.0   \n1                     2.0                        10.0   \n2                    18.0                        73.0   \n3                     1.0                         1.0   \n4                     0.0                         0.0   \n...                   ...                         ...   \n386387                2.0                        11.0   \n386388                1.0                         1.0   \n386389                3.0                         7.0   \n386390                1.0                         5.0   \n386391                0.0                         0.0   \n\n        QTDE_ATO_N_COBERTO_EXECUTADO  REALIZOU_ENDODONTIA_COBERTA  \\\n0                                0.0                            0   \n1                                0.0                            0   \n2                                8.0                            1   \n3                                0.0                            0   \n4                                0.0                            0   \n...                              ...                          ...   \n386387                           0.0                            0   \n386388                           0.0                            0   \n386389                           0.0                            1   \n386390                           0.0                            0   \n386391                           0.0                            0   \n\n        REALIZOU_EXODONTIA_COBERTA  ...  PLANO_422427992  PLANO_475441167  \\\n0                                0  ...                0                0   \n1                                0  ...                0                0   \n2                                0  ...                0                0   \n3                                0  ...                1                0   \n4                                0  ...                0                0   \n...                            ...  ...              ...              ...   \n386387                           0  ...                0                0   \n386388                           0  ...                0                0   \n386389                           0  ...                0                0   \n386390                           0  ...                0                0   \n386391                           0  ...                0                0   \n\n        PLANO_475840164  PLANO_476697161  PLANO_476698169  PLANO_481484183  \\\n0                     0                0                0                0   \n1                     0                0                0                0   \n2                     0                0                0                0   \n3                     0                0                0                0   \n4                     0                0                0                0   \n...                 ...              ...              ...              ...   \n386387                0                0                0                0   \n386388                0                0                0                0   \n386389                0                0                0                0   \n386390                0                0                0                0   \n386391                0                0                0                0   \n\n        PLANO_481485181  PLANO_484629190  PLANO_703454997  PLANO_OUTROS  \n0                     0                0                0             0  \n1                     0                0                0             0  \n2                     0                0                0             0  \n3                     0                0                0             0  \n4                     0                0                0             0  \n...                 ...              ...              ...           ...  \n386387                1                0                0             0  \n386388                1                0                0             0  \n386389                1                0                0             0  \n386390                0                0                0             0  \n386391                0                0                1             0  \n\n[386390 rows x 29 columns]",
      "text/html": "<div>\n<style scoped>\n    .dataframe tbody tr th:only-of-type {\n        vertical-align: middle;\n    }\n\n    .dataframe tbody tr th {\n        vertical-align: top;\n    }\n\n    .dataframe thead th {\n        text-align: right;\n    }\n</style>\n<table border=\"1\" class=\"dataframe\">\n  <thead>\n    <tr style=\"text-align: right;\">\n      <th></th>\n      <th>NUM_BENEFICIARIOS_FAMILIA</th>\n      <th>SITUACAO</th>\n      <th>IDADE</th>\n      <th>SEXO</th>\n      <th>QTDE_DIAS_ATIVO</th>\n      <th>QTDE_ATENDIMENTOS</th>\n      <th>QTDE_ATO_COBERTO_EXECUTADO</th>\n      <th>QTDE_ATO_N_COBERTO_EXECUTADO</th>\n      <th>REALIZOU_ENDODONTIA_COBERTA</th>\n      <th>REALIZOU_EXODONTIA_COBERTA</th>\n      <th>...</th>\n      <th>PLANO_422427992</th>\n      <th>PLANO_475441167</th>\n      <th>PLANO_475840164</th>\n      <th>PLANO_476697161</th>\n      <th>PLANO_476698169</th>\n      <th>PLANO_481484183</th>\n      <th>PLANO_481485181</th>\n      <th>PLANO_484629190</th>\n      <th>PLANO_703454997</th>\n      <th>PLANO_OUTROS</th>\n    </tr>\n  </thead>\n  <tbody>\n    <tr>\n      <th>0</th>\n      <td>1.0</td>\n      <td>1</td>\n      <td>40.0</td>\n      <td>0</td>\n      <td>277.0</td>\n      <td>1.0</td>\n      <td>8.0</td>\n      <td>0.0</td>\n      <td>0</td>\n      <td>0</td>\n      <td>...</td>\n      <td>0</td>\n      <td>0</td>\n      <td>0</td>\n      <td>0</td>\n      <td>0</td>\n      <td>0</td>\n      <td>0</td>\n      <td>0</td>\n      <td>0</td>\n      <td>0</td>\n    </tr>\n    <tr>\n      <th>1</th>\n      <td>2.0</td>\n      <td>1</td>\n      <td>56.0</td>\n      <td>0</td>\n      <td>1725.0</td>\n      <td>2.0</td>\n      <td>10.0</td>\n      <td>0.0</td>\n      <td>0</td>\n      <td>0</td>\n      <td>...</td>\n      <td>0</td>\n      <td>0</td>\n      <td>0</td>\n      <td>0</td>\n      <td>0</td>\n      <td>0</td>\n      <td>0</td>\n      <td>0</td>\n      <td>0</td>\n      <td>0</td>\n    </tr>\n    <tr>\n      <th>2</th>\n      <td>2.0</td>\n      <td>1</td>\n      <td>66.0</td>\n      <td>0</td>\n      <td>2006.0</td>\n      <td>18.0</td>\n      <td>73.0</td>\n      <td>8.0</td>\n      <td>1</td>\n      <td>0</td>\n      <td>...</td>\n      <td>0</td>\n      <td>0</td>\n      <td>0</td>\n      <td>0</td>\n      <td>0</td>\n      <td>0</td>\n      <td>0</td>\n      <td>0</td>\n      <td>0</td>\n      <td>0</td>\n    </tr>\n    <tr>\n      <th>3</th>\n      <td>3.0</td>\n      <td>1</td>\n      <td>62.0</td>\n      <td>1</td>\n      <td>529.0</td>\n      <td>1.0</td>\n      <td>1.0</td>\n      <td>0.0</td>\n      <td>0</td>\n      <td>0</td>\n      <td>...</td>\n      <td>1</td>\n      <td>0</td>\n      <td>0</td>\n      <td>0</td>\n      <td>0</td>\n      <td>0</td>\n      <td>0</td>\n      <td>0</td>\n      <td>0</td>\n      <td>0</td>\n    </tr>\n    <tr>\n      <th>4</th>\n      <td>1.0</td>\n      <td>1</td>\n      <td>47.0</td>\n      <td>1</td>\n      <td>176.0</td>\n      <td>0.0</td>\n      <td>0.0</td>\n      <td>0.0</td>\n      <td>0</td>\n      <td>0</td>\n      <td>...</td>\n      <td>0</td>\n      <td>0</td>\n      <td>0</td>\n      <td>0</td>\n      <td>0</td>\n      <td>0</td>\n      <td>0</td>\n      <td>0</td>\n      <td>0</td>\n      <td>0</td>\n    </tr>\n    <tr>\n      <th>...</th>\n      <td>...</td>\n      <td>...</td>\n      <td>...</td>\n      <td>...</td>\n      <td>...</td>\n      <td>...</td>\n      <td>...</td>\n      <td>...</td>\n      <td>...</td>\n      <td>...</td>\n      <td>...</td>\n      <td>...</td>\n      <td>...</td>\n      <td>...</td>\n      <td>...</td>\n      <td>...</td>\n      <td>...</td>\n      <td>...</td>\n      <td>...</td>\n      <td>...</td>\n      <td>...</td>\n    </tr>\n    <tr>\n      <th>386387</th>\n      <td>2.0</td>\n      <td>0</td>\n      <td>26.0</td>\n      <td>0</td>\n      <td>55.0</td>\n      <td>2.0</td>\n      <td>11.0</td>\n      <td>0.0</td>\n      <td>0</td>\n      <td>0</td>\n      <td>...</td>\n      <td>0</td>\n      <td>0</td>\n      <td>0</td>\n      <td>0</td>\n      <td>0</td>\n      <td>0</td>\n      <td>1</td>\n      <td>0</td>\n      <td>0</td>\n      <td>0</td>\n    </tr>\n    <tr>\n      <th>386388</th>\n      <td>1.0</td>\n      <td>0</td>\n      <td>42.0</td>\n      <td>1</td>\n      <td>55.0</td>\n      <td>1.0</td>\n      <td>1.0</td>\n      <td>0.0</td>\n      <td>0</td>\n      <td>0</td>\n      <td>...</td>\n      <td>0</td>\n      <td>0</td>\n      <td>0</td>\n      <td>0</td>\n      <td>0</td>\n      <td>0</td>\n      <td>1</td>\n      <td>0</td>\n      <td>0</td>\n      <td>0</td>\n    </tr>\n    <tr>\n      <th>386389</th>\n      <td>2.0</td>\n      <td>0</td>\n      <td>32.0</td>\n      <td>1</td>\n      <td>55.0</td>\n      <td>3.0</td>\n      <td>7.0</td>\n      <td>0.0</td>\n      <td>1</td>\n      <td>0</td>\n      <td>...</td>\n      <td>0</td>\n      <td>0</td>\n      <td>0</td>\n      <td>0</td>\n      <td>0</td>\n      <td>0</td>\n      <td>1</td>\n      <td>0</td>\n      <td>0</td>\n      <td>0</td>\n    </tr>\n    <tr>\n      <th>386390</th>\n      <td>1.0</td>\n      <td>1</td>\n      <td>37.0</td>\n      <td>0</td>\n      <td>833.0</td>\n      <td>1.0</td>\n      <td>5.0</td>\n      <td>0.0</td>\n      <td>0</td>\n      <td>0</td>\n      <td>...</td>\n      <td>0</td>\n      <td>0</td>\n      <td>0</td>\n      <td>0</td>\n      <td>0</td>\n      <td>0</td>\n      <td>0</td>\n      <td>0</td>\n      <td>0</td>\n      <td>0</td>\n    </tr>\n    <tr>\n      <th>386391</th>\n      <td>4.0</td>\n      <td>1</td>\n      <td>70.0</td>\n      <td>1</td>\n      <td>2614.0</td>\n      <td>0.0</td>\n      <td>0.0</td>\n      <td>0.0</td>\n      <td>0</td>\n      <td>0</td>\n      <td>...</td>\n      <td>0</td>\n      <td>0</td>\n      <td>0</td>\n      <td>0</td>\n      <td>0</td>\n      <td>0</td>\n      <td>0</td>\n      <td>0</td>\n      <td>1</td>\n      <td>0</td>\n    </tr>\n  </tbody>\n</table>\n<p>386390 rows × 29 columns</p>\n</div>"
     },
     "execution_count": 3,
     "metadata": {},
     "output_type": "execute_result"
    }
   ],
   "source": [
    "data_dummified = pd.get_dummies(data)"
   ],
   "metadata": {
    "collapsed": false,
    "pycharm": {
     "name": "#%%\n"
    }
   }
  },
  {
   "cell_type": "code",
   "execution_count": 4,
   "outputs": [],
   "source": [
    "import numpy as np\n",
    "from sklearn.model_selection import train_test_split\n",
    "\n",
    "x = data_dummified.drop(labels=['SITUACAO'], axis=1)\n",
    "y = data_dummified['SITUACAO']\n",
    "np.random.seed(1010)\n",
    "train_x, test_x, train_y, test_y = train_test_split(x, y, test_size=0.2, stratify=y)"
   ],
   "metadata": {
    "collapsed": false,
    "pycharm": {
     "name": "#%%\n"
    }
   }
  },
  {
   "cell_type": "code",
   "execution_count": 5,
   "outputs": [],
   "source": [
    "from sklearn.ensemble import RandomForestClassifier\n",
    "random_forest_classifier = RandomForestClassifier(10)\n",
    "random_forest_classifier.fit(train_x,train_y)\n",
    "predicts_rfc = random_forest_classifier.predict(test_x)"
   ],
   "metadata": {
    "collapsed": false,
    "pycharm": {
     "name": "#%%\n"
    }
   }
  },
  {
   "cell_type": "code",
   "execution_count": 6,
   "outputs": [],
   "source": [
    "from sklearn.metrics import f1_score,recall_score,accuracy_score,precision_score\n",
    "def all_scores(predicts, test_y):\n",
    "    print(f\"Accuracy Score: {accuracy_score(test_y,predicts):.3f}\\nRecall Score: {recall_score(test_y,predicts):.3f}\\nPrecision Score: {precision_score(test_y,predicts):.3f}\\nF1 Score: {f1_score(test_y,predicts):.3f}\\n\")\n",
    "def scores(validation_results):\n",
    "    media = validation_results['test_score'].mean()\n",
    "    desvio_padrao = validation_results['test_score'].std()\n",
    "    print(\"Accuracy médio {:.2f}\".format(media))\n",
    "    print(\"Intervalo [{:.2f}, {:.2f}]\".format((media - 2 * desvio_padrao), (media + 2 * desvio_padrao)))\n"
   ],
   "metadata": {
    "collapsed": false,
    "pycharm": {
     "name": "#%%\n"
    }
   }
  },
  {
   "cell_type": "code",
   "execution_count": 7,
   "outputs": [
    {
     "name": "stdout",
     "output_type": "stream",
     "text": [
      "Accuracy Score: 0.905\n",
      "Recall Score: 0.897\n",
      "Precision Score: 0.927\n",
      "F1 Score: 0.912\n",
      "\n"
     ]
    }
   ],
   "source": [
    "all_scores(predicts_rfc, test_y)"
   ],
   "metadata": {
    "collapsed": false,
    "pycharm": {
     "name": "#%%\n"
    }
   }
  },
  {
   "cell_type": "code",
   "execution_count": null,
   "outputs": [],
   "source": [
    "from sklearn.model_selection import cross_validate, KFold\n",
    "\n",
    "validation_results = cross_validate(random_forest_classifier,x,y,cv=KFold(n_splits=10, shuffle=True))\n",
    "scores(validation_results)\n",
    "validation_results_df = pd.DataFrame(validation_results)\n",
    "validation_results_df"
   ],
   "metadata": {
    "collapsed": false,
    "pycharm": {
     "name": "#%%\n"
    }
   }
  },
  {
   "cell_type": "code",
   "execution_count": 8,
   "outputs": [],
   "source": [
    "from scipy.stats import randint\n",
    "from sklearn.model_selection import RandomizedSearchCV, KFold\n",
    "tt_x, val_x, tt_y, val_y = train_test_split(x, y, test_size=0.2, stratify=y)\n",
    "### hiper-parametrização (?)\n",
    "parametros_para_RSCV = {\n",
    "    \"max_depth\" : randint(3, 100),\n",
    "    \"min_samples_split\": randint(2, 16),\n",
    "    \"min_samples_leaf\": randint(1, 16),\n",
    "    \"bootstrap\" : [True, False],\n",
    "    \"criterion\": [\"gini\", \"entropy\"]\n",
    "}\n",
    "\n",
    "RSCross_validation = RandomizedSearchCV(RandomForestClassifier(n_estimators=10), parametros_para_RSCV, n_iter= 16, cv = KFold(n_splits = 5, shuffle=True))\n",
    "RSCross_validation.fit(tt_x,tt_y)\n",
    "resultados = pd.DataFrame(RSCross_validation.cv_results_)"
   ],
   "metadata": {
    "collapsed": false,
    "pycharm": {
     "name": "#%%\n"
    }
   }
  },
  {
   "cell_type": "code",
   "execution_count": 9,
   "outputs": [
    {
     "name": "stdout",
     "output_type": "stream",
     "text": [
      "Accuracy Score: 0.902\n",
      "Recall Score: 0.902\n",
      "Precision Score: 0.916\n",
      "F1 Score: 0.909\n",
      "\n"
     ]
    }
   ],
   "source": [
    "best_random_forest = RSCross_validation.best_estimator_\n",
    "predicts_rfc = best_random_forest.predict(val_x)\n",
    "all_scores(predicts_rfc, val_y)"
   ],
   "metadata": {
    "collapsed": false,
    "pycharm": {
     "name": "#%%\n"
    }
   }
  },
  {
   "cell_type": "code",
   "execution_count": 10,
   "outputs": [
    {
     "data": {
      "text/plain": "RandomForestClassifier(criterion='entropy', max_depth=96, min_samples_split=9,\n                       n_estimators=10)",
      "text/html": "<style>#sk-container-id-1 {color: black;background-color: white;}#sk-container-id-1 pre{padding: 0;}#sk-container-id-1 div.sk-toggleable {background-color: white;}#sk-container-id-1 label.sk-toggleable__label {cursor: pointer;display: block;width: 100%;margin-bottom: 0;padding: 0.3em;box-sizing: border-box;text-align: center;}#sk-container-id-1 label.sk-toggleable__label-arrow:before {content: \"▸\";float: left;margin-right: 0.25em;color: #696969;}#sk-container-id-1 label.sk-toggleable__label-arrow:hover:before {color: black;}#sk-container-id-1 div.sk-estimator:hover label.sk-toggleable__label-arrow:before {color: black;}#sk-container-id-1 div.sk-toggleable__content {max-height: 0;max-width: 0;overflow: hidden;text-align: left;background-color: #f0f8ff;}#sk-container-id-1 div.sk-toggleable__content pre {margin: 0.2em;color: black;border-radius: 0.25em;background-color: #f0f8ff;}#sk-container-id-1 input.sk-toggleable__control:checked~div.sk-toggleable__content {max-height: 200px;max-width: 100%;overflow: auto;}#sk-container-id-1 input.sk-toggleable__control:checked~label.sk-toggleable__label-arrow:before {content: \"▾\";}#sk-container-id-1 div.sk-estimator input.sk-toggleable__control:checked~label.sk-toggleable__label {background-color: #d4ebff;}#sk-container-id-1 div.sk-label input.sk-toggleable__control:checked~label.sk-toggleable__label {background-color: #d4ebff;}#sk-container-id-1 input.sk-hidden--visually {border: 0;clip: rect(1px 1px 1px 1px);clip: rect(1px, 1px, 1px, 1px);height: 1px;margin: -1px;overflow: hidden;padding: 0;position: absolute;width: 1px;}#sk-container-id-1 div.sk-estimator {font-family: monospace;background-color: #f0f8ff;border: 1px dotted black;border-radius: 0.25em;box-sizing: border-box;margin-bottom: 0.5em;}#sk-container-id-1 div.sk-estimator:hover {background-color: #d4ebff;}#sk-container-id-1 div.sk-parallel-item::after {content: \"\";width: 100%;border-bottom: 1px solid gray;flex-grow: 1;}#sk-container-id-1 div.sk-label:hover label.sk-toggleable__label {background-color: #d4ebff;}#sk-container-id-1 div.sk-serial::before {content: \"\";position: absolute;border-left: 1px solid gray;box-sizing: border-box;top: 0;bottom: 0;left: 50%;z-index: 0;}#sk-container-id-1 div.sk-serial {display: flex;flex-direction: column;align-items: center;background-color: white;padding-right: 0.2em;padding-left: 0.2em;position: relative;}#sk-container-id-1 div.sk-item {position: relative;z-index: 1;}#sk-container-id-1 div.sk-parallel {display: flex;align-items: stretch;justify-content: center;background-color: white;position: relative;}#sk-container-id-1 div.sk-item::before, #sk-container-id-1 div.sk-parallel-item::before {content: \"\";position: absolute;border-left: 1px solid gray;box-sizing: border-box;top: 0;bottom: 0;left: 50%;z-index: -1;}#sk-container-id-1 div.sk-parallel-item {display: flex;flex-direction: column;z-index: 1;position: relative;background-color: white;}#sk-container-id-1 div.sk-parallel-item:first-child::after {align-self: flex-end;width: 50%;}#sk-container-id-1 div.sk-parallel-item:last-child::after {align-self: flex-start;width: 50%;}#sk-container-id-1 div.sk-parallel-item:only-child::after {width: 0;}#sk-container-id-1 div.sk-dashed-wrapped {border: 1px dashed gray;margin: 0 0.4em 0.5em 0.4em;box-sizing: border-box;padding-bottom: 0.4em;background-color: white;}#sk-container-id-1 div.sk-label label {font-family: monospace;font-weight: bold;display: inline-block;line-height: 1.2em;}#sk-container-id-1 div.sk-label-container {text-align: center;}#sk-container-id-1 div.sk-container {/* jupyter's `normalize.less` sets `[hidden] { display: none; }` but bootstrap.min.css set `[hidden] { display: none !important; }` so we also need the `!important` here to be able to override the default hidden behavior on the sphinx rendered scikit-learn.org. See: https://github.com/scikit-learn/scikit-learn/issues/21755 */display: inline-block !important;position: relative;}#sk-container-id-1 div.sk-text-repr-fallback {display: none;}</style><div id=\"sk-container-id-1\" class=\"sk-top-container\"><div class=\"sk-text-repr-fallback\"><pre>RandomForestClassifier(criterion=&#x27;entropy&#x27;, max_depth=96, min_samples_split=9,\n                       n_estimators=10)</pre><b>In a Jupyter environment, please rerun this cell to show the HTML representation or trust the notebook. <br />On GitHub, the HTML representation is unable to render, please try loading this page with nbviewer.org.</b></div><div class=\"sk-container\" hidden><div class=\"sk-item\"><div class=\"sk-estimator sk-toggleable\"><input class=\"sk-toggleable__control sk-hidden--visually\" id=\"sk-estimator-id-1\" type=\"checkbox\" checked><label for=\"sk-estimator-id-1\" class=\"sk-toggleable__label sk-toggleable__label-arrow\">RandomForestClassifier</label><div class=\"sk-toggleable__content\"><pre>RandomForestClassifier(criterion=&#x27;entropy&#x27;, max_depth=96, min_samples_split=9,\n                       n_estimators=10)</pre></div></div></div></div></div>"
     },
     "execution_count": 10,
     "metadata": {},
     "output_type": "execute_result"
    }
   ],
   "source": [
    "best_random_forest"
   ],
   "metadata": {
    "collapsed": false,
    "pycharm": {
     "name": "#%%\n"
    }
   }
  },
  {
   "cell_type": "code",
   "execution_count": null,
   "outputs": [],
   "source": [
    "feature_importances = random_forest_classifier.feature_importances_\n",
    "feature_importances"
   ],
   "metadata": {
    "collapsed": false,
    "pycharm": {
     "name": "#%%\n"
    }
   }
  },
  {
   "cell_type": "code",
   "execution_count": null,
   "outputs": [],
   "source": [
    "from matplotlib import pyplot as plt\n",
    "\n",
    "plt.pie(feature_importances)"
   ],
   "metadata": {
    "collapsed": false,
    "pycharm": {
     "name": "#%%\n"
    }
   }
  },
  {
   "cell_type": "code",
   "execution_count": null,
   "outputs": [],
   "source": [
    "from sklearn.inspection import permutation_importance\n",
    "permutation_importance = permutation_importance(best_random_forest, x, y)"
   ],
   "metadata": {
    "collapsed": false,
    "pycharm": {
     "name": "#%%\n"
    }
   }
  },
  {
   "cell_type": "code",
   "execution_count": null,
   "outputs": [],
   "source": [
    "permutation_importance_df = pd.Series(permutation_importance.importances_mean, index=pd.Series([col for col in x.columns]))\n",
    "permutation_importance_df*100"
   ],
   "metadata": {
    "collapsed": false,
    "pycharm": {
     "name": "#%%\n"
    }
   }
  },
  {
   "cell_type": "code",
   "execution_count": null,
   "outputs": [],
   "source": [
    "import matplotlib.pyplot as plt\n",
    "plt.rcParams['figure.figsize'] = (10, 8)\n",
    "plt.pie(permutation_importance_df)\n",
    "plt.xlabel(\"Permutation Importance\")"
   ],
   "metadata": {
    "collapsed": false,
    "pycharm": {
     "name": "#%%\n"
    }
   }
  }
 ],
 "metadata": {
  "kernelspec": {
   "display_name": "Python 3",
   "language": "python",
   "name": "python3"
  },
  "language_info": {
   "codemirror_mode": {
    "name": "ipython",
    "version": 2
   },
   "file_extension": ".py",
   "mimetype": "text/x-python",
   "name": "python",
   "nbconvert_exporter": "python",
   "pygments_lexer": "ipython2",
   "version": "2.7.6"
  }
 },
 "nbformat": 4,
 "nbformat_minor": 0
}